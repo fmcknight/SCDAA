{
 "cells": [
  {
   "cell_type": "markdown",
   "metadata": {},
   "source": [
    "# SCADAA Report"
   ]
  },
  {
   "cell_type": "code",
   "execution_count": 1,
   "metadata": {},
   "outputs": [],
   "source": [
    "import numpy as np\n",
    "from numpy.linalg import inv\n",
    "from scipy.integrate import odeint, solve_ivp, quad\n",
    "from scipy.interpolate import PchipInterpolator\n",
    "import matplotlib.pyplot as plt\n",
    "import torch\n",
    "import torch.nn as nn\n",
    "import torch.nn.functional as F\n",
    "import torch.optim as optim\n",
    "\n",
    "from exercise2 import DGM_Layer, Net_DGM\n",
    "from exercise2 import FFN\n"
   ]
  },
  {
   "cell_type": "markdown",
   "metadata": {},
   "source": [
    "## Exercise 1.1"
   ]
  },
  {
   "cell_type": "code",
   "execution_count": 2,
   "metadata": {},
   "outputs": [],
   "source": [
    "class LQR:\n",
    "    def __init__(self, H, M, sigma, C, D, R, T) -> None:\n",
    "        self.H = H \n",
    "        self.M = M\n",
    "        self.sigma = sigma\n",
    "        self.C = C \n",
    "        self.D = D \n",
    "        self.R = R\n",
    "        self.T = T\n",
    "    \n",
    "\n",
    "    def riccati_ode(self, t, S_flat):\n",
    "        S = torch.tensor(S_flat, dtype=torch.float32).reshape((2, 2))  # Convert S_flat to a PyTorch tensor\n",
    "        dS = (-2 * (self.H.t() @ S) + S @ (self.M) @ (torch.inverse(self.D)) @ (np.transpose(self.M)) @ S - self.C)\n",
    "        return dS.flatten().detach().numpy()\n",
    " \n",
    "\n",
    "    def solve_ricatti_ode(self, time_grid):\n",
    "        \"\"\"\n",
    "        Solves the LQR problem by integrating the \n",
    "        Riccati equation backwards in time.\n",
    "        \"\"\"\n",
    "        # Time points (reversed for backward integration)\n",
    "        # t_points = np.linspace(0, self.T, 1000)[::-1]  \n",
    "        intial_cond = self.R.flatten().detach().numpy()\n",
    "\n",
    "        sol = solve_ivp(\n",
    "            self.riccati_ode, [self.T.item(), time_grid[0].item()], \n",
    "            intial_cond, t_eval=time_grid.numpy()[::-1], method='RK45'\n",
    "            )\n",
    "        \n",
    "        S = torch.tensor(sol.y)\n",
    "\n",
    "        return S\n",
    "\n",
    "    def visualize_results(self, t_points, S):\n",
    "        \"\"\"\n",
    "        Visualizes the solution of the Riccati equation \n",
    "        or the state/control trajectories.\n",
    "        \"\"\"\n",
    "        # S_00 = [s[0, 0].item() for s in S]\n",
    "        plt.plot(t_points, S[0, :])\n",
    "        plt.xlabel('Time')\n",
    "        plt.ylabel('S[0,0]')\n",
    "        plt.title('Solution of Riccati Equation over Time')\n",
    "        plt.show()\n",
    "       \n",
    "\n",
    "    def markov_control(self, t_batch, x_batch):\n",
    "        a=torch.tensor([])\n",
    "        for t in range(len(t_batch)):\n",
    "            time_grid = torch.linspace(float(t_batch[t]), self.T, 1000, dtype=torch.float32)\n",
    "            S = self.solve_ricatti_ode(time_grid).T.reshape(len(time_grid),2,2).float()\n",
    "            S_ordered =torch.flip(S,dims=[0])\n",
    "            x_batch_n = x_batch[t]\n",
    "            a_ = -((torch.inverse(self.D.float()) @ self.M.T) @ S_ordered[0]) @ x_batch_n.T\n",
    "            a=torch.cat((a,a_.unsqueeze(0))) \n",
    "        return a.transpose(1,2)\n",
    "\n",
    "\n",
    "    def value_function(self, t_batch, x_batch):\n",
    "        v=torch.tensor([])\n",
    "        for t in range(len(t_batch)):\n",
    "            time_grid = torch.linspace(float(t_batch[t]), self.T, 1000, dtype=torch.float32)\n",
    "            S = self.solve_ricatti_ode(time_grid).T.reshape(len(time_grid),2,2).float()\n",
    "            S_ordered =torch.flip(S,dims=[0])\n",
    "            sigma = self.sigma\n",
    "            x_batch_n = x_batch[t]\n",
    "\n",
    "            # Compute the first term: x.transpose(S)x\n",
    "            x_S_x = torch.matmul(torch.matmul(x_batch_n.unsqueeze(0), S_ordered[0]), x_batch_n.unsqueeze(0).transpose(-1, -2)).squeeze()\n",
    "\n",
    "        # Compute the integral term using Einstein summation notation with smaller time steps\n",
    "            integral_term = 0\n",
    "            for i in range(len(time_grid) - 1):\n",
    "                dt = time_grid[i + 1] - time_grid[i]\n",
    "                int_term=sigma@sigma.T@S_ordered[i]\n",
    "                trace_term = torch.einsum('bij->b',int_term.unsqueeze(0))\n",
    "                integral_term += trace_term * dt\n",
    "\n",
    "            # Compute the total value function: v(t, x) = x.transpose(S)x + trace_term\n",
    "            v=torch.cat((v,x_S_x + integral_term)) \n",
    "        return v\n"
   ]
  },
  {
   "cell_type": "code",
   "execution_count": 3,
   "metadata": {},
   "outputs": [
    {
     "data": {
      "image/png": "[encoded data removed]",
      "text/plain": [
       "<Figure size 640x480 with 1 Axes>"
      ]
     },
     "metadata": {},
     "output_type": "display_data"
    },
    {
     "name": "stdout",
     "output_type": "stream",
     "text": [
      "Optimal Markov Control:\n",
      "tensor([[[-2.5995, -2.5995]]])\n",
      "Value Function:\n",
      "tensor([5.1990])\n"
     ]
    }
   ],
   "source": [
    "# Example Usage:\n",
    "# Define problem matrices\n",
    "# H = torch.tensor([[1, 0], [0, 1]], dtype=torch.float32)\n",
    "# M = torch.tensor([[1, 0], [0, 1]], dtype=torch.float32)\n",
    "# D = torch.tensor([[1, 0], [0, 1]], dtype=torch.float32)\n",
    "# C = torch.tensor([[0, 0], [0, 0]], dtype=torch.float32)\n",
    "# R = torch.tensor([[1, 0], [0, 1]], dtype=torch.float32)\n",
    "# sigma = torch.tensor([[1, 0], [0, 1]], dtype=torch.float32)\n",
    "# T = torch.tensor(100, dtype=torch.float32)\n",
    "\n",
    "#Initial Conditions\n",
    "H = torch.tensor([[1, 0], [0, 1]], dtype=torch.float32)*0.1\n",
    "M = torch.tensor([[1, 0], [0, 1]], dtype=torch.float32)\n",
    "sigma = torch.tensor([[1, 0], [0, 1]], dtype=torch.float32)*0.001\n",
    "D = torch.tensor([[1, 0], [0, 1]], dtype=torch.float32)\n",
    "T = torch.tensor(1.0, dtype=torch.float32)\n",
    "x0 = torch.tensor([1, 1], dtype=torch.float32)\n",
    "t=torch.tensor(0.7, dtype=torch.float32)\n",
    "C = torch.tensor([[1, 0], [0, 1]], dtype=torch.float32)*0\n",
    "R = torch.tensor([[1, 0], [0, 1]], dtype=torch.float32)*10\n",
    "\n",
    "# Initialize LQRController\n",
    "# controller = LQRController(H, M, D, C, R, T)\n",
    "\n",
    "# Define time grid\n",
    "time_grid_S = torch.linspace(0, T, 10000)\n",
    "\n",
    "lqr_system = LQR(H, M, sigma, C, D, R, T)\n",
    "S_solution = lqr_system.solve_ricatti_ode(time_grid_S)\n",
    "S_sol_v2 = S_solution.T.reshape(len(time_grid_S),2,2)\n",
    "S_sol_ordered =torch.flip(S_sol_v2,dims=[0])\n",
    "lqr_system.visualize_results(torch.flip(time_grid_S, [0]), S_solution)\n",
    "\n",
    "# Create sample input tensors\n",
    "# t_batch = torch.tensor([0.5, 0.8, 1.0], dtype=torch.float32)  # Sample time values\n",
    "# x_batch = torch.tensor([\n",
    "#     [[1.0, 2.0]],  \n",
    "#     [[1.0, 0.0]], \n",
    "#     [[3.0, 2.0]]  \n",
    "# ], dtype=torch.float32)  # Sample spatial values\n",
    "\n",
    "t_batch = torch.tensor([0.7], dtype=torch.float32)  # Sample time values\n",
    "x_batch = torch.tensor([\n",
    "    [[1.0, 1.0]] \n",
    "], dtype=torch.float32)  # Sample spatial values\n",
    "\n",
    "# Compute the markov control\n",
    "markov_control = lqr_system.markov_control(t_batch, x_batch)\n",
    "\n",
    "# Print the computed value function\n",
    "print(\"Optimal Markov Control:\")\n",
    "print(markov_control)\n",
    "\n",
    "# Compute the value function\n",
    "value_func = lqr_system.value_function(t_batch, x_batch)\n",
    "\n",
    "# Print the computed value function\n",
    "print(\"Value Function:\")\n",
    "print(value_func)\n",
    "\n"
   ]
  },
  {
   "cell_type": "code",
   "execution_count": 25,
   "metadata": {
    "scrolled": true
   },
   "outputs": [
    {
     "data": {
      "text/plain": [
       "(torch.Size([1]), torch.Size([1, 1, 2]))"
      ]
     },
     "execution_count": 25,
     "metadata": {},
     "output_type": "execute_result"
    }
   ],
   "source": [
    "t_batch.shape, x_batch.shape"
   ]
  },
  {
   "cell_type": "code",
   "execution_count": 27,
   "metadata": {
    "scrolled": true
   },
   "outputs": [],
   "source": []
  },
  {
   "cell_type": "markdown",
   "metadata": {},
   "source": [
    "## Exercise 1.2"
   ]
  },
  {
   "cell_type": "markdown",
   "metadata": {},
   "source": [
    "1. Error"
   ]
  },
  {
   "cell_type": "markdown",
   "metadata": {},
   "source": [
    "2. Time"
   ]
  },
  {
   "cell_type": "code",
   "execution_count": 4,
   "metadata": {},
   "outputs": [],
   "source": [
    "#Create error function \n",
    "def calculate_error(X):\n",
    "    #We might want to have a better error function tbh\n",
    "    error = np.linalg.norm(X - np.zeros(X.shape))\n",
    "    return error\n"
   ]
  },
  {
   "cell_type": "code",
   "execution_count": 15,
   "metadata": {},
   "outputs": [],
   "source": [
    "## REPLACE THIS CHUNK OF CODE!\n",
    "#Initial Conditions\n",
    "H = torch.tensor([[1, 0], [0, 1]], dtype=torch.float32)*0.1\n",
    "M = torch.tensor([[1, 0], [0, 1]], dtype=torch.float32)\n",
    "sigma = torch.tensor([[1, 0], [0, 1]], dtype=torch.float32)*0.001\n",
    "D = torch.tensor([[1, 0], [0, 1]], dtype=torch.float32)\n",
    "T = torch.tensor(1.0, dtype=torch.float32)\n",
    "x0 = torch.tensor([1, 1], dtype=torch.float32)\n",
    "t=torch.tensor(0.7, dtype=torch.float32)\n",
    "C = torch.tensor([[1, 0], [0, 1]], dtype=torch.float32)*0\n",
    "R = torch.tensor([[1, 0], [0, 1]], dtype=torch.float32)*10\n",
    "\n",
    "\n",
    "# Define time grid\n",
    "time_grid_S = torch.linspace(0, T, 10000)\n",
    "lqr_system = LQR(H, M, sigma, C, D, R, T)\n",
    "S_solution = lqr_system.solve_ricatti_ode(time_grid_S)\n",
    "S_sol_v2 = S_solution.T.reshape(len(time_grid_S),2,2).float()\n",
    "S_sol_ordered =torch.flip(S_sol_v2,dims=[0])\n",
    "\n",
    "# Code for spline on tbatch\n",
    "gen_s_spline = PchipInterpolator((time_grid_S).numpy(), S_sol_ordered)\n"
   ]
  },
  {
   "cell_type": "code",
   "execution_count": 59,
   "metadata": {},
   "outputs": [
    {
     "name": "stdout",
     "output_type": "stream",
     "text": [
      "tensor([[[1.0000, 1.0000]],\n",
      "\n",
      "        [[0.9907, 0.9911]],\n",
      "\n",
      "        [[0.9817, 0.9819]],\n",
      "\n",
      "        [[0.9727, 0.9730]],\n",
      "\n",
      "        [[0.9640, 0.9641]],\n",
      "\n",
      "        [[0.9548, 0.9554]],\n",
      "\n",
      "        [[0.9461, 0.9465]],\n",
      "\n",
      "        [[0.9374, 0.9381]],\n",
      "\n",
      "        [[0.9287, 0.9294]],\n",
      "\n",
      "        [[0.9203, 0.9208]],\n",
      "\n",
      "        [[0.9120, 0.9126]],\n",
      "\n",
      "        [[0.9035, 0.9039]],\n",
      "\n",
      "        [[0.8953, 0.8957]],\n",
      "\n",
      "        [[0.8873, 0.8877]],\n",
      "\n",
      "        [[0.8789, 0.8793]],\n",
      "\n",
      "        [[0.8708, 0.8713]],\n",
      "\n",
      "        [[0.8630, 0.8634]],\n",
      "\n",
      "        [[0.8551, 0.8556]],\n",
      "\n",
      "        [[0.8473, 0.8475]],\n",
      "\n",
      "        [[0.8395, 0.8398]],\n",
      "\n",
      "        [[0.8318, 0.8322]],\n",
      "\n",
      "        [[0.8242, 0.8245]],\n",
      "\n",
      "        [[0.8167, 0.8171]],\n",
      "\n",
      "        [[0.8093, 0.8094]],\n",
      "\n",
      "        [[0.8019, 0.8021]],\n",
      "\n",
      "        [[0.7945, 0.7947]],\n",
      "\n",
      "        [[0.7872, 0.7874]],\n",
      "\n",
      "        [[0.7800, 0.7802]],\n",
      "\n",
      "        [[0.7728, 0.7729]],\n",
      "\n",
      "        [[0.7656, 0.7659]],\n",
      "\n",
      "        [[0.7589, 0.7591]],\n",
      "\n",
      "        [[0.7517, 0.7520]],\n",
      "\n",
      "        [[0.7450, 0.7450]],\n",
      "\n",
      "        [[0.7380, 0.7382]],\n",
      "\n",
      "        [[0.7311, 0.7316]],\n",
      "\n",
      "        [[0.7247, 0.7248]],\n",
      "\n",
      "        [[0.7179, 0.7182]],\n",
      "\n",
      "        [[0.7112, 0.7114]],\n",
      "\n",
      "        [[0.7046, 0.7049]],\n",
      "\n",
      "        [[0.6982, 0.6985]],\n",
      "\n",
      "        [[0.6919, 0.6920]],\n",
      "\n",
      "        [[0.6854, 0.6858]],\n",
      "\n",
      "        [[0.6793, 0.6795]],\n",
      "\n",
      "        [[0.6730, 0.6732]],\n",
      "\n",
      "        [[0.6669, 0.6670]],\n",
      "\n",
      "        [[0.6609, 0.6610]],\n",
      "\n",
      "        [[0.6547, 0.6549]],\n",
      "\n",
      "        [[0.6486, 0.6487]],\n",
      "\n",
      "        [[0.6426, 0.6428]],\n",
      "\n",
      "        [[0.6369, 0.6370]],\n",
      "\n",
      "        [[0.6309, 0.6312]],\n",
      "\n",
      "        [[0.6252, 0.6254]],\n",
      "\n",
      "        [[0.6196, 0.6198]],\n",
      "\n",
      "        [[0.6138, 0.6138]],\n",
      "\n",
      "        [[0.6081, 0.6083]],\n",
      "\n",
      "        [[0.6023, 0.6027]],\n",
      "\n",
      "        [[0.5969, 0.5972]],\n",
      "\n",
      "        [[0.5915, 0.5916]],\n",
      "\n",
      "        [[0.5861, 0.5862]],\n",
      "\n",
      "        [[0.5806, 0.5809]],\n",
      "\n",
      "        [[0.5752, 0.5754]],\n",
      "\n",
      "        [[0.5701, 0.5702]],\n",
      "\n",
      "        [[0.5647, 0.5649]],\n",
      "\n",
      "        [[0.5596, 0.5597]],\n",
      "\n",
      "        [[0.5544, 0.5547]],\n",
      "\n",
      "        [[0.5494, 0.5495]],\n",
      "\n",
      "        [[0.5442, 0.5444]],\n",
      "\n",
      "        [[0.5392, 0.5393]],\n",
      "\n",
      "        [[0.5343, 0.5344]],\n",
      "\n",
      "        [[0.5292, 0.5295]],\n",
      "\n",
      "        [[0.5243, 0.5246]],\n",
      "\n",
      "        [[0.5199, 0.5199]],\n",
      "\n",
      "        [[0.5149, 0.5150]],\n",
      "\n",
      "        [[0.5102, 0.5105]],\n",
      "\n",
      "        [[0.5055, 0.5057]],\n",
      "\n",
      "        [[0.5008, 0.5010]],\n",
      "\n",
      "        [[0.4962, 0.4965]],\n",
      "\n",
      "        [[0.4917, 0.4918]],\n",
      "\n",
      "        [[0.4871, 0.4872]],\n",
      "\n",
      "        [[0.4825, 0.4828]],\n",
      "\n",
      "        [[0.4782, 0.4783]],\n",
      "\n",
      "        [[0.4736, 0.4739]],\n",
      "\n",
      "        [[0.4693, 0.4695]],\n",
      "\n",
      "        [[0.4652, 0.4652]],\n",
      "\n",
      "        [[0.4609, 0.4609]],\n",
      "\n",
      "        [[0.4566, 0.4566]],\n",
      "\n",
      "        [[0.4525, 0.4526]],\n",
      "\n",
      "        [[0.4481, 0.4483]],\n",
      "\n",
      "        [[0.4440, 0.4442]],\n",
      "\n",
      "        [[0.4400, 0.4403]],\n",
      "\n",
      "        [[0.4359, 0.4361]],\n",
      "\n",
      "        [[0.4320, 0.4320]],\n",
      "\n",
      "        [[0.4278, 0.4280]],\n",
      "\n",
      "        [[0.4240, 0.4239]],\n",
      "\n",
      "        [[0.4198, 0.4200]],\n",
      "\n",
      "        [[0.4161, 0.4164]],\n",
      "\n",
      "        [[0.4123, 0.4126]],\n",
      "\n",
      "        [[0.4085, 0.4087]],\n",
      "\n",
      "        [[0.4046, 0.4048]],\n",
      "\n",
      "        [[0.4008, 0.4011]]])\n"
     ]
    },
    {
     "name": "stderr",
     "output_type": "stream",
     "text": [
      "C:\\Users\\ElvisEspinal\\AppData\\Local\\Temp\\ipykernel_9796\\2947327018.py:4: UserWarning: To copy construct from a tensor, it is recommended to use sourceTensor.clone().detach() or sourceTensor.clone().detach().requires_grad_(True), rather than torch.tensor(sourceTensor).\n",
      "  x0 = torch.tensor(x0, dtype=torch.float32).view(2, 1)\n"
     ]
    }
   ],
   "source": [
    "\n",
    "# X Generation\n",
    "def generate_x(T, N_steps, H, M, D, S_solution, sigma, x0):\n",
    "\n",
    "    x0 = torch.tensor(x0, dtype=torch.float32).view(2, 1) \n",
    "    tau = T / N_steps\n",
    "    X = x0.unsqueeze(0)\n",
    "    brownian = torch.randn(N_steps, 2, dtype=torch.float32)*torch.sqrt(tau)\n",
    "\n",
    "    for i in range(N_steps-1):\n",
    "        dw = (brownian[i+1] - brownian[i]).view(2, 1)  # Ensure dw is a 2x1 vector\n",
    "        # Calculate control action, ensuring it results in a 2x1 vector\n",
    "        a_s = -torch.inverse(D) @ M.T @ S_sol_ordered[i] @ X[-1]\n",
    "        # Update state, ensuring result is a 2x1 vector\n",
    "        next_val = X[-1] + tau * (H @ X[-1] + M @ a_s) + sigma @ dw  # Use matrix-vector product for sigma @ dw\n",
    "        \n",
    "        X=torch.cat((X,next_val.view(2, 1).unsqueeze(0))) # Ensure next_val remains a 2x1 column vector\n",
    "\n",
    "    return X.transpose(1,2)\n",
    "\n",
    "# Call the function with corrected inputs\n",
    "N_steps = 100\n",
    "result = generate_x(T, N_steps, H.float(), M.float(), D.float(), S_solution.float(), sigma.float(), x0)\n",
    "print(result)"
   ]
  },
  {
   "cell_type": "code",
   "execution_count": 60,
   "metadata": {},
   "outputs": [
    {
     "data": {
      "text/plain": [
       "tensor([[[ 1.0146,  0.0000],\n",
       "         [ 0.0000,  1.0146]],\n",
       "\n",
       "        [[ 1.0147,  0.0000],\n",
       "         [ 0.0000,  1.0147]],\n",
       "\n",
       "        [[ 1.0147,  0.0000],\n",
       "         [ 0.0000,  1.0147]],\n",
       "\n",
       "        ...,\n",
       "\n",
       "        [[ 9.9804,  0.0000],\n",
       "         [ 0.0000,  9.9804]],\n",
       "\n",
       "        [[ 9.9902,  0.0000],\n",
       "         [ 0.0000,  9.9902]],\n",
       "\n",
       "        [[10.0000,  0.0000],\n",
       "         [ 0.0000, 10.0000]]])"
      ]
     },
     "execution_count": 60,
     "metadata": {},
     "output_type": "execute_result"
    }
   ],
   "source": [
    "S_sol_ordered"
   ]
  },
  {
   "cell_type": "markdown",
   "metadata": {},
   "source": [
    "### Exercise 1.2.1"
   ]
  },
  {
   "cell_type": "markdown",
   "metadata": {},
   "source": [
    "The error will be the difference between between the cost function and the value function, and this should converge for bigger time steps."
   ]
  },
  {
   "cell_type": "markdown",
   "metadata": {},
   "source": [
    "### Exercise 1.2.2"
   ]
  },
  {
   "cell_type": "code",
   "execution_count": 61,
   "metadata": {},
   "outputs": [
    {
     "name": "stderr",
     "output_type": "stream",
     "text": [
      "C:\\Users\\ElvisEspinal\\AppData\\Local\\Temp\\ipykernel_9796\\2947327018.py:4: UserWarning: To copy construct from a tensor, it is recommended to use sourceTensor.clone().detach() or sourceTensor.clone().detach().requires_grad_(True), rather than torch.tensor(sourceTensor).\n",
      "  x0 = torch.tensor(x0, dtype=torch.float32).view(2, 1)\n"
     ]
    }
   ],
   "source": [
    "## REPLACE THIS CHUNK OF CODE!\n",
    "\n",
    "# 1.2.2 CODE DO NOT RUN IN GITHUB IF USING N_SAMPLES=100000\n",
    "\n",
    "N_samples=10 #CHANGE FOR LOCAL RUNNING\n",
    "N_steps=[1, 10, 50, 100, 500, 1000, 5000]\n",
    "cost=torch.tensor([])\n",
    "exp_cost=torch.tensor([])\n",
    "for t in range(len(N_steps)):\n",
    "    for k in range(len(t_batch)):\n",
    "        time_grid = torch.linspace(t_batch[k], T, N_steps[t]+1)\n",
    "        S_sol_cs = gen_s_spline(time_grid)\n",
    "        dt= time_grid[1:]-time_grid[:-1]\n",
    "        S_sol_cs_vals = torch.tensor(S_sol_cs,dtype=torch.float32)\n",
    "        for i in range(N_samples):\n",
    "            result = generate_x(T, N_steps[t]+1, H.float(), M.float(), D.float(), \n",
    "                                S_sol_cs_vals.float(), sigma.float(), x0)\n",
    "            alp = (-torch.inverse(D) @ M.T @ S_sol_cs_vals @result.transpose(1,2)).transpose(1,2)\n",
    "            int_ = result@C@result.transpose(1,2) + alp@D@alp.transpose(1,2)\n",
    "            J = torch.tensor(0.5)*dt@((int_.squeeze(1)[1:]+int_.squeeze(1)[:-1]))\n",
    "            cost=torch.cat((cost,J))\n",
    "    exp_cost=torch.cat((exp_cost,torch.mean(cost).unsqueeze(0)))"
   ]
  },
  {
   "cell_type": "code",
   "execution_count": 62,
   "metadata": {},
   "outputs": [
    {
     "name": "stdout",
     "output_type": "stream",
     "text": [
      "tensor([5.6737, 2.7604, 1.7063, 1.1703, 0.8313, 0.5910, 0.3143])\n"
     ]
    },
    {
     "data": {
      "image/png": "[encoded data removed]",
      "text/plain": [
       "<Figure size 640x480 with 1 Axes>"
      ]
     },
     "metadata": {},
     "output_type": "display_data"
    }
   ],
   "source": [
    "# OUR FIRST 1.2 BABY :D\n",
    "\n",
    "\n",
    "# Compute the error\n",
    "error=abs(exp_cost-value_func)\n",
    "print(error) \n",
    "#Plot the error\n",
    "plt.loglog(N_steps, error, marker='o', linestyle='-')\n",
    "plt.xlabel('Number of Steps')\n",
    "plt.ylabel('Error (Euclidean Distance from Target)')\n",
    "plt.title('Error vs. Number of Steps on a Log-Log Scale')\n",
    "plt.grid(True, which=\"both\", ls=\"--\")\n",
    "plt.show()"
   ]
  },
  {
   "cell_type": "markdown",
   "metadata": {},
   "source": [
    "Exercise 1.2.3"
   ]
  },
  {
   "cell_type": "code",
   "execution_count": 70,
   "metadata": {},
   "outputs": [
    {
     "name": "stderr",
     "output_type": "stream",
     "text": [
      "C:\\Users\\ElvisEspinal\\AppData\\Local\\Temp\\ipykernel_9796\\2947327018.py:4: UserWarning: To copy construct from a tensor, it is recommended to use sourceTensor.clone().detach() or sourceTensor.clone().detach().requires_grad_(True), rather than torch.tensor(sourceTensor).\n",
      "  x0 = torch.tensor(x0, dtype=torch.float32).view(2, 1)\n"
     ]
    }
   ],
   "source": [
    "## REPLACE THIS CHUNK OF CODE!\n",
    "\n",
    "# 1.2.3 CODE DO NOT RUN IN GITHUB IF USING N_SAMPLES=100000\n",
    "\n",
    "#N_samples=[10, 50, 100, 500, 1000, 5000, 10000, 50000, 100000] #DO NOT RUN\n",
    "N_samples = [10,50,100,500]\n",
    "N_steps = 5000\n",
    "cost_samples = torch.tensor([])\n",
    "exp_cost_samples = torch.tensor([])\n",
    "\n",
    "# Time grid specifications\n",
    "time_grid = torch.linspace(0, T, N_steps+1)\n",
    "dt = time_grid[1:]-time_grid[:-1]\n",
    "S_sol_cs = gen_s_spline(time_grid)\n",
    "S_sol_cs_vals = torch.tensor(S_sol_cs,dtype=torch.float32)\n",
    "\n",
    "for j in range(len(N_samples)):\n",
    "    for i in range(N_samples[j]):\n",
    "        result = generate_x(T, N_steps+1, H.float(), M.float(), D.float(), \n",
    "        S_sol_cs_vals.float(), sigma.float(), x0)\n",
    "\n",
    "        alp = (-torch.inverse(D) @ M.T @ S_sol_cs_vals @result.transpose(1,2)).transpose(1,2)\n",
    "        int_ = result@C@result.transpose(1,2) + alp@D@alp.transpose(1,2)\n",
    "\n",
    "        J = result[-1]@R@result[-1].T + torch.tensor(0.5)*dt@((int_.squeeze(1)[1:]+int_.squeeze(1)[:-1]))\n",
    "        cost_samples=torch.cat((cost_samples,J))\n",
    "    \n",
    "    exp_cost_samples=torch.cat((exp_cost_samples,torch.mean(cost_samples).unsqueeze(0)))"
   ]
  },
  {
   "cell_type": "code",
   "execution_count": 71,
   "metadata": {},
   "outputs": [
    {
     "name": "stdout",
     "output_type": "stream",
     "text": [
      "tensor([0.0918, 0.0918, 0.0918, 0.0918])\n"
     ]
    },
    {
     "data": {
      "image/png": "[encoded data removed]",
      "text/plain": [
       "<Figure size 640x480 with 1 Axes>"
      ]
     },
     "metadata": {},
     "output_type": "display_data"
    }
   ],
   "source": [
    "# OUR FIRST 1.2.3 BABY :D\n",
    "\n",
    "\n",
    "# Compute the error\n",
    "error_samples = abs(exp_cost_samples-value_func)\n",
    "print(error_samples) # why is the first one better than the second?\n",
    "\n",
    "#Plot the error\n",
    "plt.plot(N_samples, error_samples, marker='o', linestyle='-')\n",
    "plt.xlabel('Number of Steps')\n",
    "plt.ylabel('Error (Euclidean Distance from Target)')\n",
    "plt.title('Error vs. Number of Steps on a Log-Log Scale 1.2.3')\n",
    "plt.grid(True, which=\"both\", ls=\"--\")\n",
    "plt.show()\n",
    "\n"
   ]
  },
  {
   "cell_type": "markdown",
   "metadata": {},
   "source": [
    "Exercise 2"
   ]
  },
  {
   "cell_type": "code",
   "execution_count": 15,
   "metadata": {},
   "outputs": [],
   "source": [
    "# Function to generate training data\n",
    "def generate_training_data(T, num_samples):\n",
    "    t = torch.tensor(np.random.uniform(0, T, num_samples), dtype=torch.float32)\n",
    "    x = torch.tensor(np.random.uniform(-3, 3, (num_samples, 2)), dtype=torch.float32).unsqueeze(-1).transpose(1,2)\n",
    "    return t, x"
   ]
  },
  {
   "cell_type": "code",
   "execution_count": 16,
   "metadata": {},
   "outputs": [
    {
     "name": "stdout",
     "output_type": "stream",
     "text": [
      "Epoch 0, Loss: 137.22332763671875\n",
      "Epoch 100, Loss: 0.0017869403818622231\n",
      "Epoch 200, Loss: 2.157328708563e-05\n",
      "Epoch 300, Loss: 7.710409590799827e-07\n"
     ]
    },
    {
     "data": {
      "image/png": "[encoded data removed]",
      "text/plain": [
       "<Figure size 640x480 with 1 Axes>"
      ]
     },
     "metadata": {},
     "output_type": "display_data"
    }
   ],
   "source": [
    "# Function to train the neural network\n",
    "def train_net_dgm(net_dgm, t_train, x_train, epochs=400, lr=0.001):\n",
    "    optimizer = optim.Adam(net_dgm.parameters(), lr=lr)\n",
    "    criterion = nn.MSELoss()\n",
    "    losses = np.array([])\n",
    "\n",
    "    for epoch in range(epochs):\n",
    "        optimizer.zero_grad()\n",
    "        v_real=lqr_system.value_function(t_train, x_train).unsqueeze(1)\n",
    "        v_pred = net_dgm(t_train.unsqueeze(1),x_train.view(num_samples,2))  # Predict value function\n",
    "        loss = criterion(v_pred, v_real)  # Compute loss\n",
    "        loss.backward()\n",
    "        optimizer.step()\n",
    "        losses= np.append(losses,loss.item())\n",
    "\n",
    "        if epoch % 100 == 0:\n",
    "            print(f'Epoch {epoch}, Loss: {loss.item()}')\n",
    "\n",
    "    return losses\n",
    "\n",
    "# Generate training data\n",
    "T = 1\n",
    "num_samples = 10\n",
    "t_train, x_train = generate_training_data(T, num_samples)\n",
    "vf=lqr_system.value_function(t_train, x_train)\n",
    "\n",
    "# Initialize the neural network\n",
    "net_dgm = Net_DGM(dim_x=2, dim_S=100, hidden_size=100)\n",
    "\n",
    "# Train the neural network\n",
    "losses = train_net_dgm(net_dgm, t_train, x_train)\n",
    "\n",
    "# Plot the training loss\n",
    "plt.plot(losses)\n",
    "plt.xlabel('Epochs')\n",
    "plt.ylabel('Loss')\n",
    "plt.title('Training Loss')\n",
    "plt.show()\n"
   ]
  },
  {
   "cell_type": "code",
   "execution_count": 17,
   "metadata": {},
   "outputs": [
    {
     "data": {
      "text/plain": [
       "tensor([[ 0.2311,  0.4417, -2.7778],\n",
       "        [ 0.8127, -1.7904, -1.9765],\n",
       "        [ 0.1914, -1.0362,  2.0201],\n",
       "        [ 0.0202,  0.9344, -1.8408],\n",
       "        [ 0.7382,  2.2740,  1.0044],\n",
       "        [ 0.4831, -0.5127, -0.8340],\n",
       "        [ 0.0180,  1.6332, -0.5443],\n",
       "        [ 0.3227,  2.7222, -1.2872],\n",
       "        [ 0.3760, -2.2759, -0.6764],\n",
       "        [ 0.5005, -0.2527, -1.2945]])"
      ]
     },
     "execution_count": 17,
     "metadata": {},
     "output_type": "execute_result"
    }
   ],
   "source": [
    "torch.cat([t_train.unsqueeze(1),x_train.view(10,2)],1)"
   ]
  },
  {
   "cell_type": "code",
   "execution_count": 18,
   "metadata": {},
   "outputs": [
    {
     "name": "stdout",
     "output_type": "stream",
     "text": [
      "tensor([[[-2.1080, -0.3326]],\n",
      "\n",
      "        [[ 6.3235,  4.3605]],\n",
      "\n",
      "        [[ 1.0897, -2.2867]],\n",
      "\n",
      "        [[ 0.0996,  2.4775]],\n",
      "\n",
      "        [[-0.9966,  3.9470]],\n",
      "\n",
      "        [[ 3.1782,  0.8032]],\n",
      "\n",
      "        [[-0.3669,  2.9157]],\n",
      "\n",
      "        [[18.2301, -6.8415]],\n",
      "\n",
      "        [[ 0.9184,  0.6994]],\n",
      "\n",
      "        [[ 2.0601, -0.1760]]])\n"
     ]
    },
    {
     "ename": "TypeError",
     "evalue": "FFN.forward() takes 2 positional arguments but 3 were given",
     "output_type": "error",
     "traceback": [
      "\u001b[1;31m---------------------------------------------------------------------------\u001b[0m",
      "\u001b[1;31mTypeError\u001b[0m                                 Traceback (most recent call last)",
      "Cell \u001b[1;32mIn[18], line 36\u001b[0m\n\u001b[0;32m     33\u001b[0m net_ffn \u001b[38;5;241m=\u001b[39m FFN(sizes)\n\u001b[0;32m     35\u001b[0m \u001b[38;5;66;03m# Train the neural network\u001b[39;00m\n\u001b[1;32m---> 36\u001b[0m losses \u001b[38;5;241m=\u001b[39m \u001b[43mtrain_ffn_net\u001b[49m\u001b[43m(\u001b[49m\u001b[43mnet_ffn\u001b[49m\u001b[43m,\u001b[49m\u001b[43m \u001b[49m\u001b[43mt_train\u001b[49m\u001b[43m,\u001b[49m\u001b[43m \u001b[49m\u001b[43mx_train\u001b[49m\u001b[43m)\u001b[49m\n\u001b[0;32m     38\u001b[0m \u001b[38;5;66;03m# Plot the training loss\u001b[39;00m\n\u001b[0;32m     39\u001b[0m plt\u001b[38;5;241m.\u001b[39mplot(losses)\n",
      "Cell \u001b[1;32mIn[18], line 12\u001b[0m, in \u001b[0;36mtrain_ffn_net\u001b[1;34m(net_ffn, t_train, x_train, epochs, lr)\u001b[0m\n\u001b[0;32m     10\u001b[0m optimizer\u001b[38;5;241m.\u001b[39mzero_grad()\n\u001b[0;32m     11\u001b[0m a_real\u001b[38;5;241m=\u001b[39mlqr_system\u001b[38;5;241m.\u001b[39mmarkov_control(t_train, x_train)\u001b[38;5;241m.\u001b[39msqueeze(\u001b[38;5;241m1\u001b[39m)\n\u001b[1;32m---> 12\u001b[0m a_pred \u001b[38;5;241m=\u001b[39m \u001b[43mnet_ffn\u001b[49m\u001b[43m(\u001b[49m\u001b[43mt_train\u001b[49m\u001b[38;5;241;43m.\u001b[39;49m\u001b[43munsqueeze\u001b[49m\u001b[43m(\u001b[49m\u001b[38;5;241;43m1\u001b[39;49m\u001b[43m)\u001b[49m\u001b[43m,\u001b[49m\u001b[43mx_train\u001b[49m\u001b[38;5;241;43m.\u001b[39;49m\u001b[43mview\u001b[49m\u001b[43m(\u001b[49m\u001b[43mnum_samples\u001b[49m\u001b[43m,\u001b[49m\u001b[38;5;241;43m2\u001b[39;49m\u001b[43m)\u001b[49m\u001b[43m)\u001b[49m  \u001b[38;5;66;03m# Predict markov control\u001b[39;00m\n\u001b[0;32m     13\u001b[0m loss \u001b[38;5;241m=\u001b[39m criterion(a_pred, a_real)\n\u001b[0;32m     14\u001b[0m loss\u001b[38;5;241m.\u001b[39mbackward()\n",
      "File \u001b[1;32m~\\anaconda3\\lib\\site-packages\\torch\\nn\\modules\\module.py:1511\u001b[0m, in \u001b[0;36mModule._wrapped_call_impl\u001b[1;34m(self, *args, **kwargs)\u001b[0m\n\u001b[0;32m   1509\u001b[0m     \u001b[38;5;28;01mreturn\u001b[39;00m \u001b[38;5;28mself\u001b[39m\u001b[38;5;241m.\u001b[39m_compiled_call_impl(\u001b[38;5;241m*\u001b[39margs, \u001b[38;5;241m*\u001b[39m\u001b[38;5;241m*\u001b[39mkwargs)  \u001b[38;5;66;03m# type: ignore[misc]\u001b[39;00m\n\u001b[0;32m   1510\u001b[0m \u001b[38;5;28;01melse\u001b[39;00m:\n\u001b[1;32m-> 1511\u001b[0m     \u001b[38;5;28;01mreturn\u001b[39;00m \u001b[38;5;28mself\u001b[39m\u001b[38;5;241m.\u001b[39m_call_impl(\u001b[38;5;241m*\u001b[39margs, \u001b[38;5;241m*\u001b[39m\u001b[38;5;241m*\u001b[39mkwargs)\n",
      "File \u001b[1;32m~\\anaconda3\\lib\\site-packages\\torch\\nn\\modules\\module.py:1520\u001b[0m, in \u001b[0;36mModule._call_impl\u001b[1;34m(self, *args, **kwargs)\u001b[0m\n\u001b[0;32m   1515\u001b[0m \u001b[38;5;66;03m# If we don't have any hooks, we want to skip the rest of the logic in\u001b[39;00m\n\u001b[0;32m   1516\u001b[0m \u001b[38;5;66;03m# this function, and just call forward.\u001b[39;00m\n\u001b[0;32m   1517\u001b[0m \u001b[38;5;28;01mif\u001b[39;00m \u001b[38;5;129;01mnot\u001b[39;00m (\u001b[38;5;28mself\u001b[39m\u001b[38;5;241m.\u001b[39m_backward_hooks \u001b[38;5;129;01mor\u001b[39;00m \u001b[38;5;28mself\u001b[39m\u001b[38;5;241m.\u001b[39m_backward_pre_hooks \u001b[38;5;129;01mor\u001b[39;00m \u001b[38;5;28mself\u001b[39m\u001b[38;5;241m.\u001b[39m_forward_hooks \u001b[38;5;129;01mor\u001b[39;00m \u001b[38;5;28mself\u001b[39m\u001b[38;5;241m.\u001b[39m_forward_pre_hooks\n\u001b[0;32m   1518\u001b[0m         \u001b[38;5;129;01mor\u001b[39;00m _global_backward_pre_hooks \u001b[38;5;129;01mor\u001b[39;00m _global_backward_hooks\n\u001b[0;32m   1519\u001b[0m         \u001b[38;5;129;01mor\u001b[39;00m _global_forward_hooks \u001b[38;5;129;01mor\u001b[39;00m _global_forward_pre_hooks):\n\u001b[1;32m-> 1520\u001b[0m     \u001b[38;5;28;01mreturn\u001b[39;00m forward_call(\u001b[38;5;241m*\u001b[39margs, \u001b[38;5;241m*\u001b[39m\u001b[38;5;241m*\u001b[39mkwargs)\n\u001b[0;32m   1522\u001b[0m \u001b[38;5;28;01mtry\u001b[39;00m:\n\u001b[0;32m   1523\u001b[0m     result \u001b[38;5;241m=\u001b[39m \u001b[38;5;28;01mNone\u001b[39;00m\n",
      "\u001b[1;31mTypeError\u001b[0m: FFN.forward() takes 2 positional arguments but 3 were given"
     ]
    }
   ],
   "source": [
    "# Function to train the neural network\n",
    "def train_ffn_net(net_ffn, t_train, x_train, epochs=300, lr=0.001):\n",
    "    optimizer = optim.Adam(net_ffn.parameters(), lr=lr)\n",
    "    tx_train = torch.cat((t_train.unsqueeze(1),x_train.squeeze(1)),dim=1)\n",
    "    criterion = nn.MSELoss()\n",
    "\n",
    "    losses = []\n",
    "\n",
    "    for epoch in range(epochs):\n",
    "        optimizer.zero_grad()\n",
    "        a_real=lqr_system.markov_control(t_train, x_train).squeeze(1)\n",
    "        a_pred = net_ffn(t_train.unsqueeze(1),x_train.view(num_samples,2))  # Predict markov control\n",
    "        loss = criterion(a_pred, a_real)\n",
    "        loss.backward()\n",
    "        optimizer.step()\n",
    "        losses.append(loss.item())\n",
    "\n",
    "        if epoch % 100 == 0:\n",
    "            print(f'Epoch {epoch}, Loss: {loss.item()}')\n",
    "\n",
    "    return losses\n",
    "\n",
    "# Generate training data\n",
    "T = 1\n",
    "num_samples = 10\n",
    "t_train, x_train = generate_training_data(T, num_samples)\n",
    "print(lqr_system.markov_control(t_train, x_train))\n",
    "\n",
    "# Define the sizes for the FFN network\n",
    "sizes = [5, 100, 100, 2]  # Input size is 4 (markov control + time + 2 x), 2 hidden layers of size 100, output size is 2\n",
    "\n",
    "# Initialize the neural network\n",
    "net_ffn = FFN(sizes)\n",
    "\n",
    "# Train the neural network\n",
    "losses = train_ffn_net(net_ffn, t_train, x_train)\n",
    "\n",
    "# Plot the training loss\n",
    "plt.plot(losses)\n",
    "plt.xlabel('Epochs')\n",
    "plt.ylabel('Loss')\n",
    "plt.title('Training Loss')\n",
    "plt.show()\n"
   ]
  },
  {
   "cell_type": "code",
   "execution_count": null,
   "metadata": {},
   "outputs": [],
   "source": [
    "a_real=lqr_system.markov_control(t_train, x_train).squeeze(1)\n",
    "tx_train = torch.cat((t_train.unsqueeze(1),x_train.squeeze(1)),dim=1)\n",
    "a_real,tx_train"
   ]
  },
  {
   "cell_type": "code",
   "execution_count": null,
   "metadata": {},
   "outputs": [],
   "source": [
    "class PDE():\n",
    "    def __init__(self, net, T, sigma, H, M, C, D, R, alpha):\n",
    "        self.net = net\n",
    "        self.T = T\n",
    "        self.sigma = sigma\n",
    "        self.H = H\n",
    "        self.M = M\n",
    "        self.C = C\n",
    "        self.D = D\n",
    "        self.R = R\n",
    "        self.alpha = alpha\n",
    "    \n",
    "    def pde_residual(self, t, x):\n",
    "        t.requires_grad_(True)\n",
    "        x.requires_grad_(True)\n",
    "        \n",
    "        u = self.net(t, x)  \n",
    "        u_x = torch.autograd.grad(u, x, grad_outputs=torch.ones_like(u), create_graph=True)[0]\n",
    "        u_xx = torch.autograd.grad(u_x, x, grad_outputs=torch.ones_like(u_x), create_graph=True)[0]\n",
    "        u_t = torch.autograd.grad(u, t, grad_outputs=torch.ones_like(u), create_graph=True)[0]\n",
    "\n",
    "        # Compute the PDE residual term\n",
    "        pde_res = (\n",
    "            u_t + 0.5 * (sigma @ sigma.T @ u_xx.T).trace()\n",
    "            + (u_x @ self.H @ x.T).sum()\n",
    "            + (u_x @ self.M @ self.alpha.T)\n",
    "            + (x @ (self.C @ x.T)).sum()\n",
    "            + (self.alpha @ (self.D @ self.alpha.T))\n",
    "        )\n",
    "\n",
    "        return pde_res\n",
    "\n",
    "    def boundary_condition(self, x):\n",
    "        # Compute the boundary condition term\n",
    "        u = self.net(self.T, x)  # Neural network output at the final time\n",
    "        boundary_term = torch.square(u - x @ self.R)\n",
    "        return boundary_term\n"
   ]
  },
  {
   "cell_type": "code",
   "execution_count": 11,
   "metadata": {},
   "outputs": [
    {
     "ename": "TypeError",
     "evalue": "diff(): argument 'n' (position 1) must be int, not Tensor",
     "output_type": "error",
     "traceback": [
      "\u001b[0;31m---------------------------------------------------------------------------\u001b[0m",
      "\u001b[0;31mTypeError\u001b[0m                                 Traceback (most recent call last)",
      "Cell \u001b[0;32mIn[11], line 73\u001b[0m\n\u001b[1;32m     70\u001b[0m model \u001b[38;5;241m=\u001b[39m DGM(input_dim, hidden_dim, output_dim)\n\u001b[1;32m     72\u001b[0m \u001b[38;5;66;03m# Train the DGM model\u001b[39;00m\n\u001b[0;32m---> 73\u001b[0m \u001b[43mtrain_dgm\u001b[49m\u001b[43m(\u001b[49m\u001b[43mmodel\u001b[49m\u001b[43m,\u001b[49m\u001b[43m \u001b[49m\u001b[43mt_train\u001b[49m\u001b[43m,\u001b[49m\u001b[43m \u001b[49m\u001b[43mx_train\u001b[49m\u001b[43m,\u001b[49m\u001b[43m \u001b[49m\u001b[43msigma\u001b[49m\u001b[43m,\u001b[49m\u001b[43m \u001b[49m\u001b[43mH\u001b[49m\u001b[43m,\u001b[49m\u001b[43m \u001b[49m\u001b[43mM\u001b[49m\u001b[43m,\u001b[49m\u001b[43m \u001b[49m\u001b[43mC\u001b[49m\u001b[43m,\u001b[49m\u001b[43m \u001b[49m\u001b[43mD\u001b[49m\u001b[43m,\u001b[49m\u001b[43m \u001b[49m\u001b[43mR\u001b[49m\u001b[43m,\u001b[49m\u001b[43m \u001b[49m\u001b[43mT\u001b[49m\u001b[43m,\u001b[49m\u001b[43m \u001b[49m\u001b[43mepochs\u001b[49m\u001b[43m,\u001b[49m\u001b[43m \u001b[49m\u001b[43mlr\u001b[49m\u001b[43m)\u001b[49m\n",
      "Cell \u001b[0;32mIn[11], line 50\u001b[0m, in \u001b[0;36mtrain_dgm\u001b[0;34m(model, t_train, x_train, sigma, H, M, C, D, R, T, epochs, lr)\u001b[0m\n\u001b[1;32m     48\u001b[0m optimizer\u001b[38;5;241m.\u001b[39mzero_grad()\n\u001b[1;32m     49\u001b[0m u_pred \u001b[38;5;241m=\u001b[39m model(t_train, x_train)\n\u001b[0;32m---> 50\u001b[0m loss \u001b[38;5;241m=\u001b[39m \u001b[43mloss_function\u001b[49m\u001b[43m(\u001b[49m\u001b[43mu_pred\u001b[49m\u001b[43m,\u001b[49m\u001b[43m \u001b[49m\u001b[43mt_train\u001b[49m\u001b[43m,\u001b[49m\u001b[43m \u001b[49m\u001b[43mx_train\u001b[49m\u001b[43m,\u001b[49m\u001b[43m \u001b[49m\u001b[43msigma\u001b[49m\u001b[43m,\u001b[49m\u001b[43m \u001b[49m\u001b[43mH\u001b[49m\u001b[43m,\u001b[49m\u001b[43m \u001b[49m\u001b[43mM\u001b[49m\u001b[43m,\u001b[49m\u001b[43m \u001b[49m\u001b[43mC\u001b[49m\u001b[43m,\u001b[49m\u001b[43m \u001b[49m\u001b[43mD\u001b[49m\u001b[43m,\u001b[49m\u001b[43m \u001b[49m\u001b[43mR\u001b[49m\u001b[43m,\u001b[49m\u001b[43m \u001b[49m\u001b[43mT\u001b[49m\u001b[43m)\u001b[49m\n\u001b[1;32m     51\u001b[0m loss\u001b[38;5;241m.\u001b[39mbackward()\n\u001b[1;32m     52\u001b[0m optimizer\u001b[38;5;241m.\u001b[39mstep()\n",
      "Cell \u001b[0;32mIn[11], line 29\u001b[0m, in \u001b[0;36mloss_function\u001b[0;34m(u, t, x, sigma, H, M, C, D, R, T)\u001b[0m\n\u001b[1;32m     26\u001b[0m \u001b[38;5;28;01mdef\u001b[39;00m \u001b[38;5;21mloss_function\u001b[39m(u, t, x, sigma, H, M, C, D, R, T):\n\u001b[1;32m     27\u001b[0m     \u001b[38;5;66;03m# Compute PDE residual term\u001b[39;00m\n\u001b[1;32m     28\u001b[0m     pde_residual \u001b[38;5;241m=\u001b[39m (\n\u001b[0;32m---> 29\u001b[0m         torch\u001b[38;5;241m.\u001b[39msquare(torch\u001b[38;5;241m.\u001b[39mmatmul(sigma, sigma\u001b[38;5;241m.\u001b[39mt())\u001b[38;5;241m.\u001b[39mtrace()) \u001b[38;5;241m/\u001b[39m \u001b[38;5;241m2\u001b[39m \u001b[38;5;241m*\u001b[39m torch\u001b[38;5;241m.\u001b[39mpow(\u001b[43mu\u001b[49m\u001b[38;5;241;43m.\u001b[39;49m\u001b[43mdiff\u001b[49m\u001b[43m(\u001b[49m\u001b[43mx\u001b[49m\u001b[43m,\u001b[49m\u001b[43m \u001b[49m\u001b[38;5;241;43m2\u001b[39;49m\u001b[43m)\u001b[49m, \u001b[38;5;241m2\u001b[39m) \u001b[38;5;241m+\u001b[39m\n\u001b[1;32m     30\u001b[0m         torch\u001b[38;5;241m.\u001b[39mmatmul(u\u001b[38;5;241m.\u001b[39mdiff(x), torch\u001b[38;5;241m.\u001b[39mmatmul(H, x)) \u001b[38;5;241m+\u001b[39m\n\u001b[1;32m     31\u001b[0m         torch\u001b[38;5;241m.\u001b[39mmatmul(u\u001b[38;5;241m.\u001b[39mdiff(x), torch\u001b[38;5;241m.\u001b[39mmatmul(M, torch\u001b[38;5;241m.\u001b[39mtensor([\u001b[38;5;241m1.0\u001b[39m, \u001b[38;5;241m1.0\u001b[39m]))) \u001b[38;5;241m+\u001b[39m\n\u001b[1;32m     32\u001b[0m         torch\u001b[38;5;241m.\u001b[39mmatmul(x, torch\u001b[38;5;241m.\u001b[39mmatmul(C, x\u001b[38;5;241m.\u001b[39mt())) \u001b[38;5;241m+\u001b[39m\n\u001b[1;32m     33\u001b[0m         torch\u001b[38;5;241m.\u001b[39mmatmul(torch\u001b[38;5;241m.\u001b[39mtensor([\u001b[38;5;241m1.0\u001b[39m, \u001b[38;5;241m1.0\u001b[39m]), torch\u001b[38;5;241m.\u001b[39mmatmul(D, torch\u001b[38;5;241m.\u001b[39mtensor([\u001b[38;5;241m1.0\u001b[39m, \u001b[38;5;241m1.0\u001b[39m])))\n\u001b[1;32m     34\u001b[0m     )\n\u001b[1;32m     36\u001b[0m     \u001b[38;5;66;03m# Compute boundary condition term\u001b[39;00m\n\u001b[1;32m     37\u001b[0m     boundary_condition \u001b[38;5;241m=\u001b[39m torch\u001b[38;5;241m.\u001b[39msquare(u \u001b[38;5;241m-\u001b[39m torch\u001b[38;5;241m.\u001b[39mmatmul(x, R))\n",
      "\u001b[0;31mTypeError\u001b[0m: diff(): argument 'n' (position 1) must be int, not Tensor"
     ]
    }
   ],
   "source": [
    "class DGM(nn.Module):\n",
    "    def __init__(self, input_dim, hidden_dim, output_dim):\n",
    "        super(DGM, self).__init__()\n",
    "        self.fc1 = nn.Linear(input_dim, hidden_dim)\n",
    "        self.fc2 = nn.Linear(hidden_dim, hidden_dim)\n",
    "        self.fc3 = nn.Linear(hidden_dim, output_dim)\n",
    "        self.activation = nn.Tanh()\n",
    "\n",
    "    def forward(self, t, x):\n",
    "        input_tensor = torch.cat((t, x), dim=1)\n",
    "        hidden1 = self.activation(self.fc1(input_tensor))\n",
    "        hidden2 = self.activation(self.fc2(hidden1))\n",
    "        output = self.fc3(hidden2)\n",
    "        return output\n",
    "\n",
    "def loss_function(u, t, x, linear_pde):\n",
    "    pde_residual = linear_pde.pde_residual(t, x)\n",
    "    boundary_term = linear_pde.boundary_condition(x)\n",
    "    loss = pde_residual.mean() + boundary_term.mean()  # Compute the mean loss\n",
    "    return loss\n",
    "\n",
    "def train_dgm(model, t_train, x_train, linear_pde, epochs, lr):\n",
    "    optimizer = optim.Adam(model.parameters(), lr=lr)\n",
    "    for epoch in range(epochs):\n",
    "        optimizer.zero_grad()\n",
    "        u_pred = model(t_train, x_train)\n",
    "        loss = loss_function(u_pred, t_train, x_train, linear_pde)\n",
    "        loss.backward()\n",
    "        optimizer.step()\n",
    "        if epoch % 100 == 0:\n",
    "            print(f'Epoch {epoch}, Loss: {loss.item()}')\n",
    "\n",
    "# Define hyperparameters\n",
    "input_dim = 3  # Input dimension (time, space_x, space_y)\n",
    "hidden_dim = 100  # Hidden layer dimension\n",
    "output_dim = 1  # Output dimension (solution)\n",
    "num_samples = 1000  # Number of training samples\n",
    "T = 1  # End time\n",
    "epochs = 1000  # Number of training epochs\n",
    "lr = 0.001  # Learning rate\n",
    "\n",
    "# Initialize the DGM model\n",
    "model = DGM(input_dim, hidden_dim, output_dim)\n",
    "\n",
    "# Create an instance of the HeatEquation2D class\n",
    "linear_pde = PDE(model, T, sigma, H, M, C, D, R, alpha)\n",
    "\n",
    "# Generate training data\n",
    "t_train = torch.rand(num_samples, 1) * T\n",
    "x_train = torch.rand(num_samples, 2)  # Assuming 2D space\n",
    "\n",
    "# Train the DGM model\n",
    "train_dgm(model, t_train, x_train, linear_pde, epochs, lr)\n"
   ]
  }
 ],
 "metadata": {
  "kernelspec": {
   "display_name": "Python 3 (ipykernel)",
   "language": "python",
   "name": "python3"
  },
  "language_info": {
   "codemirror_mode": {
    "name": "ipython",
    "version": 3
   },
   "file_extension": ".py",
   "mimetype": "text/x-python",
   "name": "python",
   "nbconvert_exporter": "python",
   "pygments_lexer": "ipython3",
   "version": "3.10.9"
  }
 },
 "nbformat": 4,
 "nbformat_minor": 2
}

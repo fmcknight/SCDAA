{
 "cells": [
  {
   "cell_type": "markdown",
   "metadata": {},
   "source": [
    "# SCADAA Report"
   ]
  },
  {
   "cell_type": "code",
   "execution_count": 1,
   "metadata": {},
   "outputs": [],
   "source": [
    "import numpy as np\n",
    "from numpy.linalg import inv\n",
    "from scipy.integrate import odeint, solve_ivp\n",
    "import matplotlib.pyplot as plt\n",
    "import torch"
   ]
  },
  {
   "cell_type": "markdown",
   "metadata": {},
   "source": [
    "## Exercise 1.1"
   ]
  },
  {
   "cell_type": "code",
   "execution_count": 2,
   "metadata": {},
   "outputs": [],
   "source": [
    "class LQR:\n",
    "    def __init__(self, H, M, sigma, alpha, alpha_s, C, D, R, T) -> None:\n",
    "        self.H = H \n",
    "        self.M = M\n",
    "        self.sigma = sigma\n",
    "        self.alpha = alpha \n",
    "        self.alpha_s = alpha_s\n",
    "        self.C = C \n",
    "        self.D = D \n",
    "        self.R = R\n",
    "        self.T = T\n",
    "\n",
    "    \n",
    "    def ricatti_ode(self, t, S):\n",
    "        return (-2 * (np.transpose(self.H))@S.reshape(2,2) \n",
    "                + S.reshape(2,2)@(self.M)@(inv(self.D))@(self.M)@S.reshape(2,2) \n",
    "                - self.C).flatten()\n",
    "    \n",
    " \n",
    "    def solve_lqr(self):\n",
    "        \"\"\"\n",
    "        Solves the LQR problem by integrating the \n",
    "        Riccati equation backwards in time.\n",
    "        \"\"\"\n",
    "        # Time points (reversed for backward integration)\n",
    "        t_points = np.linspace(0, self.T, 1000)[::-1]  \n",
    "\n",
    "        sol = solve_ivp(\n",
    "            self.ricatti_ode, [t_points[0], t_points[-1]], \n",
    "            self.R.flatten(), t_eval=t_points, vectorized=False\n",
    "            )\n",
    "\n",
    "        # Access the solution via .y and potentially reshape if necessary\n",
    "        S = sol.y\n",
    "    \n",
    "        return S, t_points\n",
    "\n",
    "\n",
    "    # do we need to visualise?\n",
    "    def visualize_results(self, S, t_points):\n",
    "        \"\"\"\n",
    "        Visualizes the solution of the Riccati equation \n",
    "        or the state/control trajectories.\n",
    "        \"\"\"\n",
    "        plt.plot(t_points, S[0, :])\n",
    "        plt.xlabel('Time')\n",
    "        plt.ylabel('S[0,0]')\n",
    "        plt.title('Solution of Riccati Equation over Time')\n",
    "        plt.show()\n",
    "        \n",
    "\n",
    "    def markov_control(self, t, x):\n",
    "        S, t_points = self.solve_lqr()\n",
    "        a = torch.tensor(len(t), dtype=torch.float32)\n",
    "        for t in range(len(t)):\n",
    "            for x in range(x.shape[1]):\n",
    "                a[t, x] = -inv(self.D) @ np.transpose(self.M) @ S[:, t].reshape(2, 2) * x[t, x]\n",
    "        return a\n",
    "\n",
    "    # this function is incomplete!\n",
    "    # still trying to figure out the sizes of the tensors\n",
    "    # i'm confused about batch size :(\n",
    "    def value_function(self, t, x):\n",
    "        S, t_points = self.solve_lqr()\n",
    "        v1 = np.transpose(x) @ S[:, t].reshape(2, 2) @ x\n",
    "        v2 = np.trace(self.sigma @ np.transpose(self.sigma) @ S)\n",
    "        return v1 + v2\n"
   ]
  },
  {
   "cell_type": "code",
   "execution_count": 6,
   "metadata": {},
   "outputs": [
    {
     "data": {
      "image/png": "[encoded data removed]",
      "text/plain": [
       "<Figure size 640x480 with 1 Axes>"
      ]
     },
     "metadata": {},
     "output_type": "display_data"
    },
    {
     "name": "stdout",
     "output_type": "stream",
     "text": [
      "[[1.         1.02514964 1.05054589 ... 4.44851088 4.44853146 4.44855358]\n",
      " [0.         0.         0.         ... 0.         0.         0.        ]\n",
      " [0.         0.         0.         ... 0.         0.         0.        ]\n",
      " [1.         1.02514964 1.05054589 ... 4.44851088 4.44853146 4.44855358]]\n"
     ]
    }
   ],
   "source": [
    "# Example usage\n",
    "H = np.array([[1, 0], [0, 1]])\n",
    "M = np.array([[1, 0], [0, 1]])\n",
    "sigma = np.array([[0, 0], [0, 0]])\n",
    "alpha = np.array([[0, 0], [0, 0]])\n",
    "alpha_s = np.array([[0, 0], [0, 0]])\n",
    "C = np.array([[1, 0], [0, 1]])\n",
    "D = np.array([[2, 0], [0, 2]])\n",
    "R = np.array([[1, 0], [0, 1]])\n",
    "T = 10\n",
    "\n",
    "lqr_system = LQR(H, M, sigma, alpha, alpha_s, C, D, R, T)\n",
    "S_solution, t_points = lqr_system.solve_lqr()\n",
    "lqr_system.visualize_results(S_solution, t_points)\n",
    "print(S_solution)"
   ]
  }
 ],
 "metadata": {
  "kernelspec": {
   "display_name": "Python 3",
   "language": "python",
   "name": "python3"
  },
  "language_info": {
   "codemirror_mode": {
    "name": "ipython",
    "version": 3
   },
   "file_extension": ".py",
   "mimetype": "text/x-python",
   "name": "python",
   "nbconvert_exporter": "python",
   "pygments_lexer": "ipython3",
   "version": "3.10.13"
  }
 },
 "nbformat": 4,
 "nbformat_minor": 2
}

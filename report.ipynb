{
 "cells": [
  {
   "cell_type": "markdown",
   "metadata": {},
   "source": [
    "# SCADAA Report"
   ]
  },
  {
   "cell_type": "code",
   "execution_count": 1,
   "metadata": {},
   "outputs": [],
   "source": [
    "import numpy as np\n",
    "from numpy.linalg import inv\n",
    "from scipy.integrate import odeint, solve_ivp, quad\n",
    "from scipy.interpolate import CubicSpline\n",
    "import matplotlib.pyplot as plt\n",
    "import torch\n",
    "import torch.nn as nn\n",
    "import torch.nn.functional as F\n",
    "import torch.optim as optim\n",
    "\n",
    "from exercise2 import DGM_Layer, Net_DGM\n",
    "from exercise2 import FFN\n"
   ]
  },
  {
   "cell_type": "markdown",
   "metadata": {},
   "source": [
    "## Exercise 1.1"
   ]
  },
  {
   "cell_type": "code",
   "execution_count": 2,
   "metadata": {},
   "outputs": [],
   "source": [
    "class LQR:\n",
    "    def __init__(self, H, M, sigma, C, D, R, T) -> None:\n",
    "        self.H = H \n",
    "        self.M = M\n",
    "        self.sigma = sigma\n",
    "        self.C = C \n",
    "        self.D = D \n",
    "        self.R = R\n",
    "        self.T = T\n",
    "    \n",
    "\n",
    "    def riccati_ode(self, t, S_flat):\n",
    "        S = torch.tensor(S_flat, dtype=torch.float32).reshape((2, 2))  # Convert S_flat to a PyTorch tensor\n",
    "        dS = (-2 * (self.H.t() @ S) + S @ (self.M) @ (torch.inverse(self.D)) @ (np.transpose(self.M)) @ S - self.C)\n",
    "        return dS.flatten().detach().numpy()\n",
    " \n",
    "\n",
    "    def solve_ricatti_ode(self, time_grid):\n",
    "        \"\"\"\n",
    "        Solves the LQR problem by integrating the \n",
    "        Riccati equation backwards in time.\n",
    "        \"\"\"\n",
    "        # Time points (reversed for backward integration)\n",
    "        # t_points = np.linspace(0, self.T, 1000)[::-1]  \n",
    "        intial_cond = self.R.flatten().detach().numpy()\n",
    "\n",
    "        sol = solve_ivp(\n",
    "            self.riccati_ode, [self.T.item(), time_grid[0].item()], \n",
    "            intial_cond, t_eval=time_grid.numpy()[::-1], method='RK45'\n",
    "            )\n",
    "        \n",
    "        S = torch.tensor(sol.y)\n",
    "\n",
    "        return S\n",
    "\n",
    "    def visualize_results(self, t_points, S):\n",
    "        \"\"\"\n",
    "        Visualizes the solution of the Riccati equation \n",
    "        or the state/control trajectories.\n",
    "        \"\"\"\n",
    "        # S_00 = [s[0, 0].item() for s in S]\n",
    "        plt.plot(t_points, S[0, :])\n",
    "        plt.xlabel('Time')\n",
    "        plt.ylabel('S[0,0]')\n",
    "        plt.title('Solution of Riccati Equation over Time')\n",
    "        plt.show()\n",
    "       \n",
    "\n",
    "    def markov_control(self, t_batch, x_batch):\n",
    "        a=torch.tensor([])\n",
    "        for t in range(len(t_batch)):\n",
    "            time_grid = torch.linspace(float(t_batch[t]), self.T, 1000, dtype=torch.float32)\n",
    "            S = self.solve_ricatti_ode(time_grid).T.reshape(len(time_grid),2,2).float()\n",
    "            S_ordered =torch.flip(S,dims=[0])\n",
    "            x_batch_n = x_batch[t]\n",
    "            a_ = -((torch.inverse(self.D.float()) @ self.M.T) @ S_ordered[0]) @ x_batch_n.T\n",
    "            a=torch.cat((a,a_.unsqueeze(0))) \n",
    "        return a.transpose(1,2)\n",
    "\n",
    "\n",
    "    def value_function(self, t_batch, x_batch):\n",
    "        v=torch.tensor([])\n",
    "        for t in range(len(t_batch)):\n",
    "            time_grid = torch.linspace(float(t_batch[t]), self.T, 1000, dtype=torch.float32)\n",
    "            S = self.solve_ricatti_ode(time_grid).T.reshape(len(time_grid),2,2).float()\n",
    "            S_ordered =torch.flip(S,dims=[0])\n",
    "            sigma = self.sigma\n",
    "            x_batch_n = x_batch[t]\n",
    "\n",
    "            # Compute the first term: x.transpose(S)x\n",
    "            x_S_x = torch.matmul(torch.matmul(x_batch_n.unsqueeze(0), S_ordered[0]), x_batch_n.unsqueeze(0).transpose(-1, -2)).squeeze()\n",
    "\n",
    "        # Compute the integral term using Einstein summation notation with smaller time steps\n",
    "            integral_term = 0\n",
    "            for i in range(len(time_grid) - 1):\n",
    "                dt = time_grid[i + 1] - time_grid[i]\n",
    "                int_term=sigma@sigma.T@S_ordered[i]\n",
    "                trace_term = torch.einsum('bij->b',int_term.unsqueeze(0))\n",
    "                integral_term += trace_term * dt\n",
    "\n",
    "            # Compute the total value function: v(t, x) = x.transpose(S)x + trace_term\n",
    "            v=torch.cat((v,x_S_x + integral_term)) \n",
    "        return v\n"
   ]
  },
  {
   "cell_type": "code",
   "execution_count": 3,
   "metadata": {},
   "outputs": [
    {
     "data": {
      "image/png": "[encoded data removed]",
      "text/plain": [
       "<Figure size 640x480 with 1 Axes>"
      ]
     },
     "metadata": {},
     "output_type": "display_data"
    },
    {
     "name": "stdout",
     "output_type": "stream",
     "text": [
      "Optimal Markov Control:\n",
      "tensor([[[-1.9989, -3.9979]],\n",
      "\n",
      "        [[-1.9980,  0.0000]],\n",
      "\n",
      "        [[-5.9926, -3.9950]]])\n",
      "Value Function:\n",
      "tensor([406.6639, 397.4678, 420.6382])\n"
     ]
    }
   ],
   "source": [
    "# Example Usage:\n",
    "# Define problem matrices\n",
    "H = torch.tensor([[1, 0], [0, 1]], dtype=torch.float32)\n",
    "M = torch.tensor([[1, 0], [0, 1]], dtype=torch.float32)\n",
    "D = torch.tensor([[1, 0], [0, 1]], dtype=torch.float32)\n",
    "C = torch.tensor([[0, 0], [0, 0]], dtype=torch.float32)\n",
    "R = torch.tensor([[1, 0], [0, 1]], dtype=torch.float32)\n",
    "sigma = torch.tensor([[1, 0], [0, 1]], dtype=torch.float32)\n",
    "T = torch.tensor(100, dtype=torch.float32)\n",
    "\n",
    "# Initialize LQRController\n",
    "# controller = LQRController(H, M, D, C, R, T)\n",
    "\n",
    "# Define time grid\n",
    "time_grid = torch.linspace(0, T, 10000)\n",
    "\n",
    "lqr_system = LQR(H, M, sigma, C, D, R, T)\n",
    "S_solution = lqr_system.solve_ricatti_ode(time_grid)\n",
    "S_sol_v2 = S_solution.T.reshape(len(time_grid),2,2)\n",
    "S_sol_ordered =torch.flip(S_sol_v2,dims=[0])\n",
    "lqr_system.visualize_results(torch.flip(time_grid, [0]), S_solution)\n",
    "\n",
    "# Create sample input tensors\n",
    "t_batch = torch.tensor([0.5, 0.8, 1.0], dtype=torch.float32)  # Sample time values\n",
    "x_batch = torch.tensor([\n",
    "    [[1.0, 2.0]],  \n",
    "    [[1.0, 0.0]], \n",
    "    [[3.0, 2.0]]  \n",
    "], dtype=torch.float32)  # Sample spatial values\n",
    "\n",
    "# t_batch = torch.tensor([0.7], dtype=torch.float32)  # Sample time values\n",
    "# x_batch = torch.tensor([\n",
    "#     [[1.0, 1.0]] \n",
    "# ], dtype=torch.float32)  # Sample spatial values\n",
    "\n",
    "# Compute the markov control\n",
    "markov_control = lqr_system.markov_control(t_batch, x_batch)\n",
    "\n",
    "# Print the computed value function\n",
    "print(\"Optimal Markov Control:\")\n",
    "print(markov_control)\n",
    "\n",
    "# Compute the value function\n",
    "value_func = lqr_system.value_function(t_batch, x_batch)\n",
    "\n",
    "# Print the computed value function\n",
    "print(\"Value Function:\")\n",
    "print(value_func)\n",
    "\n"
   ]
  },
  {
   "cell_type": "code",
   "execution_count": 4,
   "metadata": {},
   "outputs": [
    {
     "data": {
      "text/plain": [
       "(torch.Size([3]), torch.Size([3, 1, 2]))"
      ]
     },
     "execution_count": 4,
     "metadata": {},
     "output_type": "execute_result"
    }
   ],
   "source": [
    "t_batch.shape, x_batch.shape"
   ]
  },
  {
   "cell_type": "markdown",
   "metadata": {},
   "source": [
    "## Exercise 1.2"
   ]
  },
  {
   "cell_type": "markdown",
   "metadata": {},
   "source": [
    "1. Error"
   ]
  },
  {
   "cell_type": "markdown",
   "metadata": {},
   "source": [
    "2. Time"
   ]
  },
  {
   "cell_type": "code",
   "execution_count": 22,
   "metadata": {},
   "outputs": [],
   "source": [
    "#Create error function \n",
    "def calculate_error(X):\n",
    "    #We might want to have a better error function tbh\n",
    "    error = np.linalg.norm(X - np.zeros(X.shape))\n",
    "    return error"
   ]
  },
  {
   "cell_type": "code",
   "execution_count": 36,
   "metadata": {},
   "outputs": [],
   "source": [
    "\n",
    "#Initial Conditions\n",
    "H = torch.tensor([[1, 0], [0, 1]], dtype=torch.float32)*0.1\n",
    "M = torch.tensor([[1, 0], [0, 1]], dtype=torch.float32)\n",
    "sigma = torch.tensor([[1, 0], [0, 1]], dtype=torch.float32)*0.001\n",
    "D = torch.tensor([[1, 0], [0, 1]], dtype=torch.float32)\n",
    "T = torch.tensor(1.0, dtype=torch.float32)\n",
    "x0 = torch.tensor([1, 1], dtype=torch.float32)\n",
    "t=torch.tensor(0.7, dtype=torch.float32)\n",
    "C = torch.tensor([[1, 0], [0, 1]], dtype=torch.float32)*0\n",
    "R = torch.tensor([[1, 0], [0, 1]], dtype=torch.float32)*10\n",
    "\n",
    "\n",
    "# Define time grid\n",
    "time_grid_S = torch.linspace(0, T, 10000)\n",
    "lqr_system = LQR(H, M, sigma, C, D, R, T)\n",
    "S_solution = lqr_system.solve_ricatti_ode(time_grid_S)\n",
    "S_sol_v2 = S_solution.T.reshape(len(time_grid_S),2,2).float()\n",
    "S_sol_ordered =torch.flip(S_sol_v2,dims=[0])\n"
   ]
  },
  {
   "cell_type": "code",
   "execution_count": 37,
   "metadata": {},
   "outputs": [
    {
     "name": "stdout",
     "output_type": "stream",
     "text": [
      "tensor([[[1.0000, 1.0000]],\n",
      "\n",
      "        [[0.9907, 0.9907]],\n",
      "\n",
      "        [[0.9816, 0.9816]],\n",
      "\n",
      "        [[0.9727, 0.9728]],\n",
      "\n",
      "        [[0.9636, 0.9640]],\n",
      "\n",
      "        [[0.9549, 0.9548]],\n",
      "\n",
      "        [[0.9461, 0.9462]],\n",
      "\n",
      "        [[0.9376, 0.9376]],\n",
      "\n",
      "        [[0.9288, 0.9289]],\n",
      "\n",
      "        [[0.9206, 0.9206]],\n",
      "\n",
      "        [[0.9120, 0.9120]],\n",
      "\n",
      "        [[0.9037, 0.9037]],\n",
      "\n",
      "        [[0.8954, 0.8955]],\n",
      "\n",
      "        [[0.8872, 0.8871]],\n",
      "\n",
      "        [[0.8792, 0.8791]],\n",
      "\n",
      "        [[0.8712, 0.8709]],\n",
      "\n",
      "        [[0.8631, 0.8629]],\n",
      "\n",
      "        [[0.8552, 0.8550]],\n",
      "\n",
      "        [[0.8474, 0.8472]],\n",
      "\n",
      "        [[0.8394, 0.8393]],\n",
      "\n",
      "        [[0.8319, 0.8318]],\n",
      "\n",
      "        [[0.8243, 0.8243]],\n",
      "\n",
      "        [[0.8167, 0.8166]],\n",
      "\n",
      "        [[0.8091, 0.8091]],\n",
      "\n",
      "        [[0.8017, 0.8019]],\n",
      "\n",
      "        [[0.7945, 0.7945]],\n",
      "\n",
      "        [[0.7870, 0.7871]],\n",
      "\n",
      "        [[0.7799, 0.7799]],\n",
      "\n",
      "        [[0.7728, 0.7728]],\n",
      "\n",
      "        [[0.7657, 0.7658]],\n",
      "\n",
      "        [[0.7586, 0.7585]],\n",
      "\n",
      "        [[0.7517, 0.7518]],\n",
      "\n",
      "        [[0.7446, 0.7450]],\n",
      "\n",
      "        [[0.7380, 0.7381]],\n",
      "\n",
      "        [[0.7311, 0.7314]],\n",
      "\n",
      "        [[0.7246, 0.7245]],\n",
      "\n",
      "        [[0.7179, 0.7179]],\n",
      "\n",
      "        [[0.7111, 0.7113]],\n",
      "\n",
      "        [[0.7047, 0.7046]],\n",
      "\n",
      "        [[0.6983, 0.6983]],\n",
      "\n",
      "        [[0.6918, 0.6918]],\n",
      "\n",
      "        [[0.6854, 0.6857]],\n",
      "\n",
      "        [[0.6790, 0.6792]],\n",
      "\n",
      "        [[0.6730, 0.6732]],\n",
      "\n",
      "        [[0.6669, 0.6669]],\n",
      "\n",
      "        [[0.6607, 0.6608]],\n",
      "\n",
      "        [[0.6545, 0.6546]],\n",
      "\n",
      "        [[0.6486, 0.6485]],\n",
      "\n",
      "        [[0.6429, 0.6426]],\n",
      "\n",
      "        [[0.6369, 0.6366]],\n",
      "\n",
      "        [[0.6309, 0.6307]],\n",
      "\n",
      "        [[0.6250, 0.6252]],\n",
      "\n",
      "        [[0.6195, 0.6195]],\n",
      "\n",
      "        [[0.6136, 0.6136]],\n",
      "\n",
      "        [[0.6080, 0.6080]],\n",
      "\n",
      "        [[0.6028, 0.6027]],\n",
      "\n",
      "        [[0.5970, 0.5969]],\n",
      "\n",
      "        [[0.5913, 0.5915]],\n",
      "\n",
      "        [[0.5860, 0.5860]],\n",
      "\n",
      "        [[0.5807, 0.5807]],\n",
      "\n",
      "        [[0.5753, 0.5753]],\n",
      "\n",
      "        [[0.5699, 0.5700]],\n",
      "\n",
      "        [[0.5647, 0.5648]],\n",
      "\n",
      "        [[0.5593, 0.5596]],\n",
      "\n",
      "        [[0.5542, 0.5546]],\n",
      "\n",
      "        [[0.5494, 0.5495]],\n",
      "\n",
      "        [[0.5444, 0.5442]],\n",
      "\n",
      "        [[0.5394, 0.5392]],\n",
      "\n",
      "        [[0.5342, 0.5344]],\n",
      "\n",
      "        [[0.5292, 0.5293]],\n",
      "\n",
      "        [[0.5245, 0.5245]],\n",
      "\n",
      "        [[0.5196, 0.5197]],\n",
      "\n",
      "        [[0.5148, 0.5149]],\n",
      "\n",
      "        [[0.5100, 0.5102]],\n",
      "\n",
      "        [[0.5055, 0.5055]],\n",
      "\n",
      "        [[0.5007, 0.5007]],\n",
      "\n",
      "        [[0.4962, 0.4961]],\n",
      "\n",
      "        [[0.4916, 0.4913]],\n",
      "\n",
      "        [[0.4871, 0.4870]],\n",
      "\n",
      "        [[0.4825, 0.4825]],\n",
      "\n",
      "        [[0.4781, 0.4782]],\n",
      "\n",
      "        [[0.4737, 0.4738]],\n",
      "\n",
      "        [[0.4694, 0.4693]],\n",
      "\n",
      "        [[0.4651, 0.4649]],\n",
      "\n",
      "        [[0.4606, 0.4608]],\n",
      "\n",
      "        [[0.4563, 0.4565]],\n",
      "\n",
      "        [[0.4524, 0.4524]],\n",
      "\n",
      "        [[0.4484, 0.4482]],\n",
      "\n",
      "        [[0.4441, 0.4441]],\n",
      "\n",
      "        [[0.4400, 0.4398]],\n",
      "\n",
      "        [[0.4359, 0.4358]],\n",
      "\n",
      "        [[0.4318, 0.4318]],\n",
      "\n",
      "        [[0.4280, 0.4278]],\n",
      "\n",
      "        [[0.4238, 0.4240]],\n",
      "\n",
      "        [[0.4200, 0.4200]],\n",
      "\n",
      "        [[0.4161, 0.4161]],\n",
      "\n",
      "        [[0.4123, 0.4124]],\n",
      "\n",
      "        [[0.4083, 0.4087]],\n",
      "\n",
      "        [[0.4047, 0.4049]],\n",
      "\n",
      "        [[0.4010, 0.4009]]])\n"
     ]
    },
    {
     "name": "stderr",
     "output_type": "stream",
     "text": [
      "/tmp/ipykernel_3056/2947327018.py:4: UserWarning: To copy construct from a tensor, it is recommended to use sourceTensor.clone().detach() or sourceTensor.clone().detach().requires_grad_(True), rather than torch.tensor(sourceTensor).\n",
      "  x0 = torch.tensor(x0, dtype=torch.float32).view(2, 1)\n"
     ]
    }
   ],
   "source": [
    "# X Generation\n",
    "def generate_x(T, N_steps, H, M, D, S_solution, sigma, x0):\n",
    "\n",
    "    x0 = torch.tensor(x0, dtype=torch.float32).view(2, 1) \n",
    "    tau = T / N_steps\n",
    "    X = x0.unsqueeze(0)\n",
    "    brownian = torch.randn(N_steps, 2, dtype=torch.float32)*torch.sqrt(tau)\n",
    "\n",
    "    for i in range(N_steps-1):\n",
    "        dw = (brownian[i+1] - brownian[i]).view(2, 1)  # Ensure dw is a 2x1 vector\n",
    "        # Calculate control action, ensuring it results in a 2x1 vector\n",
    "        a_s = -torch.inverse(D) @ M.T @ S_sol_ordered[i] @ X[-1]\n",
    "        # Update state, ensuring result is a 2x1 vector\n",
    "        next_val = X[-1] + tau * (H @ X[-1] + M @ a_s) + sigma @ dw  # Use matrix-vector product for sigma @ dw\n",
    "        \n",
    "        X=torch.cat((X,next_val.view(2, 1).unsqueeze(0))) # Ensure next_val remains a 2x1 column vector\n",
    "\n",
    "    return X.transpose(1,2)\n",
    "\n",
    "# Call the function with corrected inputs\n",
    "N_steps = 100\n",
    "result = generate_x(T, N_steps, H.float(), M.float(), D.float(), S_solution.float(), sigma.float(), x0)\n",
    "print(result)"
   ]
  },
  {
   "cell_type": "markdown",
   "metadata": {},
   "source": [
    "### Exercise 1.2.1"
   ]
  },
  {
   "cell_type": "markdown",
   "metadata": {},
   "source": [
    "The error will be the difference between between the cost function and the value function, and this should converge for bigger time steps."
   ]
  },
  {
   "cell_type": "markdown",
   "metadata": {},
   "source": [
    "### Exercise 1.2.2"
   ]
  },
  {
   "cell_type": "code",
   "execution_count": 38,
   "metadata": {},
   "outputs": [
    {
     "name": "stderr",
     "output_type": "stream",
     "text": [
      "/tmp/ipykernel_3056/2947327018.py:4: UserWarning: To copy construct from a tensor, it is recommended to use sourceTensor.clone().detach() or sourceTensor.clone().detach().requires_grad_(True), rather than torch.tensor(sourceTensor).\n",
      "  x0 = torch.tensor(x0, dtype=torch.float32).view(2, 1)\n"
     ]
    }
   ],
   "source": [
    "# 1.2.2 CODE DO NOT RUN IN GITHUB IF USING N_SAMPLES=100000\n",
    "\n",
    "N_samples=100 #CHANGE FOR LOCAL RUNNING\n",
    "N_steps=[1, 10, 50, 100, 500, 1000, 5000]\n",
    "cost=torch.tensor([])\n",
    "S_sol_cs = CubicSpline(time_grid_S, S_sol_ordered)\n",
    "exp_cost=torch.tensor([])\n",
    "for t in range(len(N_steps)):\n",
    "    time_grid = torch.linspace(0, T, N_steps[t]+1)\n",
    "    dt= time_grid[1:]-time_grid[:-1]\n",
    "    S_sol_cs_vals = torch.tensor((S_sol_cs(time_grid.numpy())),dtype=torch.float32)\n",
    "    for i in range(N_samples):\n",
    "        result = generate_x(T, N_steps[t]+1, H.float(), M.float(), D.float(), \n",
    "                            S_sol_cs_vals.float(), sigma.float(), x0)\n",
    "        alp = (-torch.inverse(D) @ M.T @ S_sol_cs_vals @result.transpose(1,2)).transpose(1,2)\n",
    "        int_ = result@C@result.transpose(1,2) + alp@D@alp.transpose(1,2)\n",
    "        J = torch.tensor(0.5)*dt@((int_.squeeze(1)[1:]+int_.squeeze(1)[:-1]))\n",
    "        cost=torch.cat((cost,J))\n",
    "    exp_cost=torch.cat((exp_cost,torch.mean(cost).unsqueeze(0)))"
   ]
  },
  {
   "cell_type": "code",
   "execution_count": 39,
   "metadata": {},
   "outputs": [
    {
     "name": "stdout",
     "output_type": "stream",
     "text": [
      "tensor([25.2738, 12.7254,  8.3078,  6.0846,  4.7263,  3.8009,  2.9942])\n"
     ]
    },
    {
     "data": {
      "image/png": "[encoded data removed]",
      "text/plain": [
       "<Figure size 640x480 with 1 Axes>"
      ]
     },
     "metadata": {},
     "output_type": "display_data"
    }
   ],
   "source": [
    "# OUR FIRST 1.2 BABY :D\n",
    "\n",
    "\n",
    "# Compute the error\n",
    "error=abs(exp_cost-value_func)\n",
    "print(error) \n",
    "#Plot the error\n",
    "plt.loglog(N_steps, error, marker='o', linestyle='-')\n",
    "plt.xlabel('Number of Steps')\n",
    "plt.ylabel('Error (Euclidean Distance from Target)')\n",
    "plt.title('Error vs. Number of Steps on a Log-Log Scale')\n",
    "plt.grid(True, which=\"both\", ls=\"--\")\n",
    "plt.show()"
   ]
  },
  {
   "cell_type": "markdown",
   "metadata": {},
   "source": [
    "Exercise 1.2.3"
   ]
  },
  {
   "cell_type": "code",
   "execution_count": 42,
   "metadata": {},
   "outputs": [
    {
     "name": "stderr",
     "output_type": "stream",
     "text": [
      "/tmp/ipykernel_3056/2947327018.py:4: UserWarning: To copy construct from a tensor, it is recommended to use sourceTensor.clone().detach() or sourceTensor.clone().detach().requires_grad_(True), rather than torch.tensor(sourceTensor).\n",
      "  x0 = torch.tensor(x0, dtype=torch.float32).view(2, 1)\n"
     ]
    }
   ],
   "source": [
    "# 1.2.3 CODE DO NOT RUN IN GITHUB IF USING N_SAMPLES=100000\n",
    "\n",
    "#N_samples=[10, 50, 100, 500, 1000, 5000, 10000, 50000, 100000] #DO NOT RUN\n",
    "N_samples = [10,50,100,250,500,750,1000]\n",
    "N_steps = 5000\n",
    "cost_samples = torch.tensor([])\n",
    "exp_cost_samples = torch.tensor([])\n",
    "\n",
    "# Time grid specifications\n",
    "time_grid = torch.linspace(0, T, N_steps+1)\n",
    "dt = time_grid[1:]-time_grid[:-1]\n",
    "S_sol_cs_vals = torch.tensor((S_sol_cs(time_grid.numpy())),dtype=torch.float32)\n",
    "\n",
    "for j in range(len(N_samples)):\n",
    "    for i in range(N_samples[j]):\n",
    "        result = generate_x(T, N_steps+1, H.float(), M.float(), D.float(), \n",
    "        S_sol_cs_vals.float(), sigma.float(), x0)\n",
    "\n",
    "        alp = (-torch.inverse(D) @ M.T @ S_sol_cs_vals @result.transpose(1,2)).transpose(1,2)\n",
    "        int_ = result@C@result.transpose(1,2) + alp@D@alp.transpose(1,2)\n",
    "\n",
    "        J = result[-1]@R@result[-1].T + torch.tensor(0.5)*dt@((int_.squeeze(1)[1:]+int_.squeeze(1)[:-1]))\n",
    "        cost_samples=torch.cat((cost_samples,J))\n",
    "    \n",
    "    exp_cost_samples=torch.cat((exp_cost_samples,torch.mean(cost_samples).unsqueeze(0)))"
   ]
  },
  {
   "cell_type": "code",
   "execution_count": 44,
   "metadata": {},
   "outputs": [
    {
     "name": "stdout",
     "output_type": "stream",
     "text": [
      "tensor([5.1072, 5.1072, 5.1072, 5.1072, 5.1072, 5.1072, 5.1072])\n"
     ]
    },
    {
     "data": {
      "image/png": "[encoded data removed]",
      "text/plain": [
       "<Figure size 640x480 with 1 Axes>"
      ]
     },
     "metadata": {},
     "output_type": "display_data"
    }
   ],
   "source": [
    "# OUR FIRST 1.2.3 BABY :D\n",
    "\n",
    "print(exp_cost_samples) # why is the first one better than the second?\n",
    "\n",
    "# Compute the error\n",
    "error_samples = abs(exp_cost_samples-value_func)\n",
    "\n",
    "#Plot the error\n",
    "plt.plot(N_samples, error_samples, marker='o', linestyle='-')\n",
    "plt.xlabel('Number of Steps')\n",
    "plt.ylabel('Error (Euclidean Distance from Target)')\n",
    "plt.title('Error vs. Number of Steps on a Log-Log Scale 1.2.3')\n",
    "plt.grid(True, which=\"both\", ls=\"--\")\n",
    "plt.show()"
   ]
  },
  {
   "cell_type": "markdown",
   "metadata": {},
   "source": [
    "Exercise 2"
   ]
  },
  {
   "cell_type": "code",
   "execution_count": 5,
   "metadata": {},
   "outputs": [],
   "source": [
    "# Function to generate training data\n",
    "def generate_training_data(T, num_samples):\n",
    "    # t = torch.tensor(np.random.uniform(0, T, num_samples), dtype=torch.float32)\n",
    "    t = torch.linspace(0, T, num_samples)\n",
    "    x = torch.tensor(np.random.uniform(-3, 3, (num_samples, 2)), dtype=torch.float32).unsqueeze(-1).transpose(1,2)\n",
    "    return t, x"
   ]
  },
  {
   "cell_type": "code",
   "execution_count": 8,
   "metadata": {},
   "outputs": [
    {
     "data": {
      "text/plain": [
       "(tensor([ 0.0000,  1.1111,  2.2222,  3.3333,  4.4444,  5.5556,  6.6667,  7.7778,\n",
       "          8.8889, 10.0000]),\n",
       " torch.Size([10, 1, 2]))"
      ]
     },
     "execution_count": 8,
     "metadata": {},
     "output_type": "execute_result"
    }
   ],
   "source": [
    "# Generate training data\n",
    "T = 10\n",
    "num_samples = 10\n",
    "t_train, x_train = generate_training_data(T, num_samples)\n",
    "t_train, x_train.shape"
   ]
  },
  {
   "cell_type": "code",
   "execution_count": 9,
   "metadata": {},
   "outputs": [
    {
     "name": "stdout",
     "output_type": "stream",
     "text": [
      "tensor([[[1.0000, 0.0000],\n",
      "         [0.0000, 1.0000]],\n",
      "\n",
      "        [[1.0100, 0.0000],\n",
      "         [0.0000, 1.0100]],\n",
      "\n",
      "        [[1.0200, 0.0000],\n",
      "         [0.0000, 1.0200]],\n",
      "\n",
      "        ...,\n",
      "\n",
      "        [[1.9995, 0.0000],\n",
      "         [0.0000, 1.9995]],\n",
      "\n",
      "        [[1.9995, 0.0000],\n",
      "         [0.0000, 1.9995]],\n",
      "\n",
      "        [[1.9995, 0.0000],\n",
      "         [0.0000, 1.9995]]])\n"
     ]
    }
   ],
   "source": [
    "print(lqr_system.solve_ricatti_ode(time_grid).T.reshape(len(time_grid),2,2).float())"
   ]
  },
  {
   "cell_type": "code",
   "execution_count": 17,
   "metadata": {},
   "outputs": [
    {
     "name": "stderr",
     "output_type": "stream",
     "text": [
      "/home/codespace/.local/lib/python3.10/site-packages/torch/nn/modules/loss.py:535: UserWarning: Using a target size (torch.Size([10])) that is different to the input size (torch.Size([10, 1])). This will likely lead to incorrect results due to broadcasting. Please ensure they have the same size.\n",
      "  return F.mse_loss(input, target, reduction=self.reduction)\n"
     ]
    },
    {
     "name": "stdout",
     "output_type": "stream",
     "text": [
      "Epoch 0, Loss: 154023.296875\n"
     ]
    },
    {
     "ename": "KeyboardInterrupt",
     "evalue": "",
     "output_type": "error",
     "traceback": [
      "\u001b[0;31m---------------------------------------------------------------------------\u001b[0m",
      "\u001b[0;31mKeyboardInterrupt\u001b[0m                         Traceback (most recent call last)",
      "Cell \u001b[0;32mIn[17], line 32\u001b[0m\n\u001b[1;32m     29\u001b[0m net_dgm \u001b[38;5;241m=\u001b[39m Net_DGM(dim_x\u001b[38;5;241m=\u001b[39m\u001b[38;5;241m2\u001b[39m, dim_S\u001b[38;5;241m=\u001b[39m\u001b[38;5;241m100\u001b[39m, hidden_size\u001b[38;5;241m=\u001b[39m\u001b[38;5;241m100\u001b[39m)\n\u001b[1;32m     31\u001b[0m \u001b[38;5;66;03m# Train the neural network\u001b[39;00m\n\u001b[0;32m---> 32\u001b[0m losses \u001b[38;5;241m=\u001b[39m \u001b[43mtrain_net_dgm\u001b[49m\u001b[43m(\u001b[49m\u001b[43mnet_dgm\u001b[49m\u001b[43m,\u001b[49m\u001b[43m \u001b[49m\u001b[43mt_train\u001b[49m\u001b[43m,\u001b[49m\u001b[43m \u001b[49m\u001b[43mx_train\u001b[49m\u001b[43m)\u001b[49m\n\u001b[1;32m     34\u001b[0m \u001b[38;5;66;03m# Plot the training loss\u001b[39;00m\n\u001b[1;32m     35\u001b[0m plt\u001b[38;5;241m.\u001b[39mplot(losses)\n",
      "Cell \u001b[0;32mIn[17], line 11\u001b[0m, in \u001b[0;36mtrain_net_dgm\u001b[0;34m(net_dgm, t_train, x_train, epochs, lr)\u001b[0m\n\u001b[1;32m      9\u001b[0m optimizer\u001b[38;5;241m.\u001b[39mzero_grad()\n\u001b[1;32m     10\u001b[0m v_pred \u001b[38;5;241m=\u001b[39m net_dgm(t_train\u001b[38;5;241m.\u001b[39munsqueeze(\u001b[38;5;241m1\u001b[39m), x_train\u001b[38;5;241m.\u001b[39msqueeze(\u001b[38;5;241m1\u001b[39m))  \u001b[38;5;66;03m# Predict value function\u001b[39;00m\n\u001b[0;32m---> 11\u001b[0m loss \u001b[38;5;241m=\u001b[39m criterion(v_pred, \u001b[43mlqr_system\u001b[49m\u001b[38;5;241;43m.\u001b[39;49m\u001b[43mvalue_function\u001b[49m\u001b[43m(\u001b[49m\u001b[43mt_train\u001b[49m\u001b[43m,\u001b[49m\u001b[43m \u001b[49m\u001b[43mx_train\u001b[49m\u001b[43m)\u001b[49m)  \u001b[38;5;66;03m# Compute loss\u001b[39;00m\n\u001b[1;32m     12\u001b[0m loss\u001b[38;5;241m.\u001b[39mbackward()\n\u001b[1;32m     13\u001b[0m optimizer\u001b[38;5;241m.\u001b[39mstep()\n",
      "Cell \u001b[0;32mIn[2], line 78\u001b[0m, in \u001b[0;36mLQR.value_function\u001b[0;34m(self, t_batch, x_batch)\u001b[0m\n\u001b[1;32m     76\u001b[0m     dt \u001b[38;5;241m=\u001b[39m time_grid[i \u001b[38;5;241m+\u001b[39m \u001b[38;5;241m1\u001b[39m] \u001b[38;5;241m-\u001b[39m time_grid[i]\n\u001b[1;32m     77\u001b[0m     int_term\u001b[38;5;241m=\u001b[39msigma\u001b[38;5;129m@sigma\u001b[39m\u001b[38;5;241m.\u001b[39mT\u001b[38;5;129m@S_ordered\u001b[39m[i]\n\u001b[0;32m---> 78\u001b[0m     trace_term \u001b[38;5;241m=\u001b[39m \u001b[43mtorch\u001b[49m\u001b[38;5;241;43m.\u001b[39;49m\u001b[43meinsum\u001b[49m\u001b[43m(\u001b[49m\u001b[38;5;124;43m'\u001b[39;49m\u001b[38;5;124;43mbij->b\u001b[39;49m\u001b[38;5;124;43m'\u001b[39;49m\u001b[43m,\u001b[49m\u001b[43mint_term\u001b[49m\u001b[38;5;241;43m.\u001b[39;49m\u001b[43munsqueeze\u001b[49m\u001b[43m(\u001b[49m\u001b[38;5;241;43m0\u001b[39;49m\u001b[43m)\u001b[49m\u001b[43m)\u001b[49m\n\u001b[1;32m     79\u001b[0m     integral_term \u001b[38;5;241m+\u001b[39m\u001b[38;5;241m=\u001b[39m trace_term \u001b[38;5;241m*\u001b[39m dt\n\u001b[1;32m     81\u001b[0m \u001b[38;5;66;03m# Compute the total value function: v(t, x) = x.transpose(S)x + trace_term\u001b[39;00m\n",
      "File \u001b[0;32m~/.local/lib/python3.10/site-packages/torch/functional.py:367\u001b[0m, in \u001b[0;36meinsum\u001b[0;34m(*args)\u001b[0m\n\u001b[1;32m    364\u001b[0m     equation \u001b[38;5;241m=\u001b[39m args[\u001b[38;5;241m0\u001b[39m]\n\u001b[1;32m    365\u001b[0m     operands \u001b[38;5;241m=\u001b[39m args[\u001b[38;5;241m1\u001b[39m:]\n\u001b[0;32m--> 367\u001b[0m \u001b[38;5;28;01mif\u001b[39;00m \u001b[43mhas_torch_function\u001b[49m\u001b[43m(\u001b[49m\u001b[43moperands\u001b[49m\u001b[43m)\u001b[49m:\n\u001b[1;32m    368\u001b[0m     \u001b[38;5;28;01mreturn\u001b[39;00m handle_torch_function(einsum, operands, equation, \u001b[38;5;241m*\u001b[39moperands)\n\u001b[1;32m    370\u001b[0m \u001b[38;5;28;01mif\u001b[39;00m \u001b[38;5;28mlen\u001b[39m(operands) \u001b[38;5;241m==\u001b[39m \u001b[38;5;241m1\u001b[39m \u001b[38;5;129;01mand\u001b[39;00m \u001b[38;5;28misinstance\u001b[39m(operands[\u001b[38;5;241m0\u001b[39m], (\u001b[38;5;28mlist\u001b[39m, \u001b[38;5;28mtuple\u001b[39m)):\n\u001b[1;32m    371\u001b[0m     \u001b[38;5;66;03m# the old interface of passing the operands as one list argument\u001b[39;00m\n",
      "\u001b[0;31mKeyboardInterrupt\u001b[0m: "
     ]
    }
   ],
   "source": [
    "# Function to train the neural network\n",
    "def train_net_dgm(net_dgm, t_train, x_train, epochs=1000, lr=0.001):\n",
    "    optimizer = optim.Adam(net_dgm.parameters(), lr=lr)\n",
    "    criterion = nn.MSELoss()\n",
    "\n",
    "    losses = []\n",
    "\n",
    "    for epoch in range(epochs):\n",
    "        optimizer.zero_grad()\n",
    "        v_pred = net_dgm(t_train.unsqueeze(1), x_train.squeeze(1))  # Predict value function\n",
    "        loss = criterion(v_pred, lqr_system.value_function(t_train, x_train))  # Compute loss\n",
    "        loss.backward()\n",
    "        optimizer.step()\n",
    "        losses.append(loss.item())\n",
    "\n",
    "        if epoch % 100 == 0:\n",
    "            print(f'Epoch {epoch}, Loss: {loss.item()}')\n",
    "\n",
    "    return losses\n",
    "\n",
    "# Generate training data\n",
    "T = 10\n",
    "num_samples = 10\n",
    "t_train, x_train = generate_training_data(T, num_samples)\n",
    "lqr_system.value_function(t_train, x_train)\n",
    "\n",
    "# Initialize the neural network\n",
    "net_dgm = Net_DGM(dim_x=2, dim_S=100, hidden_size=100)\n",
    "\n",
    "# Train the neural network\n",
    "losses = train_net_dgm(net_dgm, t_train, x_train)\n",
    "\n",
    "# Plot the training loss\n",
    "plt.plot(losses)\n",
    "plt.xlabel('Epochs')\n",
    "plt.ylabel('Loss')\n",
    "plt.title('Training Loss')\n",
    "plt.show()\n"
   ]
  },
  {
   "cell_type": "code",
   "execution_count": 19,
   "metadata": {},
   "outputs": [
    {
     "name": "stdout",
     "output_type": "stream",
     "text": [
      "tensor([[[-0.4739, -0.7655]],\n",
      "\n",
      "        [[ 5.7272, -3.3154]],\n",
      "\n",
      "        [[ 0.3340,  2.6193]],\n",
      "\n",
      "        [[-5.5408, -0.7044]],\n",
      "\n",
      "        [[-1.9877,  3.9947]],\n",
      "\n",
      "        [[-2.7700, -4.3633]],\n",
      "\n",
      "        [[ 3.6246,  3.3604]],\n",
      "\n",
      "        [[ 3.6214, -5.3661]],\n",
      "\n",
      "        [[-4.3558,  2.3364]],\n",
      "\n",
      "        [[-4.5242,  0.4089]]])\n"
     ]
    },
    {
     "name": "stderr",
     "output_type": "stream",
     "text": [
      "/home/codespace/.local/lib/python3.10/site-packages/torch/nn/modules/loss.py:535: UserWarning: Using a target size (torch.Size([10, 1, 2])) that is different to the input size (torch.Size([10, 2])). This will likely lead to incorrect results due to broadcasting. Please ensure they have the same size.\n",
      "  return F.mse_loss(input, target, reduction=self.reduction)\n"
     ]
    },
    {
     "name": "stdout",
     "output_type": "stream",
     "text": [
      "Epoch 0, Loss: 12.202160835266113\n"
     ]
    },
    {
     "ename": "KeyboardInterrupt",
     "evalue": "",
     "output_type": "error",
     "traceback": [
      "\u001b[0;31m---------------------------------------------------------------------------\u001b[0m",
      "\u001b[0;31mKeyboardInterrupt\u001b[0m                         Traceback (most recent call last)",
      "Cell \u001b[0;32mIn[19], line 34\u001b[0m\n\u001b[1;32m     31\u001b[0m net_ffn \u001b[38;5;241m=\u001b[39m FFN(sizes)\n\u001b[1;32m     33\u001b[0m \u001b[38;5;66;03m# Train the neural network\u001b[39;00m\n\u001b[0;32m---> 34\u001b[0m losses \u001b[38;5;241m=\u001b[39m \u001b[43mtrain_ffn_net\u001b[49m\u001b[43m(\u001b[49m\u001b[43mnet_ffn\u001b[49m\u001b[43m,\u001b[49m\u001b[43m \u001b[49m\u001b[43mt_train\u001b[49m\u001b[43m,\u001b[49m\u001b[43m \u001b[49m\u001b[43mx_train\u001b[49m\u001b[43m)\u001b[49m\n\u001b[1;32m     36\u001b[0m \u001b[38;5;66;03m# Plot the training loss\u001b[39;00m\n\u001b[1;32m     37\u001b[0m plt\u001b[38;5;241m.\u001b[39mplot(losses)\n",
      "Cell \u001b[0;32mIn[19], line 11\u001b[0m, in \u001b[0;36mtrain_ffn_net\u001b[0;34m(net_ffn, t_train, x_train, epochs, lr)\u001b[0m\n\u001b[1;32m      9\u001b[0m optimizer\u001b[38;5;241m.\u001b[39mzero_grad()\n\u001b[1;32m     10\u001b[0m a_pred \u001b[38;5;241m=\u001b[39m net_ffn(torch\u001b[38;5;241m.\u001b[39mcat((t_train\u001b[38;5;241m.\u001b[39munsqueeze(\u001b[38;5;241m1\u001b[39m), x_train\u001b[38;5;241m.\u001b[39msqueeze(\u001b[38;5;241m1\u001b[39m)), dim\u001b[38;5;241m=\u001b[39m\u001b[38;5;241m1\u001b[39m))  \u001b[38;5;66;03m# Predict markov control\u001b[39;00m\n\u001b[0;32m---> 11\u001b[0m loss \u001b[38;5;241m=\u001b[39m loss \u001b[38;5;241m=\u001b[39m criterion(a_pred, \u001b[43mlqr_system\u001b[49m\u001b[38;5;241;43m.\u001b[39;49m\u001b[43mmarkov_control\u001b[49m\u001b[43m(\u001b[49m\u001b[43mt_train\u001b[49m\u001b[43m,\u001b[49m\u001b[43m \u001b[49m\u001b[43mx_train\u001b[49m\u001b[43m)\u001b[49m)\n\u001b[1;32m     12\u001b[0m loss\u001b[38;5;241m.\u001b[39mbackward()\n\u001b[1;32m     13\u001b[0m optimizer\u001b[38;5;241m.\u001b[39mstep()\n",
      "Cell \u001b[0;32mIn[2], line 53\u001b[0m, in \u001b[0;36mLQR.markov_control\u001b[0;34m(self, t_batch, x_batch)\u001b[0m\n\u001b[1;32m     51\u001b[0m \u001b[38;5;28;01mfor\u001b[39;00m t \u001b[38;5;129;01min\u001b[39;00m \u001b[38;5;28mrange\u001b[39m(\u001b[38;5;28mlen\u001b[39m(t_batch)):\n\u001b[1;32m     52\u001b[0m     time_grid \u001b[38;5;241m=\u001b[39m torch\u001b[38;5;241m.\u001b[39mlinspace(\u001b[38;5;28mfloat\u001b[39m(t_batch[t]), \u001b[38;5;28mself\u001b[39m\u001b[38;5;241m.\u001b[39mT, \u001b[38;5;241m1000\u001b[39m, dtype\u001b[38;5;241m=\u001b[39mtorch\u001b[38;5;241m.\u001b[39mfloat32)\n\u001b[0;32m---> 53\u001b[0m     S \u001b[38;5;241m=\u001b[39m \u001b[38;5;28;43mself\u001b[39;49m\u001b[38;5;241;43m.\u001b[39;49m\u001b[43msolve_ricatti_ode\u001b[49m\u001b[43m(\u001b[49m\u001b[43mtime_grid\u001b[49m\u001b[43m)\u001b[49m\u001b[38;5;241m.\u001b[39mT\u001b[38;5;241m.\u001b[39mreshape(\u001b[38;5;28mlen\u001b[39m(time_grid),\u001b[38;5;241m2\u001b[39m,\u001b[38;5;241m2\u001b[39m)\u001b[38;5;241m.\u001b[39mfloat()\n\u001b[1;32m     54\u001b[0m     S_ordered \u001b[38;5;241m=\u001b[39mtorch\u001b[38;5;241m.\u001b[39mflip(S,dims\u001b[38;5;241m=\u001b[39m[\u001b[38;5;241m0\u001b[39m])\n\u001b[1;32m     55\u001b[0m     x_batch_n \u001b[38;5;241m=\u001b[39m x_batch[t]\n",
      "Cell \u001b[0;32mIn[2], line 27\u001b[0m, in \u001b[0;36mLQR.solve_ricatti_ode\u001b[0;34m(self, time_grid)\u001b[0m\n\u001b[1;32m     23\u001b[0m \u001b[38;5;66;03m# Time points (reversed for backward integration)\u001b[39;00m\n\u001b[1;32m     24\u001b[0m \u001b[38;5;66;03m# t_points = np.linspace(0, self.T, 1000)[::-1]  \u001b[39;00m\n\u001b[1;32m     25\u001b[0m intial_cond \u001b[38;5;241m=\u001b[39m \u001b[38;5;28mself\u001b[39m\u001b[38;5;241m.\u001b[39mR\u001b[38;5;241m.\u001b[39mflatten()\u001b[38;5;241m.\u001b[39mdetach()\u001b[38;5;241m.\u001b[39mnumpy()\n\u001b[0;32m---> 27\u001b[0m sol \u001b[38;5;241m=\u001b[39m \u001b[43msolve_ivp\u001b[49m\u001b[43m(\u001b[49m\n\u001b[1;32m     28\u001b[0m \u001b[43m    \u001b[49m\u001b[38;5;28;43mself\u001b[39;49m\u001b[38;5;241;43m.\u001b[39;49m\u001b[43mriccati_ode\u001b[49m\u001b[43m,\u001b[49m\u001b[43m \u001b[49m\u001b[43m[\u001b[49m\u001b[38;5;28;43mself\u001b[39;49m\u001b[38;5;241;43m.\u001b[39;49m\u001b[43mT\u001b[49m\u001b[38;5;241;43m.\u001b[39;49m\u001b[43mitem\u001b[49m\u001b[43m(\u001b[49m\u001b[43m)\u001b[49m\u001b[43m,\u001b[49m\u001b[43m \u001b[49m\u001b[43mtime_grid\u001b[49m\u001b[43m[\u001b[49m\u001b[38;5;241;43m0\u001b[39;49m\u001b[43m]\u001b[49m\u001b[38;5;241;43m.\u001b[39;49m\u001b[43mitem\u001b[49m\u001b[43m(\u001b[49m\u001b[43m)\u001b[49m\u001b[43m]\u001b[49m\u001b[43m,\u001b[49m\u001b[43m \u001b[49m\n\u001b[1;32m     29\u001b[0m \u001b[43m    \u001b[49m\u001b[43mintial_cond\u001b[49m\u001b[43m,\u001b[49m\u001b[43m \u001b[49m\u001b[43mt_eval\u001b[49m\u001b[38;5;241;43m=\u001b[39;49m\u001b[43mtime_grid\u001b[49m\u001b[38;5;241;43m.\u001b[39;49m\u001b[43mnumpy\u001b[49m\u001b[43m(\u001b[49m\u001b[43m)\u001b[49m\u001b[43m[\u001b[49m\u001b[43m:\u001b[49m\u001b[43m:\u001b[49m\u001b[38;5;241;43m-\u001b[39;49m\u001b[38;5;241;43m1\u001b[39;49m\u001b[43m]\u001b[49m\u001b[43m,\u001b[49m\u001b[43m \u001b[49m\u001b[43mmethod\u001b[49m\u001b[38;5;241;43m=\u001b[39;49m\u001b[38;5;124;43m'\u001b[39;49m\u001b[38;5;124;43mRK45\u001b[39;49m\u001b[38;5;124;43m'\u001b[39;49m\n\u001b[1;32m     30\u001b[0m \u001b[43m    \u001b[49m\u001b[43m)\u001b[49m\n\u001b[1;32m     32\u001b[0m S \u001b[38;5;241m=\u001b[39m torch\u001b[38;5;241m.\u001b[39mtensor(sol\u001b[38;5;241m.\u001b[39my)\n\u001b[1;32m     34\u001b[0m \u001b[38;5;28;01mreturn\u001b[39;00m S\n",
      "File \u001b[0;32m~/.local/lib/python3.10/site-packages/scipy/integrate/_ivp/ivp.py:650\u001b[0m, in \u001b[0;36msolve_ivp\u001b[0;34m(fun, t_span, y0, method, t_eval, dense_output, events, vectorized, args, **options)\u001b[0m\n\u001b[1;32m    648\u001b[0m status \u001b[38;5;241m=\u001b[39m \u001b[38;5;28;01mNone\u001b[39;00m\n\u001b[1;32m    649\u001b[0m \u001b[38;5;28;01mwhile\u001b[39;00m status \u001b[38;5;129;01mis\u001b[39;00m \u001b[38;5;28;01mNone\u001b[39;00m:\n\u001b[0;32m--> 650\u001b[0m     message \u001b[38;5;241m=\u001b[39m \u001b[43msolver\u001b[49m\u001b[38;5;241;43m.\u001b[39;49m\u001b[43mstep\u001b[49m\u001b[43m(\u001b[49m\u001b[43m)\u001b[49m\n\u001b[1;32m    652\u001b[0m     \u001b[38;5;28;01mif\u001b[39;00m solver\u001b[38;5;241m.\u001b[39mstatus \u001b[38;5;241m==\u001b[39m \u001b[38;5;124m'\u001b[39m\u001b[38;5;124mfinished\u001b[39m\u001b[38;5;124m'\u001b[39m:\n\u001b[1;32m    653\u001b[0m         status \u001b[38;5;241m=\u001b[39m \u001b[38;5;241m0\u001b[39m\n",
      "File \u001b[0;32m~/.local/lib/python3.10/site-packages/scipy/integrate/_ivp/base.py:197\u001b[0m, in \u001b[0;36mOdeSolver.step\u001b[0;34m(self)\u001b[0m\n\u001b[1;32m    195\u001b[0m \u001b[38;5;28;01melse\u001b[39;00m:\n\u001b[1;32m    196\u001b[0m     t \u001b[38;5;241m=\u001b[39m \u001b[38;5;28mself\u001b[39m\u001b[38;5;241m.\u001b[39mt\n\u001b[0;32m--> 197\u001b[0m     success, message \u001b[38;5;241m=\u001b[39m \u001b[38;5;28;43mself\u001b[39;49m\u001b[38;5;241;43m.\u001b[39;49m\u001b[43m_step_impl\u001b[49m\u001b[43m(\u001b[49m\u001b[43m)\u001b[49m\n\u001b[1;32m    199\u001b[0m     \u001b[38;5;28;01mif\u001b[39;00m \u001b[38;5;129;01mnot\u001b[39;00m success:\n\u001b[1;32m    200\u001b[0m         \u001b[38;5;28mself\u001b[39m\u001b[38;5;241m.\u001b[39mstatus \u001b[38;5;241m=\u001b[39m \u001b[38;5;124m'\u001b[39m\u001b[38;5;124mfailed\u001b[39m\u001b[38;5;124m'\u001b[39m\n",
      "File \u001b[0;32m~/.local/lib/python3.10/site-packages/scipy/integrate/_ivp/rk.py:144\u001b[0m, in \u001b[0;36mRungeKutta._step_impl\u001b[0;34m(self)\u001b[0m\n\u001b[1;32m    141\u001b[0m h \u001b[38;5;241m=\u001b[39m t_new \u001b[38;5;241m-\u001b[39m t\n\u001b[1;32m    142\u001b[0m h_abs \u001b[38;5;241m=\u001b[39m np\u001b[38;5;241m.\u001b[39mabs(h)\n\u001b[0;32m--> 144\u001b[0m y_new, f_new \u001b[38;5;241m=\u001b[39m \u001b[43mrk_step\u001b[49m\u001b[43m(\u001b[49m\u001b[38;5;28;43mself\u001b[39;49m\u001b[38;5;241;43m.\u001b[39;49m\u001b[43mfun\u001b[49m\u001b[43m,\u001b[49m\u001b[43m \u001b[49m\u001b[43mt\u001b[49m\u001b[43m,\u001b[49m\u001b[43m \u001b[49m\u001b[43my\u001b[49m\u001b[43m,\u001b[49m\u001b[43m \u001b[49m\u001b[38;5;28;43mself\u001b[39;49m\u001b[38;5;241;43m.\u001b[39;49m\u001b[43mf\u001b[49m\u001b[43m,\u001b[49m\u001b[43m \u001b[49m\u001b[43mh\u001b[49m\u001b[43m,\u001b[49m\u001b[43m \u001b[49m\u001b[38;5;28;43mself\u001b[39;49m\u001b[38;5;241;43m.\u001b[39;49m\u001b[43mA\u001b[49m\u001b[43m,\u001b[49m\n\u001b[1;32m    145\u001b[0m \u001b[43m                       \u001b[49m\u001b[38;5;28;43mself\u001b[39;49m\u001b[38;5;241;43m.\u001b[39;49m\u001b[43mB\u001b[49m\u001b[43m,\u001b[49m\u001b[43m \u001b[49m\u001b[38;5;28;43mself\u001b[39;49m\u001b[38;5;241;43m.\u001b[39;49m\u001b[43mC\u001b[49m\u001b[43m,\u001b[49m\u001b[43m \u001b[49m\u001b[38;5;28;43mself\u001b[39;49m\u001b[38;5;241;43m.\u001b[39;49m\u001b[43mK\u001b[49m\u001b[43m)\u001b[49m\n\u001b[1;32m    146\u001b[0m scale \u001b[38;5;241m=\u001b[39m atol \u001b[38;5;241m+\u001b[39m np\u001b[38;5;241m.\u001b[39mmaximum(np\u001b[38;5;241m.\u001b[39mabs(y), np\u001b[38;5;241m.\u001b[39mabs(y_new)) \u001b[38;5;241m*\u001b[39m rtol\n\u001b[1;32m    147\u001b[0m error_norm \u001b[38;5;241m=\u001b[39m \u001b[38;5;28mself\u001b[39m\u001b[38;5;241m.\u001b[39m_estimate_error_norm(\u001b[38;5;28mself\u001b[39m\u001b[38;5;241m.\u001b[39mK, h, scale)\n",
      "File \u001b[0;32m~/.local/lib/python3.10/site-packages/scipy/integrate/_ivp/rk.py:64\u001b[0m, in \u001b[0;36mrk_step\u001b[0;34m(fun, t, y, f, h, A, B, C, K)\u001b[0m\n\u001b[1;32m     62\u001b[0m \u001b[38;5;28;01mfor\u001b[39;00m s, (a, c) \u001b[38;5;129;01min\u001b[39;00m \u001b[38;5;28menumerate\u001b[39m(\u001b[38;5;28mzip\u001b[39m(A[\u001b[38;5;241m1\u001b[39m:], C[\u001b[38;5;241m1\u001b[39m:]), start\u001b[38;5;241m=\u001b[39m\u001b[38;5;241m1\u001b[39m):\n\u001b[1;32m     63\u001b[0m     dy \u001b[38;5;241m=\u001b[39m np\u001b[38;5;241m.\u001b[39mdot(K[:s]\u001b[38;5;241m.\u001b[39mT, a[:s]) \u001b[38;5;241m*\u001b[39m h\n\u001b[0;32m---> 64\u001b[0m     K[s] \u001b[38;5;241m=\u001b[39m \u001b[43mfun\u001b[49m\u001b[43m(\u001b[49m\u001b[43mt\u001b[49m\u001b[43m \u001b[49m\u001b[38;5;241;43m+\u001b[39;49m\u001b[43m \u001b[49m\u001b[43mc\u001b[49m\u001b[43m \u001b[49m\u001b[38;5;241;43m*\u001b[39;49m\u001b[43m \u001b[49m\u001b[43mh\u001b[49m\u001b[43m,\u001b[49m\u001b[43m \u001b[49m\u001b[43my\u001b[49m\u001b[43m \u001b[49m\u001b[38;5;241;43m+\u001b[39;49m\u001b[43m \u001b[49m\u001b[43mdy\u001b[49m\u001b[43m)\u001b[49m\n\u001b[1;32m     66\u001b[0m y_new \u001b[38;5;241m=\u001b[39m y \u001b[38;5;241m+\u001b[39m h \u001b[38;5;241m*\u001b[39m np\u001b[38;5;241m.\u001b[39mdot(K[:\u001b[38;5;241m-\u001b[39m\u001b[38;5;241m1\u001b[39m]\u001b[38;5;241m.\u001b[39mT, B)\n\u001b[1;32m     67\u001b[0m f_new \u001b[38;5;241m=\u001b[39m fun(t \u001b[38;5;241m+\u001b[39m h, y_new)\n",
      "File \u001b[0;32m~/.local/lib/python3.10/site-packages/scipy/integrate/_ivp/base.py:154\u001b[0m, in \u001b[0;36mOdeSolver.__init__.<locals>.fun\u001b[0;34m(t, y)\u001b[0m\n\u001b[1;32m    152\u001b[0m \u001b[38;5;28;01mdef\u001b[39;00m \u001b[38;5;21mfun\u001b[39m(t, y):\n\u001b[1;32m    153\u001b[0m     \u001b[38;5;28mself\u001b[39m\u001b[38;5;241m.\u001b[39mnfev \u001b[38;5;241m+\u001b[39m\u001b[38;5;241m=\u001b[39m \u001b[38;5;241m1\u001b[39m\n\u001b[0;32m--> 154\u001b[0m     \u001b[38;5;28;01mreturn\u001b[39;00m \u001b[38;5;28;43mself\u001b[39;49m\u001b[38;5;241;43m.\u001b[39;49m\u001b[43mfun_single\u001b[49m\u001b[43m(\u001b[49m\u001b[43mt\u001b[49m\u001b[43m,\u001b[49m\u001b[43m \u001b[49m\u001b[43my\u001b[49m\u001b[43m)\u001b[49m\n",
      "File \u001b[0;32m~/.local/lib/python3.10/site-packages/scipy/integrate/_ivp/base.py:23\u001b[0m, in \u001b[0;36mcheck_arguments.<locals>.fun_wrapped\u001b[0;34m(t, y)\u001b[0m\n\u001b[1;32m     22\u001b[0m \u001b[38;5;28;01mdef\u001b[39;00m \u001b[38;5;21mfun_wrapped\u001b[39m(t, y):\n\u001b[0;32m---> 23\u001b[0m     \u001b[38;5;28;01mreturn\u001b[39;00m np\u001b[38;5;241m.\u001b[39masarray(\u001b[43mfun\u001b[49m\u001b[43m(\u001b[49m\u001b[43mt\u001b[49m\u001b[43m,\u001b[49m\u001b[43m \u001b[49m\u001b[43my\u001b[49m\u001b[43m)\u001b[49m, dtype\u001b[38;5;241m=\u001b[39mdtype)\n",
      "Cell \u001b[0;32mIn[2], line 14\u001b[0m, in \u001b[0;36mLQR.riccati_ode\u001b[0;34m(self, t, S_flat)\u001b[0m\n\u001b[1;32m     12\u001b[0m \u001b[38;5;28;01mdef\u001b[39;00m \u001b[38;5;21mriccati_ode\u001b[39m(\u001b[38;5;28mself\u001b[39m, t, S_flat):\n\u001b[1;32m     13\u001b[0m     S \u001b[38;5;241m=\u001b[39m torch\u001b[38;5;241m.\u001b[39mtensor(S_flat, dtype\u001b[38;5;241m=\u001b[39mtorch\u001b[38;5;241m.\u001b[39mfloat32)\u001b[38;5;241m.\u001b[39mreshape((\u001b[38;5;241m2\u001b[39m, \u001b[38;5;241m2\u001b[39m))  \u001b[38;5;66;03m# Convert S_flat to a PyTorch tensor\u001b[39;00m\n\u001b[0;32m---> 14\u001b[0m     dS \u001b[38;5;241m=\u001b[39m (\u001b[38;5;241m-\u001b[39m\u001b[38;5;241m2\u001b[39m \u001b[38;5;241m*\u001b[39m (\u001b[38;5;28mself\u001b[39m\u001b[38;5;241m.\u001b[39mH\u001b[38;5;241m.\u001b[39mt() \u001b[38;5;241m@\u001b[39m S) \u001b[38;5;241m+\u001b[39m S \u001b[38;5;241m@\u001b[39m (\u001b[38;5;28mself\u001b[39m\u001b[38;5;241m.\u001b[39mM) \u001b[38;5;241m@\u001b[39m (\u001b[43mtorch\u001b[49m\u001b[38;5;241;43m.\u001b[39;49m\u001b[43minverse\u001b[49m\u001b[43m(\u001b[49m\u001b[38;5;28;43mself\u001b[39;49m\u001b[38;5;241;43m.\u001b[39;49m\u001b[43mD\u001b[49m\u001b[43m)\u001b[49m) \u001b[38;5;241m@\u001b[39m (np\u001b[38;5;241m.\u001b[39mtranspose(\u001b[38;5;28mself\u001b[39m\u001b[38;5;241m.\u001b[39mM)) \u001b[38;5;241m@\u001b[39m S \u001b[38;5;241m-\u001b[39m \u001b[38;5;28mself\u001b[39m\u001b[38;5;241m.\u001b[39mC)\n\u001b[1;32m     15\u001b[0m     \u001b[38;5;28;01mreturn\u001b[39;00m dS\u001b[38;5;241m.\u001b[39mflatten()\u001b[38;5;241m.\u001b[39mdetach()\u001b[38;5;241m.\u001b[39mnumpy()\n",
      "\u001b[0;31mKeyboardInterrupt\u001b[0m: "
     ]
    }
   ],
   "source": [
    "# Function to train the neural network\n",
    "def train_ffn_net(net_ffn, t_train, x_train, epochs=1000, lr=0.001):\n",
    "    optimizer = optim.Adam(net_ffn.parameters(), lr=lr)\n",
    "    criterion = nn.MSELoss()\n",
    "\n",
    "    losses = []\n",
    "\n",
    "    for epoch in range(epochs):\n",
    "        optimizer.zero_grad()\n",
    "        a_pred = net_ffn(torch.cat((t_train.unsqueeze(1), x_train.squeeze(1)), dim=1))  # Predict markov control\n",
    "        loss = loss = criterion(a_pred, lqr_system.markov_control(t_train, x_train))\n",
    "        loss.backward()\n",
    "        optimizer.step()\n",
    "        losses.append(loss.item())\n",
    "\n",
    "        if epoch % 100 == 0:\n",
    "            print(f'Epoch {epoch}, Loss: {loss.item()}')\n",
    "\n",
    "    return losses\n",
    "\n",
    "# Generate training data\n",
    "T = 10\n",
    "num_samples = 10\n",
    "t_train, x_train = generate_training_data(T, num_samples)\n",
    "print(lqr_system.markov_control(t_train, x_train))\n",
    "\n",
    "# Define the sizes for the FFN network\n",
    "sizes = [3, 100, 100, 2]  # Input size is 3 (time + 2 coordinates), 2 hidden layers of size 100, output size is 2\n",
    "\n",
    "# Initialize the neural network\n",
    "net_ffn = FFN(sizes)\n",
    "\n",
    "# Train the neural network\n",
    "losses = train_ffn_net(net_ffn, t_train, x_train)\n",
    "\n",
    "# Plot the training loss\n",
    "plt.plot(losses)\n",
    "plt.xlabel('Epochs')\n",
    "plt.ylabel('Loss')\n",
    "plt.title('Training Loss')\n",
    "plt.show()\n"
   ]
  },
  {
   "cell_type": "code",
   "execution_count": 48,
   "metadata": {},
   "outputs": [
    {
     "name": "stdout",
     "output_type": "stream",
     "text": [
      "Epoch 0, Loss: 1.5503544807434082\n"
     ]
    },
    {
     "name": "stdout",
     "output_type": "stream",
     "text": [
      "Epoch 100, Loss: -227.88821411132812\n",
      "Epoch 200, Loss: -9006.6044921875\n",
      "Epoch 300, Loss: -86303.328125\n",
      "Epoch 400, Loss: -309862.34375\n",
      "Epoch 500, Loss: -697840.5625\n",
      "Epoch 600, Loss: -1276609.625\n",
      "Epoch 700, Loss: -2086489.625\n",
      "Epoch 800, Loss: -3166224.0\n",
      "Epoch 900, Loss: -4567983.0\n",
      "None\n"
     ]
    },
    {
     "ename": "ValueError",
     "evalue": "x, y, and format string must not be None",
     "output_type": "error",
     "traceback": [
      "\u001b[0;31m---------------------------------------------------------------------------\u001b[0m",
      "\u001b[0;31mValueError\u001b[0m                                Traceback (most recent call last)",
      "Cell \u001b[0;32mIn[48], line 104\u001b[0m\n\u001b[1;32m    101\u001b[0m \u001b[38;5;28mprint\u001b[39m(losses)\n\u001b[1;32m    103\u001b[0m \u001b[38;5;66;03m# Plot the losses\u001b[39;00m\n\u001b[0;32m--> 104\u001b[0m \u001b[43mplt\u001b[49m\u001b[38;5;241;43m.\u001b[39;49m\u001b[43mplot\u001b[49m\u001b[43m(\u001b[49m\u001b[38;5;28;43mrange\u001b[39;49m\u001b[43m(\u001b[49m\u001b[43mepochs\u001b[49m\u001b[43m)\u001b[49m\u001b[43m,\u001b[49m\u001b[43m \u001b[49m\u001b[43mlosses\u001b[49m\u001b[43m,\u001b[49m\u001b[43m \u001b[49m\u001b[43mlabel\u001b[49m\u001b[38;5;241;43m=\u001b[39;49m\u001b[38;5;124;43m'\u001b[39;49m\u001b[38;5;124;43mTraining Loss\u001b[39;49m\u001b[38;5;124;43m'\u001b[39;49m\u001b[43m)\u001b[49m\n\u001b[1;32m    105\u001b[0m plt\u001b[38;5;241m.\u001b[39mxlabel(\u001b[38;5;124m'\u001b[39m\u001b[38;5;124mEpoch\u001b[39m\u001b[38;5;124m'\u001b[39m)\n\u001b[1;32m    106\u001b[0m plt\u001b[38;5;241m.\u001b[39mylabel(\u001b[38;5;124m'\u001b[39m\u001b[38;5;124mLoss\u001b[39m\u001b[38;5;124m'\u001b[39m)\n",
      "File \u001b[0;32m~/.local/lib/python3.10/site-packages/matplotlib/pyplot.py:3590\u001b[0m, in \u001b[0;36mplot\u001b[0;34m(scalex, scaley, data, *args, **kwargs)\u001b[0m\n\u001b[1;32m   3582\u001b[0m \u001b[38;5;129m@_copy_docstring_and_deprecators\u001b[39m(Axes\u001b[38;5;241m.\u001b[39mplot)\n\u001b[1;32m   3583\u001b[0m \u001b[38;5;28;01mdef\u001b[39;00m \u001b[38;5;21mplot\u001b[39m(\n\u001b[1;32m   3584\u001b[0m     \u001b[38;5;241m*\u001b[39margs: \u001b[38;5;28mfloat\u001b[39m \u001b[38;5;241m|\u001b[39m ArrayLike \u001b[38;5;241m|\u001b[39m \u001b[38;5;28mstr\u001b[39m,\n\u001b[0;32m   (...)\u001b[0m\n\u001b[1;32m   3588\u001b[0m     \u001b[38;5;241m*\u001b[39m\u001b[38;5;241m*\u001b[39mkwargs,\n\u001b[1;32m   3589\u001b[0m ) \u001b[38;5;241m-\u001b[39m\u001b[38;5;241m>\u001b[39m \u001b[38;5;28mlist\u001b[39m[Line2D]:\n\u001b[0;32m-> 3590\u001b[0m     \u001b[38;5;28;01mreturn\u001b[39;00m \u001b[43mgca\u001b[49m\u001b[43m(\u001b[49m\u001b[43m)\u001b[49m\u001b[38;5;241;43m.\u001b[39;49m\u001b[43mplot\u001b[49m\u001b[43m(\u001b[49m\n\u001b[1;32m   3591\u001b[0m \u001b[43m        \u001b[49m\u001b[38;5;241;43m*\u001b[39;49m\u001b[43margs\u001b[49m\u001b[43m,\u001b[49m\n\u001b[1;32m   3592\u001b[0m \u001b[43m        \u001b[49m\u001b[43mscalex\u001b[49m\u001b[38;5;241;43m=\u001b[39;49m\u001b[43mscalex\u001b[49m\u001b[43m,\u001b[49m\n\u001b[1;32m   3593\u001b[0m \u001b[43m        \u001b[49m\u001b[43mscaley\u001b[49m\u001b[38;5;241;43m=\u001b[39;49m\u001b[43mscaley\u001b[49m\u001b[43m,\u001b[49m\n\u001b[1;32m   3594\u001b[0m \u001b[43m        \u001b[49m\u001b[38;5;241;43m*\u001b[39;49m\u001b[38;5;241;43m*\u001b[39;49m\u001b[43m(\u001b[49m\u001b[43m{\u001b[49m\u001b[38;5;124;43m\"\u001b[39;49m\u001b[38;5;124;43mdata\u001b[39;49m\u001b[38;5;124;43m\"\u001b[39;49m\u001b[43m:\u001b[49m\u001b[43m \u001b[49m\u001b[43mdata\u001b[49m\u001b[43m}\u001b[49m\u001b[43m \u001b[49m\u001b[38;5;28;43;01mif\u001b[39;49;00m\u001b[43m \u001b[49m\u001b[43mdata\u001b[49m\u001b[43m \u001b[49m\u001b[38;5;129;43;01mis\u001b[39;49;00m\u001b[43m \u001b[49m\u001b[38;5;129;43;01mnot\u001b[39;49;00m\u001b[43m \u001b[49m\u001b[38;5;28;43;01mNone\u001b[39;49;00m\u001b[43m \u001b[49m\u001b[38;5;28;43;01melse\u001b[39;49;00m\u001b[43m \u001b[49m\u001b[43m{\u001b[49m\u001b[43m}\u001b[49m\u001b[43m)\u001b[49m\u001b[43m,\u001b[49m\n\u001b[1;32m   3595\u001b[0m \u001b[43m        \u001b[49m\u001b[38;5;241;43m*\u001b[39;49m\u001b[38;5;241;43m*\u001b[39;49m\u001b[43mkwargs\u001b[49m\u001b[43m,\u001b[49m\n\u001b[1;32m   3596\u001b[0m \u001b[43m    \u001b[49m\u001b[43m)\u001b[49m\n",
      "File \u001b[0;32m~/.local/lib/python3.10/site-packages/matplotlib/axes/_axes.py:1724\u001b[0m, in \u001b[0;36mAxes.plot\u001b[0;34m(self, scalex, scaley, data, *args, **kwargs)\u001b[0m\n\u001b[1;32m   1481\u001b[0m \u001b[38;5;250m\u001b[39m\u001b[38;5;124;03m\"\"\"\u001b[39;00m\n\u001b[1;32m   1482\u001b[0m \u001b[38;5;124;03mPlot y versus x as lines and/or markers.\u001b[39;00m\n\u001b[1;32m   1483\u001b[0m \n\u001b[0;32m   (...)\u001b[0m\n\u001b[1;32m   1721\u001b[0m \u001b[38;5;124;03m(``'green'``) or hex strings (``'#008000'``).\u001b[39;00m\n\u001b[1;32m   1722\u001b[0m \u001b[38;5;124;03m\"\"\"\u001b[39;00m\n\u001b[1;32m   1723\u001b[0m kwargs \u001b[38;5;241m=\u001b[39m cbook\u001b[38;5;241m.\u001b[39mnormalize_kwargs(kwargs, mlines\u001b[38;5;241m.\u001b[39mLine2D)\n\u001b[0;32m-> 1724\u001b[0m lines \u001b[38;5;241m=\u001b[39m [\u001b[38;5;241m*\u001b[39m\u001b[38;5;28mself\u001b[39m\u001b[38;5;241m.\u001b[39m_get_lines(\u001b[38;5;28mself\u001b[39m, \u001b[38;5;241m*\u001b[39margs, data\u001b[38;5;241m=\u001b[39mdata, \u001b[38;5;241m*\u001b[39m\u001b[38;5;241m*\u001b[39mkwargs)]\n\u001b[1;32m   1725\u001b[0m \u001b[38;5;28;01mfor\u001b[39;00m line \u001b[38;5;129;01min\u001b[39;00m lines:\n\u001b[1;32m   1726\u001b[0m     \u001b[38;5;28mself\u001b[39m\u001b[38;5;241m.\u001b[39madd_line(line)\n",
      "File \u001b[0;32m~/.local/lib/python3.10/site-packages/matplotlib/axes/_base.py:303\u001b[0m, in \u001b[0;36m_process_plot_var_args.__call__\u001b[0;34m(self, axes, data, *args, **kwargs)\u001b[0m\n\u001b[1;32m    301\u001b[0m     this \u001b[38;5;241m+\u001b[39m\u001b[38;5;241m=\u001b[39m args[\u001b[38;5;241m0\u001b[39m],\n\u001b[1;32m    302\u001b[0m     args \u001b[38;5;241m=\u001b[39m args[\u001b[38;5;241m1\u001b[39m:]\n\u001b[0;32m--> 303\u001b[0m \u001b[38;5;28;01myield from\u001b[39;00m \u001b[38;5;28;43mself\u001b[39;49m\u001b[38;5;241;43m.\u001b[39;49m\u001b[43m_plot_args\u001b[49m\u001b[43m(\u001b[49m\n\u001b[1;32m    304\u001b[0m \u001b[43m    \u001b[49m\u001b[43maxes\u001b[49m\u001b[43m,\u001b[49m\u001b[43m \u001b[49m\u001b[43mthis\u001b[49m\u001b[43m,\u001b[49m\u001b[43m \u001b[49m\u001b[43mkwargs\u001b[49m\u001b[43m,\u001b[49m\u001b[43m \u001b[49m\u001b[43mambiguous_fmt_datakey\u001b[49m\u001b[38;5;241;43m=\u001b[39;49m\u001b[43mambiguous_fmt_datakey\u001b[49m\u001b[43m)\u001b[49m\n",
      "File \u001b[0;32m~/.local/lib/python3.10/site-packages/matplotlib/axes/_base.py:460\u001b[0m, in \u001b[0;36m_process_plot_var_args._plot_args\u001b[0;34m(self, axes, tup, kwargs, return_kwargs, ambiguous_fmt_datakey)\u001b[0m\n\u001b[1;32m    457\u001b[0m \u001b[38;5;66;03m# Don't allow any None value; these would be up-converted to one\u001b[39;00m\n\u001b[1;32m    458\u001b[0m \u001b[38;5;66;03m# element array of None which causes problems downstream.\u001b[39;00m\n\u001b[1;32m    459\u001b[0m \u001b[38;5;28;01mif\u001b[39;00m \u001b[38;5;28many\u001b[39m(v \u001b[38;5;129;01mis\u001b[39;00m \u001b[38;5;28;01mNone\u001b[39;00m \u001b[38;5;28;01mfor\u001b[39;00m v \u001b[38;5;129;01min\u001b[39;00m tup):\n\u001b[0;32m--> 460\u001b[0m     \u001b[38;5;28;01mraise\u001b[39;00m \u001b[38;5;167;01mValueError\u001b[39;00m(\u001b[38;5;124m\"\u001b[39m\u001b[38;5;124mx, y, and format string must not be None\u001b[39m\u001b[38;5;124m\"\u001b[39m)\n\u001b[1;32m    462\u001b[0m kw \u001b[38;5;241m=\u001b[39m {}\n\u001b[1;32m    463\u001b[0m \u001b[38;5;28;01mfor\u001b[39;00m prop_name, val \u001b[38;5;129;01min\u001b[39;00m \u001b[38;5;28mzip\u001b[39m((\u001b[38;5;124m'\u001b[39m\u001b[38;5;124mlinestyle\u001b[39m\u001b[38;5;124m'\u001b[39m, \u001b[38;5;124m'\u001b[39m\u001b[38;5;124mmarker\u001b[39m\u001b[38;5;124m'\u001b[39m, \u001b[38;5;124m'\u001b[39m\u001b[38;5;124mcolor\u001b[39m\u001b[38;5;124m'\u001b[39m),\n\u001b[1;32m    464\u001b[0m                           (linestyle, marker, color)):\n",
      "\u001b[0;31mValueError\u001b[0m: x, y, and format string must not be None"
     ]
    },
    {
     "data": {
      "image/png": "[encoded data removed]",
      "text/plain": [
       "<Figure size 640x480 with 1 Axes>"
      ]
     },
     "metadata": {},
     "output_type": "display_data"
    }
   ],
   "source": [
    "class PDE():\n",
    "    def __init__(self, net, T, sigma, H, M, C, D, R, alpha):\n",
    "        self.net = net\n",
    "        self.T = T\n",
    "        self.sigma = sigma\n",
    "        self.H = H\n",
    "        self.M = M\n",
    "        self.C = C\n",
    "        self.D = D\n",
    "        self.R = R\n",
    "        self.alpha = alpha\n",
    "    \n",
    "    def pde_residual(self, t, x):\n",
    "        t.requires_grad_(True)\n",
    "        x.requires_grad_(True)\n",
    "        \n",
    "        u = self.net(t, x)  \n",
    "        u_x = torch.autograd.grad(u, x, grad_outputs=torch.ones_like(u), create_graph=True)[0]\n",
    "        u_xx = torch.autograd.grad(u_x, x, grad_outputs=torch.ones_like(u_x), create_graph=True)[0]\n",
    "        u_t = torch.autograd.grad(u, t, grad_outputs=torch.ones_like(u), create_graph=True)[0]\n",
    "\n",
    "        # Compute the trace term\n",
    "        trace_term = 0.5 * torch.trace(torch.matmul(self.sigma, self.sigma.T)) * u_xx.sum(dim=1, keepdim=True)  # (batch, 2)\n",
    "        t1 = (u_x @ self.H @ x.T).sum(dim=1).unsqueeze(1)\n",
    "        t2 = (torch.matmul(u_x, torch.matmul(self.M, self.alpha.T))).T.unsqueeze(1)\n",
    "        t3 = (torch.matmul(x, torch.matmul(self.C, x.T)).sum(dim=1)).unsqueeze(1)\n",
    "        scalar_value = torch.matmul(self.alpha.T, torch.matmul(self.D, self.alpha))\n",
    "        t4 = scalar_value.unsqueeze(0).unsqueeze(1).repeat(num_samples, 1)\n",
    "\n",
    "        # Compute the PDE residual term\n",
    "        pde_res = (\n",
    "            u_t + trace_term + t1 + t2 + t3 + t4\n",
    "        )\n",
    "\n",
    "        return pde_res\n",
    "\n",
    "    def boundary_condition(self, x):\n",
    "        # Compute the boundary condition term\n",
    "        t = torch.full_like(x[:, :1], self.T.item())  # Create a tensor of the same size as x with values T\n",
    "        u = self.net(t, x)  # Neural network output at the final time\n",
    "        boundary_term = torch.square(u - torch.matmul(x, self.R))\n",
    "        return boundary_term\n",
    "\n",
    "class DGM(nn.Module):\n",
    "    def __init__(self, input_dim, hidden_dim, output_dim):\n",
    "        super(DGM, self).__init__()\n",
    "        self.fc1 = nn.Linear(input_dim, hidden_dim)\n",
    "        self.fc2 = nn.Linear(hidden_dim, hidden_dim)\n",
    "        self.fc3 = nn.Linear(hidden_dim, output_dim)\n",
    "        self.activation = nn.Tanh()\n",
    "\n",
    "    def forward(self, t, x):\n",
    "        input_tensor = torch.cat((t, x), dim=1)\n",
    "        hidden1 = self.activation(self.fc1(input_tensor))\n",
    "        hidden2 = self.activation(self.fc2(hidden1))\n",
    "        output = self.fc3(hidden2)\n",
    "        return output\n",
    "\n",
    "def loss_function(u, t, x, linear_pde):\n",
    "    pde_residual = linear_pde.pde_residual(t, x)\n",
    "    boundary_term = linear_pde.boundary_condition(x)\n",
    "    loss = pde_residual.mean() + boundary_term.mean()  # Compute the mean loss\n",
    "    return loss\n",
    "\n",
    "def train_dgm(model, t_train, x_train, linear_pde, epochs, lr):\n",
    "    optimizer = optim.Adam(model.parameters(), lr=lr)\n",
    "    losses = []\n",
    "\n",
    "    for epoch in range(epochs):\n",
    "        optimizer.zero_grad()\n",
    "        u_pred = model(t_train, x_train)\n",
    "        loss = loss_function(u_pred, t_train, x_train, linear_pde)\n",
    "        loss.backward()\n",
    "        optimizer.step()\n",
    "        losses.append(loss.item())  # Store the loss value\n",
    "        if epoch % 100 == 0:\n",
    "            print(f'Epoch {epoch}, Loss: {loss.item()}')\n",
    "\n",
    "# Define hyperparameters\n",
    "input_dim = 3  # Input dimension (time, space_x, space_y)\n",
    "hidden_dim = 100  # Hidden layer dimension\n",
    "output_dim = 1  # Output dimension (solution)\n",
    "num_samples = 10  # Number of training samples\n",
    "T = torch.tensor([1], dtype=torch.float32)  # End time\n",
    "epochs = 1000  # Number of training epochs\n",
    "lr = 0.001  # Learning rate\n",
    "alpha = torch.tensor([1.0, 1.0], dtype=torch.float32)\n",
    "\n",
    "# Initialize the DGM model\n",
    "model = DGM(input_dim, hidden_dim, output_dim)\n",
    "\n",
    "# Create an instance of the HeatEquation2D class\n",
    "linear_pde = PDE(model, T, sigma, H, M, C, D, R, alpha)\n",
    "\n",
    "# Generate training data\n",
    "t_train = torch.rand(num_samples, 1) * T\n",
    "x_train = torch.rand(num_samples, 2)  # Assuming 2D space\n",
    "\n",
    "# Train the DGM model\n",
    "losses = train_dgm(model, t_train, x_train, linear_pde, epochs, lr)\n",
    "\n",
    "# Plot the losses\n",
    "plt.plot(range(epochs), losses, label='Training Loss')\n",
    "plt.xlabel('Epoch')\n",
    "plt.ylabel('Loss')\n",
    "plt.title('Training Loss')\n",
    "plt.legend()\n",
    "plt.show()\n"
   ]
  }
 ],
 "metadata": {
  "kernelspec": {
   "display_name": "Python 3 (ipykernel)",
   "language": "python",
   "name": "python3"
  },
  "language_info": {
   "codemirror_mode": {
    "name": "ipython",
    "version": 3
   },
   "file_extension": ".py",
   "mimetype": "text/x-python",
   "name": "python",
   "nbconvert_exporter": "python",
   "pygments_lexer": "ipython3",
   "version": "3.10.13"
  }
 },
 "nbformat": 4,
 "nbformat_minor": 2
}

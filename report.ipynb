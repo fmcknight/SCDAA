{
 "cells": [
  {
   "cell_type": "markdown",
   "metadata": {},
   "source": [
    "# SCADAA Report"
   ]
  },
  {
   "cell_type": "code",

   "execution_count": 19,
main
   "metadata": {},
   "outputs": [],
   "source": [
    "import numpy as np\n",
    "from numpy.linalg import inv\n",
    "from scipy.integrate import odeint, solve_ivp, quad\n",
    "from scipy.interpolate import CubicSpline\n",
    "import matplotlib.pyplot as plt\n",
    "import torch\n",
    "import torch.nn as nn\n",
    "import torch.nn.functional as F\n",
    "import torch.optim as optim\n",
    "import torch.nn.utils as torch_utils\n",
    "\n",
    "from exercise2 import DGM_Layer, Net_DGM\n",
    "from exercise2 import FFN\n"
   ]
  },
  {
   "cell_type": "markdown",
   "metadata": {},
   "source": [
    "## Exercise 1.1"
   ]
  },
  {
   "cell_type": "code",

   "execution_count": 2,
main
   "metadata": {},
   "outputs": [],
   "source": [
    "class LQR:\n",
    "    def __init__(self, H, M, sigma, C, D, R, T) -> None:\n",
    "        self.H = H \n",
    "        self.M = M\n",
    "        self.sigma = sigma\n",
    "        self.C = C \n",
    "        self.D = D \n",
    "        self.R = R\n",
    "        self.T = T\n",
    "    \n",
    "\n",
    "    def riccati_ode(self, t, S_flat):\n",
    "        S = torch.tensor(S_flat, dtype=torch.float32).reshape((2, 2))  # Convert S_flat to a PyTorch tensor\n",
    "        dS = (-2 * (self.H.t() @ S) + S @ (self.M) @ (torch.inverse(self.D)) @ (np.transpose(self.M)) @ S - self.C)\n",
    "        return dS.flatten().detach().numpy()\n",
    " \n",
    "\n",
    "    def solve_ricatti_ode(self, time_grid):\n",
    "        \"\"\"\n",
    "        Solves the LQR problem by integrating the \n",
    "        Riccati equation backwards in time.\n",
    "        \"\"\"\n",
    "        # Time points (reversed for backward integration)\n",
    "        # t_points = np.linspace(0, self.T, 1000)[::-1]  \n",
    "        intial_cond = self.R.flatten().detach().numpy()\n",
    "\n",
    "        sol = solve_ivp(\n",
    "            self.riccati_ode, [self.T.item(), time_grid[0].item()], \n",
    "            intial_cond, t_eval=time_grid.numpy()[::-1], method='RK45'\n",
    "            )\n",
    "        \n",
    "        S = torch.tensor(sol.y)\n",
    "\n",
    "        return S\n",
    "\n",
    "    def visualize_results(self, t_points, S):\n",
    "        \"\"\"\n",
    "        Visualizes the solution of the Riccati equation \n",
    "        or the state/control trajectories.\n",
    "        \"\"\"\n",
    "        # S_00 = [s[0, 0].item() for s in S]\n",
    "        plt.plot(t_points, S[0, :])\n",
    "        plt.xlabel('Time')\n",
    "        plt.ylabel('S[0,0]')\n",
    "        plt.title('Solution of Riccati Equation over Time')\n",
    "        plt.show()\n",
    "       \n",
    "\n",
    "    def markov_control(self, t_batch, x_batch):\n",
    "        a=torch.tensor([])\n",
    "        for t in range(len(t_batch)):\n",
    "            time_grid = torch.linspace(float(t_batch[t]), self.T, 1000, dtype=torch.float32)\n",
    "            S = self.solve_ricatti_ode(time_grid).T.reshape(len(time_grid),2,2).float()\n",
    "            S_ordered =torch.flip(S,dims=[0])\n",
    "            x_batch_n = x_batch[t]\n",
    "            a_ = -((torch.inverse(self.D.float()) @ self.M.T) @ S_ordered[0]) @ x_batch_n.T\n",
    "            a=torch.cat((a,a_.unsqueeze(0))) \n",
    "        return a.transpose(1,2)\n",
    "\n",
    "\n",
    "    def value_function(self, t_batch, x_batch):\n",
    "        v=torch.tensor([])\n",
    "        for t in range(len(t_batch)):\n",
    "            time_grid = torch.linspace(float(t_batch[t]), self.T, 1000, dtype=torch.float32)\n",
    "            S = self.solve_ricatti_ode(time_grid).T.reshape(len(time_grid),2,2).float()\n",
    "            S_ordered =torch.flip(S,dims=[0])\n",
    "            sigma = self.sigma\n",
    "            x_batch_n = x_batch[t]\n",
    "\n",
    "            # Compute the first term: x.transpose(S)x\n",
    "            x_S_x = torch.matmul(torch.matmul(x_batch_n.unsqueeze(0), S_ordered[0]), x_batch_n.unsqueeze(0).transpose(-1, -2)).squeeze()\n",
    "\n",
    "        # Compute the integral term using Einstein summation notation with smaller time steps\n",
    "            integral_term = 0\n",
    "            for i in range(len(time_grid) - 1):\n",
    "                dt = time_grid[i + 1] - time_grid[i]\n",
    "                int_term=sigma@sigma.T@S_ordered[i]\n",
    "                trace_term = torch.einsum('bij->b',int_term.unsqueeze(0))\n",
    "                integral_term += trace_term * dt\n",
    "\n",
    "            # Compute the total value function: v(t, x) = x.transpose(S)x + trace_term\n",
    "            v=torch.cat((v,x_S_x + integral_term)) \n",
    "        return v\n"
   ]
  },
  {
   "cell_type": "code",

   "execution_count": 3,
main
   "metadata": {},
   "outputs": [
    {
     "data": {

      "image/png": "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",
main
      "text/plain": [
       "<Figure size 640x480 with 1 Axes>"
      ]
     },
     "metadata": {},
     "output_type": "display_data"
    },
    {
     "name": "stdout",
     "output_type": "stream",
     "text": [
      "Optimal Markov Control:\n",
 SKDAA-Branch-1
      "tensor([[[-2.5995, -2.5995]]])\n",
      "Value Function:\n",
      "tensor([5.1990])\n"

     ]
    }
   ],
   "source": [
    "# Example Usage:\n",
    "# Define problem matrices\n",
    "# H = torch.tensor([[1, 0], [0, 1]], dtype=torch.float32)\n",
    "# M = torch.tensor([[1, 0], [0, 1]], dtype=torch.float32)\n",
    "# D = torch.tensor([[1, 0], [0, 1]], dtype=torch.float32)\n",
    "# C = torch.tensor([[0, 0], [0, 0]], dtype=torch.float32)\n",
    "# R = torch.tensor([[1, 0], [0, 1]], dtype=torch.float32)\n",
    "# sigma = torch.tensor([[1, 0], [0, 1]], dtype=torch.float32)\n",
    "# T = torch.tensor(100, dtype=torch.float32)\n",
    "\n",
    "#Initial Conditions\n",
    "H = torch.tensor([[1, 0], [0, 1]], dtype=torch.float32)*0.1\n",
    "M = torch.tensor([[1, 0], [0, 1]], dtype=torch.float32)\n",
    "sigma = torch.tensor([[1, 0], [0, 1]], dtype=torch.float32)*0.001\n",
    "D = torch.tensor([[1, 0], [0, 1]], dtype=torch.float32)\n",
SKDAA-Branch-1
    "T = torch.tensor(1.0, dtype=torch.float32)\n",
    "x0 = torch.tensor([1, 1], dtype=torch.float32)\n",
    "t=torch.tensor(0.7, dtype=torch.float32)\n",
    "C = torch.tensor([[1, 0], [0, 1]], dtype=torch.float32)*0\n",
    "R = torch.tensor([[1, 0], [0, 1]], dtype=torch.float32)*10\n",

    "\n",
    "# Initialize LQRController\n",
    "# controller = LQRController(H, M, D, C, R, T)\n",
    "\n",
    "# Define time grid\n",
    "time_grid = torch.linspace(0, T, 10000)\n",
    "\n",
    "lqr_system = LQR(H, M, sigma, C, D, R, T)\n",
    "S_solution = lqr_system.solve_ricatti_ode(time_grid)\n",
    "S_sol_v2 = S_solution.T.reshape(len(time_grid),2,2)\n",
    "S_sol_ordered =torch.flip(S_sol_v2,dims=[0])\n",
    "lqr_system.visualize_results(torch.flip(time_grid, [0]), S_solution)\n",
    "\n",
    "# Create sample input tensors\n",
    "# t_batch = torch.tensor([0.5, 0.8, 1.0], dtype=torch.float32)  # Sample time values\n",
    "# x_batch = torch.tensor([\n",
    "#     [[1.0, 2.0]],  \n",
    "#     [[1.0, 0.0]], \n",
    "#     [[3.0, 2.0]]  \n",
    "# ], dtype=torch.float32)  # Sample spatial values\n",
    "\n",
    "t_batch = torch.tensor([0.7], dtype=torch.float32)  # Sample time values\n",
    "x_batch = torch.tensor([\n",
    "    [[1.0, 1.0]] \n",
    "], dtype=torch.float32)  # Sample spatial values\n",
    "\n",
    "# t_batch = torch.tensor([0.7], dtype=torch.float32)  # Sample time values\n",
    "# x_batch = torch.tensor([\n",
    "#     [[1.0, 1.0]] \n",
    "# ], dtype=torch.float32)  # Sample spatial values\n",
    "\n",
    "# Compute the markov control\n",
    "markov_control = lqr_system.markov_control(t_batch, x_batch)\n",
    "\n",
    "# Print the computed value function\n",
    "print(\"Optimal Markov Control:\")\n",
    "print(markov_control)\n",
    "\n",
    "# Compute the value function\n",
    "value_func = lqr_system.value_function(t_batch, x_batch)\n",
    "\n",
    "# Print the computed value function\n",
    "print(\"Value Function:\")\n",
    "print(value_func)\n",
    "\n"
   ]
  },
  {
   "cell_type": "code",

   "execution_count": 4,
 main
   "metadata": {},
   "outputs": [
    {
     "data": {
      "text/plain": [
SKDAA-Branch-1
       "(torch.Size([1]), torch.Size([1, 1, 2]))"
      ]
     },
     "execution_count": 5,

     "metadata": {},
     "output_type": "execute_result"
    }
   ],
   "source": [
    "t_batch.shape, x_batch.shape"
   ]
  },
  {
   "cell_type": "markdown",
   "metadata": {},
   "source": [
    "## Exercise 1.2"
   ]
  },
  {
   "cell_type": "markdown",
   "metadata": {},
   "source": [
    "1. Error"
   ]
  },
  {
   "cell_type": "markdown",
   "metadata": {},
   "source": [
    "2. Time"
   ]
  },
  {
   "cell_type": "code",

   "execution_count": 22,
 main
   "metadata": {},
   "outputs": [],
   "source": [
    "#Create error function \n",
    "def calculate_error(X):\n",
    "    #We might want to have a better error function tbh\n",
    "    error = np.linalg.norm(X - np.zeros(X.shape))\n",
    "    return error"
   ]
  },
  {
   "cell_type": "code",

   "execution_count": 5,
 main
   "metadata": {},
   "outputs": [],
   "source": [
    "\n",
    "#Initial Conditions\n",
    "H = torch.tensor([[1, 0], [0, 1]], dtype=torch.float32)*0.1\n",
    "M = torch.tensor([[1, 0], [0, 1]], dtype=torch.float32)\n",
    "sigma = torch.tensor([[1, 0], [0, 1]], dtype=torch.float32)*0.001\n",
    "D = torch.tensor([[1, 0], [0, 1]], dtype=torch.float32)\n",
    "T = torch.tensor(1.0, dtype=torch.float32)\n",
    "x0 = torch.tensor([1, 1], dtype=torch.float32)\n",
    "t=torch.tensor(0.7, dtype=torch.float32)\n",
    "C = torch.tensor([[1, 0], [0, 1]], dtype=torch.float32)*0\n",
    "R = torch.tensor([[1, 0], [0, 1]], dtype=torch.float32)*10\n",
    "\n",
    "\n",
    "# Define time grid\n",
    "time_grid_S = torch.linspace(0, T, 10000)\n",
    "lqr_system = LQR(H, M, sigma, C, D, R, T)\n",
    "S_solution = lqr_system.solve_ricatti_ode(time_grid_S)\n",
    "S_sol_v2 = S_solution.T.reshape(len(time_grid_S),2,2).float()\n",
    "S_sol_ordered =torch.flip(S_sol_v2,dims=[0])\n"
   ]
  },
  {
   "cell_type": "code",

   "execution_count": 37,
 main
   "metadata": {},
   "outputs": [
    {
     "name": "stdout",
     "output_type": "stream",
     "text": [
      "tensor([[[1.0000, 1.0000]],\n",
      "\n",
SKDAA-Branch-1
      "        [[0.9909, 0.9909]],\n",
      "\n",
      "        [[0.9818, 0.9819]],\n",
      "\n",
      "        [[0.9728, 0.9728]],\n",
      "\n",
      "        [[0.9639, 0.9638]],\n",
      "\n",
      "        [[0.9552, 0.9549]],\n",
      "\n",
      "        [[0.9463, 0.9463]],\n",
      "\n",
      "        [[0.9378, 0.9378]],\n",
      "\n",
      "        [[0.9292, 0.9291]],\n",
      "\n",
      "        [[0.9207, 0.9205]],\n",
      "\n",
      "        [[0.9122, 0.9120]],\n",
      "\n",
      "        [[0.9040, 0.9037]],\n",
      "\n",
      "        [[0.8957, 0.8956]],\n",
      "\n",
      "        [[0.8875, 0.8873]],\n",
      "\n",
      "        [[0.8793, 0.8792]],\n",
      "\n",
      "        [[0.8713, 0.8713]],\n",
      "\n",
      "        [[0.8632, 0.8631]],\n",
      "\n",
      "        [[0.8553, 0.8554]],\n",
      "\n",
      "        [[0.8476, 0.8472]],\n",
      "\n",
      "        [[0.8398, 0.8397]],\n",
      "\n",
      "        [[0.8322, 0.8320]],\n",
      "\n",
      "        [[0.8243, 0.8244]],\n",
      "\n",
      "        [[0.8169, 0.8167]],\n",
      "\n",
      "        [[0.8095, 0.8093]],\n",
      "\n",
      "        [[0.8022, 0.8018]],\n",
      "\n",
      "        [[0.7946, 0.7945]],\n",
      "\n",
      "        [[0.7872, 0.7873]],\n",
      "\n",
      "        [[0.7800, 0.7799]],\n",
      "\n",
      "        [[0.7729, 0.7729]],\n",
      "\n",
      "        [[0.7659, 0.7658]],\n",
      "\n",
      "        [[0.7586, 0.7591]],\n",
      "\n",
      "        [[0.7520, 0.7518]],\n",
      "\n",
      "        [[0.7450, 0.7449]],\n",
      "\n",
      "        [[0.7381, 0.7381]],\n",
      "\n",
      "        [[0.7315, 0.7314]],\n",
      "\n",
      "        [[0.7246, 0.7247]],\n",
      "\n",
      "        [[0.7179, 0.7177]],\n",
      "\n",
      "        [[0.7114, 0.7114]],\n",
      "\n",
      "        [[0.7048, 0.7049]],\n",
      "\n",
      "        [[0.6983, 0.6984]],\n",
      "\n",
      "        [[0.6919, 0.6919]],\n",
      "\n",
      "        [[0.6859, 0.6856]],\n",
      "\n",
      "        [[0.6796, 0.6793]],\n",
      "\n",
      "        [[0.6732, 0.6731]],\n",
      "\n",
      "        [[0.6671, 0.6671]],\n",
      "\n",
      "        [[0.6607, 0.6606]],\n",
      "\n",
      "        [[0.6549, 0.6547]],\n",
      "\n",
      "        [[0.6489, 0.6487]],\n",
      "\n",
      "        [[0.6428, 0.6429]],\n",
      "\n",
      "        [[0.6369, 0.6369]],\n",
      "\n",
      "        [[0.6311, 0.6310]],\n",
      "\n",
      "        [[0.6251, 0.6254]],\n",
      "\n",
      "        [[0.6193, 0.6194]],\n",
      "\n",
      "        [[0.6138, 0.6137]],\n",
      "\n",
      "        [[0.6081, 0.6082]],\n",
      "\n",
      "        [[0.6026, 0.6025]],\n",
      "\n",
      "        [[0.5971, 0.5971]],\n",
      "\n",
      "        [[0.5916, 0.5914]],\n",
      "\n",
      "        [[0.5861, 0.5861]],\n",
      "\n",
      "        [[0.5808, 0.5807]],\n",
      "\n",
      "        [[0.5754, 0.5754]],\n",
      "\n",
      "        [[0.5702, 0.5700]],\n",
      "\n",
      "        [[0.5648, 0.5646]],\n",
      "\n",
      "        [[0.5597, 0.5594]],\n",
      "\n",
      "        [[0.5544, 0.5545]],\n",
      "\n",
      "        [[0.5494, 0.5495]],\n",
      "\n",
      "        [[0.5441, 0.5444]],\n",
      "\n",
      "        [[0.5393, 0.5392]],\n",
      "\n",
      "        [[0.5343, 0.5344]],\n",
      "\n",
      "        [[0.5295, 0.5295]],\n",
      "\n",
      "        [[0.5245, 0.5246]],\n",
      "\n",
      "        [[0.5198, 0.5198]],\n",
      "\n",
      "        [[0.5149, 0.5151]],\n",
      "\n",
      "        [[0.5101, 0.5104]],\n",
      "\n",
      "        [[0.5054, 0.5055]],\n",
      "\n",
      "        [[0.5010, 0.5009]],\n",
      "\n",
      "        [[0.4963, 0.4964]],\n",
      "\n",
      "        [[0.4916, 0.4916]],\n",
      "\n",
      "        [[0.4872, 0.4871]],\n",
      "\n",
      "        [[0.4826, 0.4827]],\n",
      "\n",
      "        [[0.4782, 0.4780]],\n",
      "\n",
      "        [[0.4738, 0.4737]],\n",
      "\n",
      "        [[0.4696, 0.4694]],\n",
      "\n",
      "        [[0.4652, 0.4651]],\n",
      "\n",
      "        [[0.4609, 0.4607]],\n",
      "\n",
      "        [[0.4565, 0.4565]],\n",
      "\n",
      "        [[0.4525, 0.4523]],\n",
      "\n",
      "        [[0.4483, 0.4482]],\n",
      "\n",
      "        [[0.4441, 0.4440]],\n",
      "\n",
      "        [[0.4398, 0.4402]],\n",
      "\n",
      "        [[0.4360, 0.4360]],\n",
      "\n",
      "        [[0.4318, 0.4320]],\n",
      "\n",
      "        [[0.4280, 0.4280]],\n",
      "\n",
      "        [[0.4238, 0.4239]],\n",
      "\n",
      "        [[0.4201, 0.4202]],\n",
      "\n",
      "        [[0.4162, 0.4163]],\n",
      "\n",
      "        [[0.4124, 0.4124]],\n",
      "\n",
      "        [[0.4084, 0.4086]],\n",
      "\n",
      "        [[0.4048, 0.4051]],\n",
      "\n",
      "        [[0.4010, 0.4011]]])\n"
     ]
    },
    {
     "name": "stderr",
     "output_type": "stream",
     "text": [
SKDAA-Branch-1
      "/tmp/ipykernel_1869/2947327018.py:4: UserWarning: To copy construct from a tensor, it is recommended to use sourceTensor.clone().detach() or sourceTensor.clone().detach().requires_grad_(True), rather than torch.tensor(sourceTensor).\n",

      "  x0 = torch.tensor(x0, dtype=torch.float32).view(2, 1)\n"
     ]
    }
   ],
   "source": [
    "# X Generation\n",
    "def generate_x(T, N_steps, H, M, D, S_solution, sigma, x0):\n",
    "\n",
    "    x0 = torch.tensor(x0, dtype=torch.float32).view(2, 1) \n",
    "    tau = T / N_steps\n",
    "    X = x0.unsqueeze(0)\n",
    "    brownian = torch.randn(N_steps, 2, dtype=torch.float32)*torch.sqrt(tau)\n",
    "\n",
    "    for i in range(N_steps-1):\n",
    "        dw = (brownian[i+1] - brownian[i]).view(2, 1)  # Ensure dw is a 2x1 vector\n",
    "        # Calculate control action, ensuring it results in a 2x1 vector\n",
    "        a_s = -torch.inverse(D) @ M.T @ S_sol_ordered[i] @ X[-1]\n",
    "        # Update state, ensuring result is a 2x1 vector\n",
    "        next_val = X[-1] + tau * (H @ X[-1] + M @ a_s) + sigma @ dw  # Use matrix-vector product for sigma @ dw\n",
    "        \n",
    "        X=torch.cat((X,next_val.view(2, 1).unsqueeze(0))) # Ensure next_val remains a 2x1 column vector\n",
    "\n",
    "    return X.transpose(1,2)\n",
    "\n",
    "# Call the function with corrected inputs\n",
    "N_steps = 100\n",
    "result = generate_x(T, N_steps, H.float(), M.float(), D.float(), S_solution.float(), sigma.float(), x0)\n",
    "print(result)"
   ]
  },
  {
   "cell_type": "markdown",
   "metadata": {},
   "source": [
    "### Exercise 1.2.1"
   ]
  },
  {
   "cell_type": "markdown",
   "metadata": {},
   "source": [
    "The error will be the difference between between the cost function and the value function, and this should converge for bigger time steps."
   ]
  },
  {
   "cell_type": "markdown",
   "metadata": {},
   "source": [
    "### Exercise 1.2.2"
   ]
  },
  {
   "cell_type": "code",

   "execution_count": 38,
main
   "metadata": {},
   "outputs": [
    {
     "name": "stderr",
     "output_type": "stream",
     "text": [
 SKDAA-Branch-1
      "/tmp/ipykernel_1869/2947327018.py:4: UserWarning: To copy construct from a tensor, it is recommended to use sourceTensor.clone().detach() or sourceTensor.clone().detach().requires_grad_(True), rather than torch.tensor(sourceTensor).\n",

      "  x0 = torch.tensor(x0, dtype=torch.float32).view(2, 1)\n"
     ]
    }
   ],
   "source": [
    "# 1.2.2 CODE DO NOT RUN IN GITHUB IF USING N_SAMPLES=100000\n",
    "\n",
    "N_samples=100 #CHANGE FOR LOCAL RUNNING\n",
    "N_steps=[1, 10, 50, 100, 500, 1000, 5000]\n",
    "cost=torch.tensor([])\n",
    "S_sol_cs = CubicSpline(time_grid_S, S_sol_ordered)\n",
    "exp_cost=torch.tensor([])\n",
    "for t in range(len(N_steps)):\n",
    "    time_grid = torch.linspace(0, T, N_steps[t]+1)\n",
    "    dt= time_grid[1:]-time_grid[:-1]\n",
    "    S_sol_cs_vals = torch.tensor((S_sol_cs(time_grid.numpy())),dtype=torch.float32)\n",
    "    for i in range(N_samples):\n",
    "        result = generate_x(T, N_steps[t]+1, H.float(), M.float(), D.float(), \n",
    "                            S_sol_cs_vals.float(), sigma.float(), x0)\n",
    "        alp = (-torch.inverse(D) @ M.T @ S_sol_cs_vals @result.transpose(1,2)).transpose(1,2)\n",
    "        int_ = result@C@result.transpose(1,2) + alp@D@alp.transpose(1,2)\n",
    "        J = torch.tensor(0.5)*dt@((int_.squeeze(1)[1:]+int_.squeeze(1)[:-1]))\n",
    "        cost=torch.cat((cost,J))\n",
    "    exp_cost=torch.cat((exp_cost,torch.mean(cost).unsqueeze(0)))"
   ]
  },
  {
   "cell_type": "code",

   "execution_count": 39,
 main
   "metadata": {},
   "outputs": [
    {
     "name": "stdout",
     "output_type": "stream",
     "text": [
 SKDAA-Branch-1
      "tensor([25.2703, 12.7234,  8.3065,  6.0836,  4.7255,  3.8002,  2.9936])\n"

     ]
    },
    {
     "data": {
SKDAA-Branch-1
      "image/png": "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",

      "text/plain": [
       "<Figure size 640x480 with 1 Axes>"
      ]
     },
     "metadata": {},
     "output_type": "display_data"
    }
   ],
   "source": [
    "# OUR FIRST 1.2 BABY :D\n",
    "\n",
    "\n",
    "# Compute the error\n",
    "error=abs(exp_cost-value_func)\n",
    "print(error) \n",
    "#Plot the error\n",
    "plt.loglog(N_steps, error, marker='o', linestyle='-')\n",
    "plt.xlabel('Number of Steps')\n",
    "plt.ylabel('Error (Euclidean Distance from Target)')\n",
    "plt.title('Error vs. Number of Steps on a Log-Log Scale')\n",
    "plt.grid(True, which=\"both\", ls=\"--\")\n",
    "plt.show()"
   ]
  },
  {
   "cell_type": "markdown",
   "metadata": {},
   "source": [
    "Exercise 1.2.3"
   ]
  },
  {
   "cell_type": "code",
SKDAA-Branch-1
   "execution_count": 12,
   "metadata": {},
   "outputs": [
    {
     "name": "stderr",
     "output_type": "stream",
     "text": [
SKDAA-Branch-1
      "/tmp/ipykernel_1869/2947327018.py:4: UserWarning: To copy construct from a tensor, it is recommended to use sourceTensor.clone().detach() or sourceTensor.clone().detach().requires_grad_(True), rather than torch.tensor(sourceTensor).\n",

      "  x0 = torch.tensor(x0, dtype=torch.float32).view(2, 1)\n"
     ]
    }
   ],
   "source": [
    "# 1.2.3 CODE DO NOT RUN IN GITHUB IF USING N_SAMPLES=100000\n",
    "\n",
    "#N_samples=[10, 50, 100, 500, 1000, 5000, 10000, 50000, 100000] #DO NOT RUN\n",
    "N_samples = [10,50,100,250,500,750,1000]\n",
    "N_steps = 5000\n",
    "cost_samples = torch.tensor([])\n",
    "exp_cost_samples = torch.tensor([])\n",
    "\n",
    "# Time grid specifications\n",
    "time_grid = torch.linspace(0, T, N_steps+1)\n",
    "dt = time_grid[1:]-time_grid[:-1]\n",
    "S_sol_cs_vals = torch.tensor((S_sol_cs(time_grid.numpy())),dtype=torch.float32)\n",
    "\n",
    "for j in range(len(N_samples)):\n",
    "    for i in range(N_samples[j]):\n",
    "        result = generate_x(T, N_steps+1, H.float(), M.float(), D.float(), \n",
    "        S_sol_cs_vals.float(), sigma.float(), x0)\n",
    "\n",
    "        alp = (-torch.inverse(D) @ M.T @ S_sol_cs_vals @result.transpose(1,2)).transpose(1,2)\n",
    "        int_ = result@C@result.transpose(1,2) + alp@D@alp.transpose(1,2)\n",
    "\n",
    "        J = result[-1]@R@result[-1].T + torch.tensor(0.5)*dt@((int_.squeeze(1)[1:]+int_.squeeze(1)[:-1]))\n",
    "        cost_samples=torch.cat((cost_samples,J))\n",
    "    \n",
    "    exp_cost_samples=torch.cat((exp_cost_samples,torch.mean(cost_samples).unsqueeze(0)))"
   ]
  },
  {
   "cell_type": "code",

   "execution_count": 44,
main
   "metadata": {},
   "outputs": [
    {
     "name": "stdout",
     "output_type": "stream",
     "text": [
SKDAA-Branch-1
      "tensor([5.1072, 5.1072, 5.1072])\n"

     ]
    },
    {
     "data": {
SKDAA-Branch-1
      "image/png": "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",

      "text/plain": [
       "<Figure size 640x480 with 1 Axes>"
      ]
     },
     "metadata": {},
     "output_type": "display_data"
    }
   ],
   "source": [
    "# OUR FIRST 1.2.3 BABY :D\n",
    "\n",
    "print(exp_cost_samples) # why is the first one better than the second?\n",
    "\n",
    "# Compute the error\n",
    "error_samples = abs(exp_cost_samples-value_func)\n",
    "\n",
    "#Plot the error\n",
    "plt.plot(N_samples, error_samples, marker='o', linestyle='-')\n",
    "plt.xlabel('Number of Steps')\n",
    "plt.ylabel('Error (Euclidean Distance from Target)')\n",
    "plt.title('Error vs. Number of Steps on a Log-Log Scale 1.2.3')\n",
    "plt.grid(True, which=\"both\", ls=\"--\")\n",
    "plt.show()"
   ]
  },
  {
   "cell_type": "markdown",
   "metadata": {},
   "source": [
    "Exercise 2"
   ]
  },
  {
   "cell_type": "code",
SKDAA-Branch-1
   "execution_count": 18,

   "metadata": {},
   "outputs": [],
   "source": [
    "# Function to generate training data\n",
    "def generate_training_data(T, num_samples):\n",
    "    # t = torch.tensor(np.random.uniform(0, T, num_samples), dtype=torch.float32)\n",
    "    t = torch.linspace(0, T, num_samples)\n",
    "    x = torch.tensor(np.random.uniform(-3, 3, (num_samples, 2)), dtype=torch.float32).unsqueeze(-1).transpose(1,2)\n",
    "    return t, x"
   ]
  },
  {
   "cell_type": "code",
SKDAA-Branch-1
   "execution_count": 19,
   "metadata": {},
   "outputs": [
    {
     "data": {
      "text/plain": [
       "(tensor([ 0.0000,  1.1111,  2.2222,  3.3333,  4.4444,  5.5556,  6.6667,  7.7778,\n",
       "          8.8889, 10.0000]),\n",
       " torch.Size([10, 1, 2]))"
      ]
     },
     "execution_count": 19,
     "metadata": {},
     "output_type": "execute_result"
    }
   ],
   "source": [
    "# Generate training data\n",
    "T = 10\n",
    "num_samples = 10\n",
    "t_train, x_train = generate_training_data(T, num_samples)\n",
    "t_train, x_train.shape"
   ]
  },
  {
   "cell_type": "code",
SKDAA-Branch-1
   "execution_count": 20,
   "metadata": {},
   "outputs": [

    {
     "name": "stdout",
     "output_type": "stream",
     "text": [
 SKDAA-Branch-1
      "tensor([[[10.0000,  0.0000],\n",
      "         [ 0.0000, 10.0000]],\n",
      "\n",
      "        [[ 9.9804,  0.0000],\n",
      "         [ 0.0000,  9.9804]],\n",
      "\n",
      "        [[ 9.9610,  0.0000],\n",
      "         [ 0.0000,  9.9610]],\n",
      "\n",
      "        ...,\n",
      "\n",
      "        [[ 1.0149,  0.0000],\n",
      "         [ 0.0000,  1.0149]],\n",
      "\n",
      "        [[ 1.0147,  0.0000],\n",
      "         [ 0.0000,  1.0147]],\n",
      "\n",
      "        [[ 1.0146,  0.0000],\n",
      "         [ 0.0000,  1.0146]]])\n"

     ]
    }
   ],
   "source": [
    "print(lqr_system.solve_ricatti_ode(time_grid).T.reshape(len(time_grid),2,2).float())"
   ]
  },
  {
   "cell_type": "code",
   "execution_count": 21,
   "metadata": {},
   "outputs": [
    {
 SKDAA-Branch-1
     "ename": "RuntimeError",
     "evalue": "shape '[1000, 2, 2]' is invalid for input of size 3636",
     "output_type": "error",
     "traceback": [
      "\u001b[0;31m---------------------------------------------------------------------------\u001b[0m",
      "\u001b[0;31mRuntimeError\u001b[0m                              Traceback (most recent call last)",
      "Cell \u001b[0;32mIn[21], line 25\u001b[0m\n\u001b[1;32m     23\u001b[0m num_samples \u001b[38;5;241m=\u001b[39m \u001b[38;5;241m10\u001b[39m\n\u001b[1;32m     24\u001b[0m t_train, x_train \u001b[38;5;241m=\u001b[39m generate_training_data(T, num_samples)\n\u001b[0;32m---> 25\u001b[0m \u001b[43mlqr_system\u001b[49m\u001b[38;5;241;43m.\u001b[39;49m\u001b[43mvalue_function\u001b[49m\u001b[43m(\u001b[49m\u001b[43mt_train\u001b[49m\u001b[43m,\u001b[49m\u001b[43m \u001b[49m\u001b[43mx_train\u001b[49m\u001b[43m)\u001b[49m\n\u001b[1;32m     27\u001b[0m \u001b[38;5;66;03m# Initialize the neural network\u001b[39;00m\n\u001b[1;32m     28\u001b[0m net_dgm \u001b[38;5;241m=\u001b[39m Net_DGM(dim_x\u001b[38;5;241m=\u001b[39m\u001b[38;5;241m2\u001b[39m, dim_S\u001b[38;5;241m=\u001b[39m\u001b[38;5;241m100\u001b[39m, hidden_size\u001b[38;5;241m=\u001b[39m\u001b[38;5;241m100\u001b[39m)\n",
      "Cell \u001b[0;32mIn[3], line 65\u001b[0m, in \u001b[0;36mLQR.value_function\u001b[0;34m(self, t_batch, x_batch)\u001b[0m\n\u001b[1;32m     63\u001b[0m \u001b[38;5;28;01mfor\u001b[39;00m t \u001b[38;5;129;01min\u001b[39;00m \u001b[38;5;28mrange\u001b[39m(\u001b[38;5;28mlen\u001b[39m(t_batch)):\n\u001b[1;32m     64\u001b[0m     time_grid \u001b[38;5;241m=\u001b[39m torch\u001b[38;5;241m.\u001b[39mlinspace(\u001b[38;5;28mfloat\u001b[39m(t_batch[t]), \u001b[38;5;28mself\u001b[39m\u001b[38;5;241m.\u001b[39mT, \u001b[38;5;241m1000\u001b[39m, dtype\u001b[38;5;241m=\u001b[39mtorch\u001b[38;5;241m.\u001b[39mfloat32)\n\u001b[0;32m---> 65\u001b[0m     S \u001b[38;5;241m=\u001b[39m \u001b[38;5;28;43mself\u001b[39;49m\u001b[38;5;241;43m.\u001b[39;49m\u001b[43msolve_ricatti_ode\u001b[49m\u001b[43m(\u001b[49m\u001b[43mtime_grid\u001b[49m\u001b[43m)\u001b[49m\u001b[38;5;241;43m.\u001b[39;49m\u001b[43mT\u001b[49m\u001b[38;5;241;43m.\u001b[39;49m\u001b[43mreshape\u001b[49m\u001b[43m(\u001b[49m\u001b[38;5;28;43mlen\u001b[39;49m\u001b[43m(\u001b[49m\u001b[43mtime_grid\u001b[49m\u001b[43m)\u001b[49m\u001b[43m,\u001b[49m\u001b[38;5;241;43m2\u001b[39;49m\u001b[43m,\u001b[49m\u001b[38;5;241;43m2\u001b[39;49m\u001b[43m)\u001b[49m\u001b[38;5;241m.\u001b[39mfloat()\n\u001b[1;32m     66\u001b[0m     S_ordered \u001b[38;5;241m=\u001b[39mtorch\u001b[38;5;241m.\u001b[39mflip(S,dims\u001b[38;5;241m=\u001b[39m[\u001b[38;5;241m0\u001b[39m])\n\u001b[1;32m     67\u001b[0m     sigma \u001b[38;5;241m=\u001b[39m \u001b[38;5;28mself\u001b[39m\u001b[38;5;241m.\u001b[39msigma\n",
      "\u001b[0;31mRuntimeError\u001b[0m: shape '[1000, 2, 2]' is invalid for input of size 3636"

     ]
    }
   ],
   "source": [
    "# Function to train the neural network\n",
    "def train_net_dgm(net_dgm, t_train, x_train, epochs=1000, lr=0.001):\n",
    "    optimizer = optim.Adam(net_dgm.parameters(), lr=lr)\n",
    "    criterion = nn.MSELoss()\n",
    "\n",
    "    losses = torch.tensor([])\n",
    "\n",
    "    for epoch in range(epochs):\n",
    "        optimizer.zero_grad()\n",
    "        v_pred = net_dgm(t_train.unsqueeze(1), x_train.squeeze(1))  # Predict value function\n",
    "        loss = criterion(v_pred, lqr_system.value_function(t_train, x_train))  # Compute loss\n",
    "        loss.backward()\n",
    "        optimizer.step()\n",
    "        losses= torch.cat(losses,loss.item())\n",
    "\n",
    "        if epoch % 100 == 0:\n",
    "            print(f'Epoch {epoch}, Loss: {loss.item()}')\n",
    "\n",
    "    return losses\n",
    "\n",
    "# Generate training data\n",
    "T = 10\n",
    "num_samples = 10\n",
    "t_train, x_train = generate_training_data(T, num_samples)\n",
    "lqr_system.value_function(t_train, x_train)\n",
    "\n",
    "# Initialize the neural network\n",
    "net_dgm = Net_DGM(dim_x=2, dim_S=100, hidden_size=100)\n",
    "\n",
    "# Train the neural network\n",
    "losses = train_net_dgm(net_dgm, t_train, x_train)\n",
    "\n",
    "# Plot the training loss\n",
    "plt.plot(losses)\n",
    "plt.xlabel('Epochs')\n",
    "plt.ylabel('Loss')\n",
    "plt.title('Training Loss')\n",
    "plt.show()\n"
   ]
  },
  {
   "cell_type": "code",
SKDAA-Branch-1
   "execution_count": 25,
   "metadata": {},
   "outputs": [
    {
     "data": {
      "text/plain": [
       "torch.Size([1000])"
      ]
     },
     "execution_count": 25,
     "metadata": {},
     "output_type": "execute_result"
    }
   ],
   "source": [
    "t_train.shape, x_train.shape\n",
    "time_grid0=torch.linspace(float(t_train[1]), T, 1000, dtype=torch.float32)\n",
    "print('Hello')\n"
   ]
  },
  {
   "cell_type": "code",
   "execution_count": 10,

   "metadata": {},
   "outputs": [
    {
     "name": "stdout",
     "output_type": "stream",
     "text": [
      "tensor([[[-0.4739, -0.7655]],\n",
      "\n",
      "        [[ 5.7272, -3.3154]],\n",
      "\n",
      "        [[ 0.3340,  2.6193]],\n",
      "\n",
      "        [[-5.5408, -0.7044]],\n",
      "\n",
      "        [[-1.9877,  3.9947]],\n",
      "\n",
      "        [[-2.7700, -4.3633]],\n",
      "\n",
      "        [[ 3.6246,  3.3604]],\n",
      "\n",
      "        [[ 3.6214, -5.3661]],\n",
      "\n",
      "        [[-4.3558,  2.3364]],\n",
      "\n",
      "        [[-4.5242,  0.4089]]])\n"
     ]
    },
    {
     "name": "stderr",
     "output_type": "stream",
     "text": [
      "/home/codespace/.local/lib/python3.10/site-packages/torch/nn/modules/loss.py:535: UserWarning: Using a target size (torch.Size([10, 1, 2])) that is different to the input size (torch.Size([10, 2])). This will likely lead to incorrect results due to broadcasting. Please ensure they have the same size.\n",
      "  return F.mse_loss(input, target, reduction=self.reduction)\n"
     ]
    },
    {
     "name": "stdout",
     "output_type": "stream",
     "text": [
      "Epoch 0, Loss: 12.202160835266113\n"
     ]
    },
    {
     "ename": "KeyboardInterrupt",
     "evalue": "",
     "output_type": "error",
     "traceback": [
      "\u001b[0;31m---------------------------------------------------------------------------\u001b[0m",
      "\u001b[0;31mKeyboardInterrupt\u001b[0m                         Traceback (most recent call last)",
      "Cell \u001b[0;32mIn[19], line 34\u001b[0m\n\u001b[1;32m     31\u001b[0m net_ffn \u001b[38;5;241m=\u001b[39m FFN(sizes)\n\u001b[1;32m     33\u001b[0m \u001b[38;5;66;03m# Train the neural network\u001b[39;00m\n\u001b[0;32m---> 34\u001b[0m losses \u001b[38;5;241m=\u001b[39m \u001b[43mtrain_ffn_net\u001b[49m\u001b[43m(\u001b[49m\u001b[43mnet_ffn\u001b[49m\u001b[43m,\u001b[49m\u001b[43m \u001b[49m\u001b[43mt_train\u001b[49m\u001b[43m,\u001b[49m\u001b[43m \u001b[49m\u001b[43mx_train\u001b[49m\u001b[43m)\u001b[49m\n\u001b[1;32m     36\u001b[0m \u001b[38;5;66;03m# Plot the training loss\u001b[39;00m\n\u001b[1;32m     37\u001b[0m plt\u001b[38;5;241m.\u001b[39mplot(losses)\n",
      "Cell \u001b[0;32mIn[19], line 11\u001b[0m, in \u001b[0;36mtrain_ffn_net\u001b[0;34m(net_ffn, t_train, x_train, epochs, lr)\u001b[0m\n\u001b[1;32m      9\u001b[0m optimizer\u001b[38;5;241m.\u001b[39mzero_grad()\n\u001b[1;32m     10\u001b[0m a_pred \u001b[38;5;241m=\u001b[39m net_ffn(torch\u001b[38;5;241m.\u001b[39mcat((t_train\u001b[38;5;241m.\u001b[39munsqueeze(\u001b[38;5;241m1\u001b[39m), x_train\u001b[38;5;241m.\u001b[39msqueeze(\u001b[38;5;241m1\u001b[39m)), dim\u001b[38;5;241m=\u001b[39m\u001b[38;5;241m1\u001b[39m))  \u001b[38;5;66;03m# Predict markov control\u001b[39;00m\n\u001b[0;32m---> 11\u001b[0m loss \u001b[38;5;241m=\u001b[39m loss \u001b[38;5;241m=\u001b[39m criterion(a_pred, \u001b[43mlqr_system\u001b[49m\u001b[38;5;241;43m.\u001b[39;49m\u001b[43mmarkov_control\u001b[49m\u001b[43m(\u001b[49m\u001b[43mt_train\u001b[49m\u001b[43m,\u001b[49m\u001b[43m \u001b[49m\u001b[43mx_train\u001b[49m\u001b[43m)\u001b[49m)\n\u001b[1;32m     12\u001b[0m loss\u001b[38;5;241m.\u001b[39mbackward()\n\u001b[1;32m     13\u001b[0m optimizer\u001b[38;5;241m.\u001b[39mstep()\n",
      "Cell \u001b[0;32mIn[2], line 53\u001b[0m, in \u001b[0;36mLQR.markov_control\u001b[0;34m(self, t_batch, x_batch)\u001b[0m\n\u001b[1;32m     51\u001b[0m \u001b[38;5;28;01mfor\u001b[39;00m t \u001b[38;5;129;01min\u001b[39;00m \u001b[38;5;28mrange\u001b[39m(\u001b[38;5;28mlen\u001b[39m(t_batch)):\n\u001b[1;32m     52\u001b[0m     time_grid \u001b[38;5;241m=\u001b[39m torch\u001b[38;5;241m.\u001b[39mlinspace(\u001b[38;5;28mfloat\u001b[39m(t_batch[t]), \u001b[38;5;28mself\u001b[39m\u001b[38;5;241m.\u001b[39mT, \u001b[38;5;241m1000\u001b[39m, dtype\u001b[38;5;241m=\u001b[39mtorch\u001b[38;5;241m.\u001b[39mfloat32)\n\u001b[0;32m---> 53\u001b[0m     S \u001b[38;5;241m=\u001b[39m \u001b[38;5;28;43mself\u001b[39;49m\u001b[38;5;241;43m.\u001b[39;49m\u001b[43msolve_ricatti_ode\u001b[49m\u001b[43m(\u001b[49m\u001b[43mtime_grid\u001b[49m\u001b[43m)\u001b[49m\u001b[38;5;241m.\u001b[39mT\u001b[38;5;241m.\u001b[39mreshape(\u001b[38;5;28mlen\u001b[39m(time_grid),\u001b[38;5;241m2\u001b[39m,\u001b[38;5;241m2\u001b[39m)\u001b[38;5;241m.\u001b[39mfloat()\n\u001b[1;32m     54\u001b[0m     S_ordered \u001b[38;5;241m=\u001b[39mtorch\u001b[38;5;241m.\u001b[39mflip(S,dims\u001b[38;5;241m=\u001b[39m[\u001b[38;5;241m0\u001b[39m])\n\u001b[1;32m     55\u001b[0m     x_batch_n \u001b[38;5;241m=\u001b[39m x_batch[t]\n",
      "Cell \u001b[0;32mIn[2], line 27\u001b[0m, in \u001b[0;36mLQR.solve_ricatti_ode\u001b[0;34m(self, time_grid)\u001b[0m\n\u001b[1;32m     23\u001b[0m \u001b[38;5;66;03m# Time points (reversed for backward integration)\u001b[39;00m\n\u001b[1;32m     24\u001b[0m \u001b[38;5;66;03m# t_points = np.linspace(0, self.T, 1000)[::-1]  \u001b[39;00m\n\u001b[1;32m     25\u001b[0m intial_cond \u001b[38;5;241m=\u001b[39m \u001b[38;5;28mself\u001b[39m\u001b[38;5;241m.\u001b[39mR\u001b[38;5;241m.\u001b[39mflatten()\u001b[38;5;241m.\u001b[39mdetach()\u001b[38;5;241m.\u001b[39mnumpy()\n\u001b[0;32m---> 27\u001b[0m sol \u001b[38;5;241m=\u001b[39m \u001b[43msolve_ivp\u001b[49m\u001b[43m(\u001b[49m\n\u001b[1;32m     28\u001b[0m \u001b[43m    \u001b[49m\u001b[38;5;28;43mself\u001b[39;49m\u001b[38;5;241;43m.\u001b[39;49m\u001b[43mriccati_ode\u001b[49m\u001b[43m,\u001b[49m\u001b[43m \u001b[49m\u001b[43m[\u001b[49m\u001b[38;5;28;43mself\u001b[39;49m\u001b[38;5;241;43m.\u001b[39;49m\u001b[43mT\u001b[49m\u001b[38;5;241;43m.\u001b[39;49m\u001b[43mitem\u001b[49m\u001b[43m(\u001b[49m\u001b[43m)\u001b[49m\u001b[43m,\u001b[49m\u001b[43m \u001b[49m\u001b[43mtime_grid\u001b[49m\u001b[43m[\u001b[49m\u001b[38;5;241;43m0\u001b[39;49m\u001b[43m]\u001b[49m\u001b[38;5;241;43m.\u001b[39;49m\u001b[43mitem\u001b[49m\u001b[43m(\u001b[49m\u001b[43m)\u001b[49m\u001b[43m]\u001b[49m\u001b[43m,\u001b[49m\u001b[43m \u001b[49m\n\u001b[1;32m     29\u001b[0m \u001b[43m    \u001b[49m\u001b[43mintial_cond\u001b[49m\u001b[43m,\u001b[49m\u001b[43m \u001b[49m\u001b[43mt_eval\u001b[49m\u001b[38;5;241;43m=\u001b[39;49m\u001b[43mtime_grid\u001b[49m\u001b[38;5;241;43m.\u001b[39;49m\u001b[43mnumpy\u001b[49m\u001b[43m(\u001b[49m\u001b[43m)\u001b[49m\u001b[43m[\u001b[49m\u001b[43m:\u001b[49m\u001b[43m:\u001b[49m\u001b[38;5;241;43m-\u001b[39;49m\u001b[38;5;241;43m1\u001b[39;49m\u001b[43m]\u001b[49m\u001b[43m,\u001b[49m\u001b[43m \u001b[49m\u001b[43mmethod\u001b[49m\u001b[38;5;241;43m=\u001b[39;49m\u001b[38;5;124;43m'\u001b[39;49m\u001b[38;5;124;43mRK45\u001b[39;49m\u001b[38;5;124;43m'\u001b[39;49m\n\u001b[1;32m     30\u001b[0m \u001b[43m    \u001b[49m\u001b[43m)\u001b[49m\n\u001b[1;32m     32\u001b[0m S \u001b[38;5;241m=\u001b[39m torch\u001b[38;5;241m.\u001b[39mtensor(sol\u001b[38;5;241m.\u001b[39my)\n\u001b[1;32m     34\u001b[0m \u001b[38;5;28;01mreturn\u001b[39;00m S\n",
      "File \u001b[0;32m~/.local/lib/python3.10/site-packages/scipy/integrate/_ivp/ivp.py:650\u001b[0m, in \u001b[0;36msolve_ivp\u001b[0;34m(fun, t_span, y0, method, t_eval, dense_output, events, vectorized, args, **options)\u001b[0m\n\u001b[1;32m    648\u001b[0m status \u001b[38;5;241m=\u001b[39m \u001b[38;5;28;01mNone\u001b[39;00m\n\u001b[1;32m    649\u001b[0m \u001b[38;5;28;01mwhile\u001b[39;00m status \u001b[38;5;129;01mis\u001b[39;00m \u001b[38;5;28;01mNone\u001b[39;00m:\n\u001b[0;32m--> 650\u001b[0m     message \u001b[38;5;241m=\u001b[39m \u001b[43msolver\u001b[49m\u001b[38;5;241;43m.\u001b[39;49m\u001b[43mstep\u001b[49m\u001b[43m(\u001b[49m\u001b[43m)\u001b[49m\n\u001b[1;32m    652\u001b[0m     \u001b[38;5;28;01mif\u001b[39;00m solver\u001b[38;5;241m.\u001b[39mstatus \u001b[38;5;241m==\u001b[39m \u001b[38;5;124m'\u001b[39m\u001b[38;5;124mfinished\u001b[39m\u001b[38;5;124m'\u001b[39m:\n\u001b[1;32m    653\u001b[0m         status \u001b[38;5;241m=\u001b[39m \u001b[38;5;241m0\u001b[39m\n",
      "File \u001b[0;32m~/.local/lib/python3.10/site-packages/scipy/integrate/_ivp/base.py:197\u001b[0m, in \u001b[0;36mOdeSolver.step\u001b[0;34m(self)\u001b[0m\n\u001b[1;32m    195\u001b[0m \u001b[38;5;28;01melse\u001b[39;00m:\n\u001b[1;32m    196\u001b[0m     t \u001b[38;5;241m=\u001b[39m \u001b[38;5;28mself\u001b[39m\u001b[38;5;241m.\u001b[39mt\n\u001b[0;32m--> 197\u001b[0m     success, message \u001b[38;5;241m=\u001b[39m \u001b[38;5;28;43mself\u001b[39;49m\u001b[38;5;241;43m.\u001b[39;49m\u001b[43m_step_impl\u001b[49m\u001b[43m(\u001b[49m\u001b[43m)\u001b[49m\n\u001b[1;32m    199\u001b[0m     \u001b[38;5;28;01mif\u001b[39;00m \u001b[38;5;129;01mnot\u001b[39;00m success:\n\u001b[1;32m    200\u001b[0m         \u001b[38;5;28mself\u001b[39m\u001b[38;5;241m.\u001b[39mstatus \u001b[38;5;241m=\u001b[39m \u001b[38;5;124m'\u001b[39m\u001b[38;5;124mfailed\u001b[39m\u001b[38;5;124m'\u001b[39m\n",
      "File \u001b[0;32m~/.local/lib/python3.10/site-packages/scipy/integrate/_ivp/rk.py:144\u001b[0m, in \u001b[0;36mRungeKutta._step_impl\u001b[0;34m(self)\u001b[0m\n\u001b[1;32m    141\u001b[0m h \u001b[38;5;241m=\u001b[39m t_new \u001b[38;5;241m-\u001b[39m t\n\u001b[1;32m    142\u001b[0m h_abs \u001b[38;5;241m=\u001b[39m np\u001b[38;5;241m.\u001b[39mabs(h)\n\u001b[0;32m--> 144\u001b[0m y_new, f_new \u001b[38;5;241m=\u001b[39m \u001b[43mrk_step\u001b[49m\u001b[43m(\u001b[49m\u001b[38;5;28;43mself\u001b[39;49m\u001b[38;5;241;43m.\u001b[39;49m\u001b[43mfun\u001b[49m\u001b[43m,\u001b[49m\u001b[43m \u001b[49m\u001b[43mt\u001b[49m\u001b[43m,\u001b[49m\u001b[43m \u001b[49m\u001b[43my\u001b[49m\u001b[43m,\u001b[49m\u001b[43m \u001b[49m\u001b[38;5;28;43mself\u001b[39;49m\u001b[38;5;241;43m.\u001b[39;49m\u001b[43mf\u001b[49m\u001b[43m,\u001b[49m\u001b[43m \u001b[49m\u001b[43mh\u001b[49m\u001b[43m,\u001b[49m\u001b[43m \u001b[49m\u001b[38;5;28;43mself\u001b[39;49m\u001b[38;5;241;43m.\u001b[39;49m\u001b[43mA\u001b[49m\u001b[43m,\u001b[49m\n\u001b[1;32m    145\u001b[0m \u001b[43m                       \u001b[49m\u001b[38;5;28;43mself\u001b[39;49m\u001b[38;5;241;43m.\u001b[39;49m\u001b[43mB\u001b[49m\u001b[43m,\u001b[49m\u001b[43m \u001b[49m\u001b[38;5;28;43mself\u001b[39;49m\u001b[38;5;241;43m.\u001b[39;49m\u001b[43mC\u001b[49m\u001b[43m,\u001b[49m\u001b[43m \u001b[49m\u001b[38;5;28;43mself\u001b[39;49m\u001b[38;5;241;43m.\u001b[39;49m\u001b[43mK\u001b[49m\u001b[43m)\u001b[49m\n\u001b[1;32m    146\u001b[0m scale \u001b[38;5;241m=\u001b[39m atol \u001b[38;5;241m+\u001b[39m np\u001b[38;5;241m.\u001b[39mmaximum(np\u001b[38;5;241m.\u001b[39mabs(y), np\u001b[38;5;241m.\u001b[39mabs(y_new)) \u001b[38;5;241m*\u001b[39m rtol\n\u001b[1;32m    147\u001b[0m error_norm \u001b[38;5;241m=\u001b[39m \u001b[38;5;28mself\u001b[39m\u001b[38;5;241m.\u001b[39m_estimate_error_norm(\u001b[38;5;28mself\u001b[39m\u001b[38;5;241m.\u001b[39mK, h, scale)\n",
      "File \u001b[0;32m~/.local/lib/python3.10/site-packages/scipy/integrate/_ivp/rk.py:64\u001b[0m, in \u001b[0;36mrk_step\u001b[0;34m(fun, t, y, f, h, A, B, C, K)\u001b[0m\n\u001b[1;32m     62\u001b[0m \u001b[38;5;28;01mfor\u001b[39;00m s, (a, c) \u001b[38;5;129;01min\u001b[39;00m \u001b[38;5;28menumerate\u001b[39m(\u001b[38;5;28mzip\u001b[39m(A[\u001b[38;5;241m1\u001b[39m:], C[\u001b[38;5;241m1\u001b[39m:]), start\u001b[38;5;241m=\u001b[39m\u001b[38;5;241m1\u001b[39m):\n\u001b[1;32m     63\u001b[0m     dy \u001b[38;5;241m=\u001b[39m np\u001b[38;5;241m.\u001b[39mdot(K[:s]\u001b[38;5;241m.\u001b[39mT, a[:s]) \u001b[38;5;241m*\u001b[39m h\n\u001b[0;32m---> 64\u001b[0m     K[s] \u001b[38;5;241m=\u001b[39m \u001b[43mfun\u001b[49m\u001b[43m(\u001b[49m\u001b[43mt\u001b[49m\u001b[43m \u001b[49m\u001b[38;5;241;43m+\u001b[39;49m\u001b[43m \u001b[49m\u001b[43mc\u001b[49m\u001b[43m \u001b[49m\u001b[38;5;241;43m*\u001b[39;49m\u001b[43m \u001b[49m\u001b[43mh\u001b[49m\u001b[43m,\u001b[49m\u001b[43m \u001b[49m\u001b[43my\u001b[49m\u001b[43m \u001b[49m\u001b[38;5;241;43m+\u001b[39;49m\u001b[43m \u001b[49m\u001b[43mdy\u001b[49m\u001b[43m)\u001b[49m\n\u001b[1;32m     66\u001b[0m y_new \u001b[38;5;241m=\u001b[39m y \u001b[38;5;241m+\u001b[39m h \u001b[38;5;241m*\u001b[39m np\u001b[38;5;241m.\u001b[39mdot(K[:\u001b[38;5;241m-\u001b[39m\u001b[38;5;241m1\u001b[39m]\u001b[38;5;241m.\u001b[39mT, B)\n\u001b[1;32m     67\u001b[0m f_new \u001b[38;5;241m=\u001b[39m fun(t \u001b[38;5;241m+\u001b[39m h, y_new)\n",
      "File \u001b[0;32m~/.local/lib/python3.10/site-packages/scipy/integrate/_ivp/base.py:154\u001b[0m, in \u001b[0;36mOdeSolver.__init__.<locals>.fun\u001b[0;34m(t, y)\u001b[0m\n\u001b[1;32m    152\u001b[0m \u001b[38;5;28;01mdef\u001b[39;00m \u001b[38;5;21mfun\u001b[39m(t, y):\n\u001b[1;32m    153\u001b[0m     \u001b[38;5;28mself\u001b[39m\u001b[38;5;241m.\u001b[39mnfev \u001b[38;5;241m+\u001b[39m\u001b[38;5;241m=\u001b[39m \u001b[38;5;241m1\u001b[39m\n\u001b[0;32m--> 154\u001b[0m     \u001b[38;5;28;01mreturn\u001b[39;00m \u001b[38;5;28;43mself\u001b[39;49m\u001b[38;5;241;43m.\u001b[39;49m\u001b[43mfun_single\u001b[49m\u001b[43m(\u001b[49m\u001b[43mt\u001b[49m\u001b[43m,\u001b[49m\u001b[43m \u001b[49m\u001b[43my\u001b[49m\u001b[43m)\u001b[49m\n",
      "File \u001b[0;32m~/.local/lib/python3.10/site-packages/scipy/integrate/_ivp/base.py:23\u001b[0m, in \u001b[0;36mcheck_arguments.<locals>.fun_wrapped\u001b[0;34m(t, y)\u001b[0m\n\u001b[1;32m     22\u001b[0m \u001b[38;5;28;01mdef\u001b[39;00m \u001b[38;5;21mfun_wrapped\u001b[39m(t, y):\n\u001b[0;32m---> 23\u001b[0m     \u001b[38;5;28;01mreturn\u001b[39;00m np\u001b[38;5;241m.\u001b[39masarray(\u001b[43mfun\u001b[49m\u001b[43m(\u001b[49m\u001b[43mt\u001b[49m\u001b[43m,\u001b[49m\u001b[43m \u001b[49m\u001b[43my\u001b[49m\u001b[43m)\u001b[49m, dtype\u001b[38;5;241m=\u001b[39mdtype)\n",
      "Cell \u001b[0;32mIn[2], line 14\u001b[0m, in \u001b[0;36mLQR.riccati_ode\u001b[0;34m(self, t, S_flat)\u001b[0m\n\u001b[1;32m     12\u001b[0m \u001b[38;5;28;01mdef\u001b[39;00m \u001b[38;5;21mriccati_ode\u001b[39m(\u001b[38;5;28mself\u001b[39m, t, S_flat):\n\u001b[1;32m     13\u001b[0m     S \u001b[38;5;241m=\u001b[39m torch\u001b[38;5;241m.\u001b[39mtensor(S_flat, dtype\u001b[38;5;241m=\u001b[39mtorch\u001b[38;5;241m.\u001b[39mfloat32)\u001b[38;5;241m.\u001b[39mreshape((\u001b[38;5;241m2\u001b[39m, \u001b[38;5;241m2\u001b[39m))  \u001b[38;5;66;03m# Convert S_flat to a PyTorch tensor\u001b[39;00m\n\u001b[0;32m---> 14\u001b[0m     dS \u001b[38;5;241m=\u001b[39m (\u001b[38;5;241m-\u001b[39m\u001b[38;5;241m2\u001b[39m \u001b[38;5;241m*\u001b[39m (\u001b[38;5;28mself\u001b[39m\u001b[38;5;241m.\u001b[39mH\u001b[38;5;241m.\u001b[39mt() \u001b[38;5;241m@\u001b[39m S) \u001b[38;5;241m+\u001b[39m S \u001b[38;5;241m@\u001b[39m (\u001b[38;5;28mself\u001b[39m\u001b[38;5;241m.\u001b[39mM) \u001b[38;5;241m@\u001b[39m (\u001b[43mtorch\u001b[49m\u001b[38;5;241;43m.\u001b[39;49m\u001b[43minverse\u001b[49m\u001b[43m(\u001b[49m\u001b[38;5;28;43mself\u001b[39;49m\u001b[38;5;241;43m.\u001b[39;49m\u001b[43mD\u001b[49m\u001b[43m)\u001b[49m) \u001b[38;5;241m@\u001b[39m (np\u001b[38;5;241m.\u001b[39mtranspose(\u001b[38;5;28mself\u001b[39m\u001b[38;5;241m.\u001b[39mM)) \u001b[38;5;241m@\u001b[39m S \u001b[38;5;241m-\u001b[39m \u001b[38;5;28mself\u001b[39m\u001b[38;5;241m.\u001b[39mC)\n\u001b[1;32m     15\u001b[0m     \u001b[38;5;28;01mreturn\u001b[39;00m dS\u001b[38;5;241m.\u001b[39mflatten()\u001b[38;5;241m.\u001b[39mdetach()\u001b[38;5;241m.\u001b[39mnumpy()\n",
      "\u001b[0;31mKeyboardInterrupt\u001b[0m: "
     ]
    }
   ],
   "source": [
    "# Function to train the neural network\n",
    "def train_ffn_net(net_ffn, t_train, x_train, epochs=1000, lr=0.001):\n",
    "    optimizer = optim.Adam(net_ffn.parameters(), lr=lr)\n",
    "    criterion = nn.MSELoss()\n",
    "\n",
    "    losses = []\n",
    "\n",
    "    for epoch in range(epochs):\n",
    "        optimizer.zero_grad()\n",
    "        a_pred = net_ffn(torch.cat((t_train.unsqueeze(1), x_train.squeeze(1)), dim=1))  # Predict markov control\n",
    "        loss = loss = criterion(a_pred, lqr_system.markov_control(t_train, x_train))\n",
    "        loss.backward()\n",
    "        optimizer.step()\n",
    "        losses.append(loss.item())\n",
    "\n",
    "        if epoch % 100 == 0:\n",
    "            print(f'Epoch {epoch}, Loss: {loss.item()}')\n",
    "\n",
    "    return losses\n",
    "\n",
    "# Generate training data\n",
    "T = 10\n",
    "num_samples = 10\n",
    "t_train, x_train = generate_training_data(T, num_samples)\n",
    "print(lqr_system.markov_control(t_train, x_train))\n",
    "\n",
    "# Define the sizes for the FFN network\n",
    "sizes = [3, 100, 100, 2]  # Input size is 3 (time + 2 coordinates), 2 hidden layers of size 100, output size is 2\n",
    "\n",
    "# Initialize the neural network\n",
    "net_ffn = FFN(sizes)\n",
    "\n",
    "# Train the neural network\n",
    "losses = train_ffn_net(net_ffn, t_train, x_train)\n",
    "\n",
    "# Plot the training loss\n",
    "plt.plot(losses)\n",
    "plt.xlabel('Epochs')\n",
    "plt.ylabel('Loss')\n",
    "plt.title('Training Loss')\n",
    "plt.show()\n"
   ]
  },
  {
   "cell_type": "code",
   "execution_count": 31,
   "metadata": {},
   "outputs": [
    {
     "name": "stdout",
     "output_type": "stream",
     "text": [
      "Epoch 0, Loss: 6.861960411071777\n"
     ]
    },
    {
     "name": "stdout",
     "output_type": "stream",
     "text": [
      "Epoch 100, Loss: 0.6041156053543091\n",
      "Epoch 200, Loss: 0.30040645599365234\n",
      "Epoch 300, Loss: 0.19145485758781433\n",
      "Epoch 400, Loss: 0.16363002359867096\n",
      "Epoch 500, Loss: 0.13272318243980408\n",
      "Epoch 600, Loss: 0.15787187218666077\n",
      "Epoch 700, Loss: 0.151045024394989\n",
      "Epoch 800, Loss: 0.13512670993804932\n",
      "Epoch 900, Loss: 0.1438732147216797\n"
     ]
    }
   ],
   "source": [
    "class PDE():\n",
    "    def __init__(self, net, T, sigma, H, M, C, D, R, alpha):\n",
    "        self.net = net\n",
    "        self.T = T\n",
    "        self.sigma = sigma\n",
    "        self.H = H\n",
    "        self.M = M\n",
    "        self.C = C\n",
    "        self.D = D\n",
    "        self.R = R\n",
    "        self.alpha = alpha\n",
    "    \n",
    "    def pde_residual(self, t, x):\n",
    "        t.requires_grad_(True)\n",
    "        x.requires_grad_(True)\n",
    "        \n",
    "        u = self.net(t, x)  \n",
    "        u_x = torch.autograd.grad(u, x, grad_outputs=torch.ones_like(u), create_graph=True)[0]\n",
    "        u_xx = torch.autograd.grad(u_x, x, grad_outputs=torch.ones_like(u_x), create_graph=True)[0]\n",
    "        u_t = torch.autograd.grad(u, t, grad_outputs=torch.ones_like(u), create_graph=True)[0]\n",
    "\n",
    "        # Compute the trace term\n",
    "        trace_term = 0.5 * torch.trace(torch.matmul(self.sigma, self.sigma.T)) * u_xx.sum(dim=1, keepdim=True)  # (batch, 1)\n",
    "        t1 = (u_x @ self.H @ x.T).sum(dim=1).unsqueeze(1)\n",
    "        t2 = (torch.matmul(u_x, torch.matmul(self.M, self.alpha.T))).T.unsqueeze(1)\n",
    "        t3 = (torch.matmul(x, torch.matmul(self.C, x.T)).sum(dim=1)).unsqueeze(1)\n",
    "        t4 = torch.matmul(self.alpha.T, torch.matmul(self.D, self.alpha)).expand_as(trace_term)\n",
    "\n",
    "        # Compute the PDE residual term\n",
    "        pde_res = (\n",
    "            u_t + trace_term + t1 + t2 + t3 + t4\n",
    "        )\n",
    "\n",
    "        return pde_res\n",
    "\n",
    "    def boundary_condition(self, x):\n",
    "        # Compute the boundary condition term\n",
    "        t = torch.full_like(x[:, :1], self.T.item())  # Create a tensor of the same size as x with values T\n",
    "        u = self.net(t, x)  # Neural network output at the final time\n",
    "        cond = torch.matmul(x, torch.matmul(self.R, x.T)).unsqueeze(1)\n",
    "        boundary_term = torch.square(u - cond)\n",
    "        return boundary_term\n",
    "\n",
    "class DGM(nn.Module):\n",
    "    def __init__(self, input_dim, hidden_dim, output_dim):\n",
    "        super(DGM, self).__init__()\n",
    "        self.fc1 = nn.Linear(input_dim, hidden_dim)\n",
    "        self.fc2 = nn.Linear(hidden_dim, hidden_dim)\n",
    "        self.fc3 = nn.Linear(hidden_dim, output_dim)\n",
    "        self.activation = nn.Tanh()\n",
    "\n",
    "    def forward(self, t, x):\n",
    "        input_tensor = torch.cat((t, x), dim=1)\n",
    "        hidden1 = self.activation(self.fc1(input_tensor))\n",
    "        hidden2 = self.activation(self.fc2(hidden1))\n",
    "        output = self.fc3(hidden2)\n",
    "        return output\n",
    "\n",
    "def loss_function(u, t, x, linear_pde):\n",
    "    pde_residual = torch.abs(linear_pde.pde_residual(t, x))\n",
    "    boundary_term = torch.abs(linear_pde.boundary_condition(x))\n",
    "    loss = pde_residual.mean() + boundary_term.mean()  # Compute the mean loss\n",
    "    return loss\n",
    "\n",
    "def train_dgm(model, t_train, x_train, linear_pde, epochs, lr):\n",
    "    optimizer = optim.Adam(model.parameters(), lr=lr)\n",
    "    losses = []\n",
    "\n",
    "    for epoch in range(epochs):\n",
    "        optimizer.zero_grad()\n",
    "        u_pred = model(t_train, x_train)\n",
    "        loss = loss_function(u_pred, t_train, x_train, linear_pde)\n",
    "        loss.backward()\n",
    "        # torch_utils.clip_grad_norm_(model.parameters(), 1.0)\n",
    "        optimizer.step()\n",
    "        losses.append(loss.item())  # Store the loss value\n",
    "        if epoch % 100 == 0:\n",
    "            print(f'Epoch {epoch}, Loss: {loss.item()}')\n",
    "\n",
    "    return losses\n",
    "\n",
    "# Define hyperparameters\n",
    "input_dim = 3  # Input dimension (time, space_x, space_y)\n",
    "hidden_dim = 100  # Hidden layer dimension\n",
    "output_dim = 1  # Output dimension (solution)\n",
    "num_samples = 100  # Number of training samples\n",
    "T = torch.tensor([1], dtype=torch.float32)  # End time\n",
    "epochs = 1000  # Number of training epochs\n",
    "lr = 1e-4  # Learning rate\n",
    "alpha = torch.tensor([1.0, 1.0], dtype=torch.float32)\n",
    "\n",
    "# Initialize the DGM model\n",
    "model = DGM(input_dim, hidden_dim, output_dim)\n",
    "\n",
    "# Create an instance of the HeatEquation2D class\n",
    "linear_pde = PDE(model, T, sigma, H, M, C, D, R, alpha)\n",
    "\n",
    "# Generate training data\n",
    "t_train = torch.rand(num_samples, 1) * T\n",
    "x_train = torch.rand(num_samples, 2)  # Assuming 2D space\n",
    "\n",
    "# Train the DGM model\n",
    "losses = train_dgm(model, t_train, x_train, linear_pde, epochs, lr)\n",
    "\n"
   ]
  },
  {
   "cell_type": "code",
   "execution_count": 1,
   "metadata": {},
   "outputs": [
    {
     "ename": "NameError",
     "evalue": "name 'plt' is not defined",
     "output_type": "error",
     "traceback": [
      "\u001b[0;31m---------------------------------------------------------------------------\u001b[0m",
      "\u001b[0;31mNameError\u001b[0m                                 Traceback (most recent call last)",
      "Cell \u001b[0;32mIn[1], line 2\u001b[0m\n\u001b[1;32m      1\u001b[0m \u001b[38;5;66;03m# Plot the losses\u001b[39;00m\n\u001b[0;32m----> 2\u001b[0m \u001b[43mplt\u001b[49m\u001b[38;5;241m.\u001b[39mplot(\u001b[38;5;28mrange\u001b[39m(epochs), losses, label\u001b[38;5;241m=\u001b[39m\u001b[38;5;124m'\u001b[39m\u001b[38;5;124mTraining Loss\u001b[39m\u001b[38;5;124m'\u001b[39m)\n\u001b[1;32m      3\u001b[0m plt\u001b[38;5;241m.\u001b[39mxlabel(\u001b[38;5;124m'\u001b[39m\u001b[38;5;124mEpoch\u001b[39m\u001b[38;5;124m'\u001b[39m)\n\u001b[1;32m      4\u001b[0m plt\u001b[38;5;241m.\u001b[39mylabel(\u001b[38;5;124m'\u001b[39m\u001b[38;5;124mLoss\u001b[39m\u001b[38;5;124m'\u001b[39m)\n",
      "\u001b[0;31mNameError\u001b[0m: name 'plt' is not defined"
     ]
    }
   ],
   "source": [
    "# Plot the losses\n",
    "plt.plot(range(epochs), losses, label='Training Loss')\n",
    "plt.xlabel('Epoch')\n",
    "plt.ylabel('Loss')\n",
    "plt.title('Training Loss')\n",
    "plt.legend()\n",
    "plt.show()"
   ]
  },
  {
   "cell_type": "code",
   "execution_count": null,
   "metadata": {},
   "outputs": [],
   "source": [
    "# Function to compute the error between the model prediction and Monte Carlo solution\n",
    "def compute_error(model, t, x, alpha, R):\n",
    "    u_pred = model(t, x)\n",
    "    mc_solution = monte_carlo_solution(x, alpha, R)\n",
    "    error = torch.abs(u_pred - mc_solution)\n",
    "    return error\n",
    "\n",
    "\n",
    "# Plot the error against the Monte Carlo solution\n",
    "plt.subplot(1, 2, 2)\n",
    "plt.plot(range(0, epochs, interval), errors, label='Error')\n",
    "plt.xlabel('Epoch')\n",
    "plt.ylabel('Error')\n",
    "plt.title('Error against Monte Carlo Solution')\n",
    "plt.legend()\n",
    "\n",
    "plt.tight_layout()\n",
    "plt.show()"
   ]
  }
 ],
 "metadata": {
  "kernelspec": {
   "display_name": "Python 3 (ipykernel)",
   "language": "python",
   "name": "python3"
  },
  "language_info": {
   "codemirror_mode": {
    "name": "ipython",
    "version": 3
   },
   "file_extension": ".py",
   "mimetype": "text/x-python",
   "name": "python",
   "nbconvert_exporter": "python",
   "pygments_lexer": "ipython3",
   "version": "3.10.13"
  }
 },
 "nbformat": 4,
 "nbformat_minor": 2
}

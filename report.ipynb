{
 "cells": [
  {
   "cell_type": "markdown",
   "metadata": {},
   "source": [
    "# SCADAA Report"
   ]
  },
  {
   "cell_type": "code",
   "execution_count": 213,
   "metadata": {},
   "outputs": [],
   "source": [
    "import numpy as np\n",
    "from numpy.linalg import inv\n",
    "from scipy.integrate import odeint, solve_ivp, quad\n",
    "from scipy.interpolate import CubicSpline\n",
    "import matplotlib.pyplot as plt\n",
    "import torch\n",
    "import torch.nn as nn\n",
    "import torch.nn.functional as F\n",
    "import torch.optim as optim\n",
    "\n",
    "from exercise2 import DGM_Layer, Net_DGM\n",
    "from exercise2 import FFN\n"
   ]
  },
  {
   "cell_type": "markdown",
   "metadata": {},
   "source": [
    "## Exercise 1.1"
   ]
  },
  {
   "cell_type": "code",
   "execution_count": 245,
   "metadata": {},
   "outputs": [],
   "source": [
    "class LQR:\n",
    "    def __init__(self, H, M, sigma, alpha, alpha_s, C, D, R, T) -> None:\n",
    "        self.H = H \n",
    "        self.M = M\n",
    "        self.sigma = sigma\n",
    "        self.alpha = alpha \n",
    "        self.alpha_s = alpha_s\n",
    "        self.C = C \n",
    "        self.D = D \n",
    "        self.R = R\n",
    "        self.T = T\n",
    "    \n",
    "\n",
    "    def riccati_ode(self, t, S_flat):\n",
    "        S = torch.tensor(S_flat, dtype=torch.float32).reshape((2, 2))  # Convert S_flat to a PyTorch tensor\n",
    "        dS = (-2 * (self.H.t() @ S) + S @ (self.M) @ (torch.inverse(self.D)) @ (np.transpose(self.M)) @ S - self.C)\n",
    "        return dS.flatten().detach().numpy()\n",
    " \n",
    "\n",
    "    def solve_ricatti_ode(self, time_grid):\n",
    "        \"\"\"\n",
    "        Solves the LQR problem by integrating the \n",
    "        Riccati equation backwards in time.\n",
    "        \"\"\"\n",
    "        # Time points (reversed for backward integration)\n",
    "        # t_points = np.linspace(0, self.T, 1000)[::-1]  \n",
    "        intial_cond = self.R.flatten().detach().numpy()\n",
    "\n",
    "        sol = solve_ivp(\n",
    "            self.riccati_ode, [self.T.item(), time_grid[0].item()], \n",
    "            intial_cond, t_eval=time_grid.numpy()[::-1], method='RK45'\n",
    "            )\n",
    "        \n",
    "        S = torch.tensor(sol.y)\n",
    "\n",
    "        return S\n",
    "\n",
    "    def visualize_results(self, t_points, S):\n",
    "        \"\"\"\n",
    "        Visualizes the solution of the Riccati equation \n",
    "        or the state/control trajectories.\n",
    "        \"\"\"\n",
    "        # S_00 = [s[0, 0].item() for s in S]\n",
    "        plt.plot(t_points, S[0, :])\n",
    "        plt.xlabel('Time')\n",
    "        plt.ylabel('S[0,0]')\n",
    "        plt.title('Solution of Riccati Equation over Time')\n",
    "        plt.show()\n",
    "       \n",
    "\n",
    "    def markov_control(self, t_batch, x_batch):\n",
    "        a=torch.tensor([])\n",
    "        for t in range(len(t_batch)):\n",
    "            time_grid = torch.linspace(float(t_batch[t]), self.T, 1000, dtype=torch.float32)\n",
    "            S = self.solve_ricatti_ode(time_grid).T.reshape(len(time_grid),2,2).float()\n",
    "            S_ordered =torch.flip(S,dims=[0])\n",
    "            x_batch_n = x_batch[t]\n",
    "            a_ = -((torch.inverse(self.D.float()) @ self.M.T) @ S_ordered[0]) @ x_batch_n.T\n",
    "            a=torch.cat((a,a_.unsqueeze(0))) \n",
    "        return a.transpose(1,2)\n",
    "\n",
    "\n",
    "    def value_function(self, t_batch, x_batch):\n",
    "        v=torch.tensor([])\n",
    "        for t in range(len(t_batch)):\n",
    "            time_grid = torch.linspace(float(t_batch[t]), self.T, 1000, dtype=torch.float32)\n",
    "            S = self.solve_ricatti_ode(time_grid).T.reshape(len(time_grid),2,2).float()\n",
    "            S_ordered =torch.flip(S,dims=[0])\n",
    "            sigma = self.sigma\n",
    "            x_batch_n = x_batch[t]\n",
    "\n",
    "            # Compute the first term: x.transpose(S)x\n",
    "            x_S_x = torch.matmul(torch.matmul(x_batch_n, S_ordered[0]), x_batch_n.T).squeeze()\n",
    "\n",
    "        # Compute the integral term using Einstein summation notation with smaller time steps\n",
    "            integral_term = 0\n",
    "            for i in range(len(time_grid) - 1):\n",
    "                dt = time_grid[i + 1] - time_grid[i]\n",
    "                int_term=sigma@sigma.T@S_ordered[i]\n",
    "                trace_term = torch.einsum('bij->b',int_term.unsqueeze(0))\n",
    "                integral_term += trace_term * dt\n",
    "\n",
    "            # Compute the total value function: v(t, x) = x.transpose(S)x + trace_term\n",
    "            v=torch.cat((v,x_S_x + integral_term)) \n",
    "        return v\n"
   ]
  },
  {
   "cell_type": "code",
   "execution_count": 247,
   "metadata": {},
   "outputs": [
    {
     "data": {
      "image/png": "[encoded data removed]",
      "text/plain": [
       "<Figure size 640x480 with 1 Axes>"
      ]
     },
     "metadata": {},
     "output_type": "display_data"
    },
    {
     "name": "stdout",
     "output_type": "stream",
     "text": [
      "Optimal Markov Control:\n",
      "tensor([[[-2.4134, -4.8267]],\n",
      "\n",
      "        [[-2.4137,  0.0000]],\n",
      "\n",
      "        [[-7.2421, -4.8281]]])\n",
      "Value Function:\n",
      "tensor([56.5624, 45.4605, 73.4632])\n"
     ]
    }
   ],
   "source": [
    "# Example Usage:\n",
    "# Define problem matrices\n",
    "H = torch.tensor([[1, 0], [0, 1]], dtype=torch.float32)\n",
    "M = torch.tensor([[1, 0], [0, 1]], dtype=torch.float32)\n",
    "D = torch.tensor([[1, 0], [0, 1]], dtype=torch.float32)\n",
    "C = torch.tensor([[1, 0], [0, 1]], dtype=torch.float32)\n",
    "R = torch.tensor([[1, 0], [0, 1]], dtype=torch.float32)\n",
    "sigma = torch.tensor([[1, 0], [0, 1]], dtype=torch.float32)\n",
    "alpha = torch.tensor([[1, 0], [0, 1]], dtype=torch.float32)\n",
    "alpha_s = torch.tensor([[1, 0], [0, 1]], dtype=torch.float32)\n",
    "T = torch.tensor(10.0, dtype=torch.float32)\n",
    "\n",
    "# Initialize LQRController\n",
    "# controller = LQRController(H, M, D, C, R, T)\n",
    "\n",
    "# Define time grid\n",
    "time_grid = torch.linspace(0, T, 10000)\n",
    "\n",
    "lqr_system = LQR(H, M, sigma, alpha, alpha_s, C, D, R, T)\n",
    "S_solution = lqr_system.solve_ricatti_ode(time_grid)\n",
    "S_sol_v2 = S_solution.T.reshape(len(time_grid),2,2).float()\n",
    "S_sol_ordered =torch.flip(S_sol_v2,dims=[0])\n",
    "lqr_system.visualize_results(torch.flip(time_grid, [0]), S_solution)\n",
    "\n",
    "# Create sample input tensors\n",
    "t_batch = torch.tensor([0.5, 0.8, 1.0], dtype=torch.float32)  # Sample time values\n",
    "x_batch = torch.tensor([\n",
    "    [[1.0, 2.0]],  \n",
    "    [[1.0, 0.0]], \n",
    "    [[3.0, 2.0]]  \n",
    "], dtype=torch.float32)  # Sample spatial values\n",
    "\n",
    "# Compute the markov control\n",
    "markov_control = lqr_system.markov_control(t_batch, x_batch)\n",
    "\n",
    "# Print the computed value function\n",
    "print(\"Optimal Markov Control:\")\n",
    "print(markov_control)\n",
    "\n",
    "# Compute the value function\n",
    "value_func = lqr_system.value_function(t_batch, x_batch)\n",
    "\n",
    "# Print the computed value function\n",
    "print(\"Value Function:\")\n",
    "print(value_func)\n",
    "\n"
   ]
  },
  {
   "cell_type": "markdown",
   "metadata": {},
   "source": [
    "## Exercise 1.2"
   ]
  },
  {
   "cell_type": "markdown",
   "metadata": {},
   "source": [
    "1. Error"
   ]
  },
  {
   "cell_type": "markdown",
   "metadata": {},
   "source": [
    "2. Time"
   ]
  },
  {
   "cell_type": "code",
   "execution_count": 4,
   "metadata": {},
   "outputs": [],
   "source": [
    "#Create error function \n",
    "def calculate_error(X):\n",
    "    #We might want to have a better error function tbh\n",
    "    error = np.linalg.norm(X - np.zeros(X.shape))\n",
    "    return error"
   ]
  },
  {
   "cell_type": "code",
   "execution_count": 218,
   "metadata": {},
   "outputs": [],
   "source": [
    "\n",
    "#Initial Conditions\n",
    "H = torch.tensor([[1, 0], [0, 1]], dtype=torch.float32)\n",
    "M = torch.tensor([[1, 0], [0, 1]], dtype=torch.float32)\n",
    "sigma = torch.tensor([[1, 0], [0, 1]], dtype=torch.float32)\n",
    "D = torch.tensor([[1, 0], [0, 1]], dtype=torch.float32)\n",
    "T = torch.tensor(10.0, dtype=torch.float32)\n",
    "x0 = [0.0, 0.0]\n",
    "C = torch.tensor([[1, 0], [0, 1]], dtype=torch.float32)\n",
    "R = torch.tensor([[1, 0], [0, 1]], dtype=torch.float32)\n",
    "alpha = torch.tensor([[1, 0], [0, 1]], dtype=torch.float32) \n",
    "alpha_s = torch.tensor([[1, 0], [0, 1]], dtype=torch.float32)\n",
    "N_steps = 10\n",
    "N_samples = 10 # what is this for??\n",
    "\n",
    "# Define time grid\n",
    "time_grid_S = torch.linspace(0, T, 10000)\n",
    "lqr_system = LQR(H, M, sigma, alpha, alpha_s, C, D, R, T)\n",
    "S_solution = lqr_system.solve_ricatti_ode(time_grid_S)\n",
    "S_sol_v2 = S_solution.T.reshape(len(time_grid_S),2,2).float()\n",
    "S_sol_ordered =torch.flip(S_sol_v2,dims=[0])\n"
   ]
  },
  {
   "cell_type": "code",
   "execution_count": 198,
   "metadata": {},
   "outputs": [],
   "source": [
    "# NO \n",
    "# def generate_x(T, N_steps, H, M, D, S_solution, sigma, x0):\n",
    "#     # Convert inputs to PyTorch tensors if they are not already\n",
    "#     x0 = torch.tensor(x0, dtype=torch.float32)\n",
    "#     tau = T / N_steps\n",
    "#     S_matrices = [S_solution[:, i].view(2, 2) for i in range(S_solution.shape[1])]\n",
    "#     X = [x0]\n",
    "#     brownian = torch.tensor([np.random.normal() for _ in range(N_steps)], dtype=torch.float32)\n",
    "\n",
    "#     for i in range(N_steps-1):\n",
    "#         dw = brownian[i+1] - brownian[i]  # Brownian motion increment\n",
    "#         a_s = -torch.inverse(D) @ M.T @ S_matrices[i].float() @ X[-1]  # LQR control law\n",
    "#         print((M@a_s).size())\n",
    "#         next_val = X[-1] + tau * (H @ X[-1] + M @ a_s) + sigma * dw * torch.sqrt(torch.tensor(tau))\n",
    "#         X.append(next_val)\n",
    "\n",
    "#     return X\n",
    "\n",
    "\n",
    "\n",
    "# print(generate_x(T, N_steps, H.float(), M.float(), D.float(), S_solution.float(), sigma.float(), x0))\n",
    "\n",
    "\n"
   ]
  },
  {
   "cell_type": "code",
   "execution_count": 219,
   "metadata": {},
   "outputs": [
    {
     "name": "stdout",
     "output_type": "stream",
     "text": [
      "tensor([[[ 0.0000,  0.0000]],\n",
      "\n",
      "        [[-0.5384,  1.9224]],\n",
      "\n",
      "        [[ 1.3553, -1.6449]],\n",
      "\n",
      "        [[-0.1296,  0.8209]],\n",
      "\n",
      "        [[ 0.2725, -1.9032]],\n",
      "\n",
      "        [[-1.2254,  1.8653]],\n",
      "\n",
      "        [[-1.7944,  0.6546]],\n",
      "\n",
      "        [[ 2.9867,  0.3267]],\n",
      "\n",
      "        [[-1.2120, -2.9464]],\n",
      "\n",
      "        [[ 1.4272,  3.8920]]])\n"
     ]
    }
   ],
   "source": [
    "# X Generation\n",
    "def generate_x(T, N_steps, H, M, D, S_solution, sigma, x0):\n",
    "\n",
    "    x0 = torch.tensor(x0, dtype=torch.float32).view(2, 1) \n",
    "    tau = T / N_steps\n",
    "    X = x0.unsqueeze(0)\n",
    "    brownian = torch.randn(N_steps, 2, dtype=torch.float32)*torch.sqrt(tau)\n",
    "\n",
    "    for i in range(N_steps-1):\n",
    "        dw = (brownian[i+1] - brownian[i]).view(2, 1)  # Ensure dw is a 2x1 vector\n",
    "        # Calculate control action, ensuring it results in a 2x1 vector\n",
    "        a_s = -torch.inverse(D) @ M.T @ S_sol_ordered[i] @ X[-1]\n",
    "        # Update state, ensuring result is a 2x1 vector\n",
    "        next_val = X[-1] + tau * (H @ X[-1] + M @ a_s) + sigma @ dw  # Use matrix-vector product for sigma @ dw\n",
    "        \n",
    "        X=torch.cat((X,next_val.view(2, 1).unsqueeze(0))) # Ensure next_val remains a 2x1 column vector\n",
    "\n",
    "    return X.transpose(1,2)\n",
    "\n",
    "# Call the function with corrected inputs\n",
    "result = generate_x(T, N_steps, H.float(), M.float(), D.float(), S_solution.float(), sigma.float(), x0)\n",
    "print(result)"
   ]
  },
  {
   "cell_type": "markdown",
   "metadata": {},
   "source": [
    "### Exercise 1.2.1"
   ]
  },
  {
   "cell_type": "markdown",
   "metadata": {},
   "source": [
    "The error will be the difference between between the cost function and the value function, and this should converge for bigger time steps."
   ]
  },
  {
   "cell_type": "markdown",
   "metadata": {},
   "source": [
    "### Exercise 1.2.2"
   ]
  },
  {
   "cell_type": "code",
   "execution_count": 240,
   "metadata": {},
   "outputs": [],
   "source": [
    "# 1.2.2 CODE DO NOT RUN IN GITHUB IF USING N_SAMPLES=100000\n",
    "\n",
    "N_samples=100 #CHANGE FOR LOCAL RUNNING\n",
    "N_steps=[1, 10, 50, 100, 500, 1000, 5000]\n",
    "cost=torch.tensor([])\n",
    "S_sol_cs = CubicSpline(time_grid_S, S_sol_ordered)\n",
    "exp_cost=torch.tensor([])\n",
    "for t in range(len(N_steps)):\n",
    "    time_grid = torch.linspace(0, T, N_steps[t]+1)\n",
    "    dt= time_grid[1:]-time_grid[:-1]\n",
    "    S_sol_cs_vals = torch.tensor((S_sol_cs(time_grid.numpy())),dtype=torch.float32)\n",
    "    for i in range(N_samples):\n",
    "        result = generate_x(T, N_steps[t]+1, H.float(), M.float(), D.float(), S_sol_cs_vals.float(), sigma.float(), x0)\n",
    "        alp = (-torch.inverse(D) @ M.T @ S_sol_cs_vals @result.transpose(1,2)).transpose(1,2)\n",
    "        int_ = result@C@result.transpose(1,2) + alp@D@alp.transpose(1,2)\n",
    "        J = result[-1]@R@result[-1].T + torch.tensor(0.5)*dt@((int_.squeeze(1)[1:]+int_.squeeze(1)[:-1]))\n",
    "        cost=torch.cat((cost,J))\n",
    "    exp_cost=torch.cat((exp_cost,torch.mean(cost).unsqueeze(0)))"
   ]
  },
  {
   "cell_type": "code",
   "execution_count": 244,
   "metadata": {},
   "outputs": [
    {
     "name": "stdout",
     "output_type": "stream",
     "text": [
      "tensor([210.8784, 253.9343, 179.7162, 138.4247, 111.2973,  92.9770,  79.7338])\n"
     ]
    },
    {
     "data": {
      "image/png": "[encoded data removed]",
      "text/plain": [
       "<Figure size 640x480 with 1 Axes>"
      ]
     },
     "metadata": {},
     "output_type": "display_data"
    }
   ],
   "source": [
    "# OUR FIRST 1.2 BABY :D\n",
    "\n",
    "print(exp_cost) # why is the first one better than the second?\n",
    "t_batch = torch.tensor([[0]])\n",
    "x_batch = torch.tensor([[x0]],dtype=torch.float32).repeat(t_batch.shape[0],1,1)\n",
    "# Compute the value function for current conditions\n",
    "value_func = lqr_system.value_function(t_batch, x_batch)\n",
    "# Compute the error\n",
    "error=exp_cost-value_func\n",
    "\n",
    "#Plot the error\n",
    "plt.loglog(N_steps, error, marker='o', linestyle='-')\n",
    "plt.xlabel('Number of Steps')\n",
    "plt.ylabel('Error (Euclidean Distance from Target)')\n",
    "plt.title('Error vs. Number of Steps on a Log-Log Scale')\n",
    "plt.grid(True, which=\"both\", ls=\"--\")\n",
    "plt.show()"
   ]
  },
  {
   "cell_type": "markdown",
   "metadata": {},
   "source": [
    "Exercise 1.2.3"
   ]
  },
  {
   "cell_type": "code",
   "execution_count": null,
   "metadata": {},
   "outputs": [],
   "source": [
    "# 1.2.3 CODE DO NOT RUN IN GITHUB IF USING N_SAMPLES=100000\n",
    "\n",
    "#N_samples=[10, 50, 100, 500, 1000, 5000, 10000, 50000, 100000] #DO NOT RUN\n",
    "N_samples = [10,50,100]\n",
    "N_steps = 5000\n",
    "cost_samples = torch.tensor([])\n",
    "exp_cost_samples = torch.tensor([])\n",
    "\n",
    "# Time grid specifications\n",
    "time_grid = torch.linspace(0, T, N_steps+1)\n",
    "dt = time_grid[1:]-time_grid[:-1]\n",
    "S_sol_cs_vals = torch.tensor((S_sol_cs(time_grid.numpy())),dtype=torch.float32)\n",
    "\n",
    "for j in range(len(N_samples)):\n",
    "    for i in range(N_samples[j]):\n",
    "        result = generate_x(T, N_steps+1, H.float(), M.float(), D.float(), S_sol_cs_vals.float(), sigma.float(), x0)\n",
    "\n",
    "        alp = (-torch.inverse(D) @ M.T @ S_sol_cs_vals @result.transpose(1,2)).transpose(1,2)\n",
    "        int_ = result@C@result.transpose(1,2) + alp@D@alp.transpose(1,2)\n",
    "\n",
    "        J = result[-1]@R@result[-1].T + torch.tensor(0.5)*dt@((int_.squeeze(1)[1:]+int_.squeeze(1)[:-1]))\n",
    "        cost_samples=torch.cat((cost_samples,J))\n",
    "    \n",
    "    exp_cost_samples=torch.cat((exp_cost_samples,torch.mean(cost).unsqueeze(0))"
   ]
  },
  {
   "cell_type": "code",
   "execution_count": null,
   "metadata": {},
   "outputs": [],
   "source": [
    "# OUR FIRST 1.2.3 BABY :D\n",
    "\n",
    "print(exp_cost_samples) # why is the first one better than the second?\n",
    "t_batch = torch.tensor([[0]])\n",
    "x_batch = torch.tensor([[x0]],dtype=torch.float32).repeat(t_batch.shape[0],1,1)\n",
    "\n",
    "# Compute the value function for current conditions\n",
    "value_func = lqr_system.value_function(t_batch, x_batch)\n",
    "\n",
    "# Compute the error\n",
    "error_samples = exp_cost_samples-value_func\n",
    "\n",
    "#Plot the error\n",
    "plt.loglog(N_samples, error_samples, marker='o', linestyle='-')\n",
    "plt.xlabel('Number of Steps')\n",
    "plt.ylabel('Error (Euclidean Distance from Target)')\n",
    "plt.title('Error vs. Number of Steps on a Log-Log Scale 1.2.3')\n",
    "plt.grid(True, which=\"both\", ls=\"--\")\n",
    "plt.show()"
   ]
  },
  {
   "cell_type": "markdown",
   "metadata": {},
   "source": [
    "Exercise 2"
   ]
  },
  {
   "cell_type": "code",
   "execution_count": 8,
   "metadata": {},
   "outputs": [],
   "source": [
    "# Function to generate training data\n",
    "def generate_training_data(T, num_samples):\n",
    "    # t = torch.tensor(np.random.uniform(0, T, num_samples), dtype=torch.float32)\n",
    "    t = torch.linspace(0, T, num_samples)\n",
    "    x = torch.tensor(np.random.uniform(-3, 3, (num_samples, 2)), dtype=torch.float32)\n",
    "    return t, x"
   ]
  },
  {
   "cell_type": "code",
   "execution_count": 9,
   "metadata": {},
   "outputs": [
    {
     "name": "stdout",
     "output_type": "stream",
     "text": [
      "tensor([ 3.1684, 10.7900, 16.9818, 10.6295, 10.6295, 10.6295, 10.6295, 33.0435,\n",
      "        11.3533, 18.5030])\n"
     ]
    },
    {
     "name": "stderr",
     "output_type": "stream",
     "text": [
      "/home/codespace/.local/lib/python3.10/site-packages/torch/nn/modules/loss.py:535: UserWarning: Using a target size (torch.Size([10])) that is different to the input size (torch.Size([10, 1])). This will likely lead to incorrect results due to broadcasting. Please ensure they have the same size.\n",
      "  return F.mse_loss(input, target, reduction=self.reduction)\n"
     ]
    },
    {
     "name": "stdout",
     "output_type": "stream",
     "text": [
      "Epoch 0, Loss: 240.37744140625\n",
      "Epoch 100, Loss: 57.05830001831055\n",
      "Epoch 200, Loss: 57.057247161865234\n",
      "Epoch 300, Loss: 57.05721664428711\n",
      "Epoch 400, Loss: 57.05719757080078\n",
      "Epoch 500, Loss: 57.057186126708984\n",
      "Epoch 600, Loss: 57.057167053222656\n",
      "Epoch 700, Loss: 57.057159423828125\n",
      "Epoch 800, Loss: 57.057159423828125\n",
      "Epoch 900, Loss: 57.057151794433594\n"
     ]
    },
    {
     "data": {
      "image/png": "[encoded data removed]",
      "text/plain": [
       "<Figure size 640x480 with 1 Axes>"
      ]
     },
     "metadata": {},
     "output_type": "display_data"
    }
   ],
   "source": [
    "# Function to train the neural network\n",
    "def train_net_dgm(net_dgm, t_train, x_train, epochs=1000, lr=0.001):\n",
    "    optimizer = optim.Adam(net_dgm.parameters(), lr=lr)\n",
    "    criterion = nn.MSELoss()\n",
    "\n",
    "    losses = []\n",
    "\n",
    "    for epoch in range(epochs):\n",
    "        optimizer.zero_grad()\n",
    "        v_pred = net_dgm(t_train.unsqueeze(1), x_train)  # Predict value function\n",
    "        loss = criterion(v_pred, lqr_system.value_function(t_train, x_train))  # Compute loss\n",
    "        loss.backward()\n",
    "        optimizer.step()\n",
    "        losses.append(loss.item())\n",
    "\n",
    "        if epoch % 100 == 0:\n",
    "            print(f'Epoch {epoch}, Loss: {loss.item()}')\n",
    "\n",
    "    return losses\n",
    "\n",
    "# Generate training data\n",
    "T = 10\n",
    "num_samples = 10\n",
    "t_train, x_train = generate_training_data(T, num_samples)\n",
    "print(lqr_system.value_function(t_train, x_train))\n",
    "\n",
    "# Initialize the neural network\n",
    "net_dgm = Net_DGM(dim_x=2, dim_S=100, hidden_size=100)\n",
    "\n",
    "# Train the neural network\n",
    "losses = train_net_dgm(net_dgm, t_train, x_train)\n",
    "\n",
    "# Plot the training loss\n",
    "plt.plot(losses)\n",
    "plt.xlabel('Epochs')\n",
    "plt.ylabel('Loss')\n",
    "plt.title('Training Loss')\n",
    "plt.show()\n"
   ]
  },
  {
   "cell_type": "code",
   "execution_count": 10,
   "metadata": {},
   "outputs": [
    {
     "name": "stdout",
     "output_type": "stream",
     "text": [
      "tensor([[ 3.4827,  4.2899],\n",
      "        [-2.7457, -2.7451],\n",
      "        [ 1.6053,  0.0000],\n",
      "        [ 0.0000,  0.0000],\n",
      "        [ 0.0000,  0.0000],\n",
      "        [ 0.0000,  0.0000],\n",
      "        [ 0.0000,  0.0000],\n",
      "        [ 0.0000,  2.7308],\n",
      "        [ 3.7653,  3.7618],\n",
      "        [-6.7597, -6.7601]])\n",
      "Epoch 0, Loss: 9.269732475280762\n",
      "Epoch 100, Loss: 0.12920208275318146\n",
      "Epoch 200, Loss: 0.02452228032052517\n",
      "Epoch 300, Loss: 0.013411189429461956\n",
      "Epoch 400, Loss: 0.006436525844037533\n",
      "Epoch 500, Loss: 0.0024765590205788612\n",
      "Epoch 600, Loss: 0.00069067144067958\n",
      "Epoch 700, Loss: 0.00013366555504035205\n",
      "Epoch 800, Loss: 1.91034450836014e-05\n",
      "Epoch 900, Loss: 2.2872930003359215e-06\n"
     ]
    },
    {
     "data": {
      "image/png": "[encoded data removed]",
      "text/plain": [
       "<Figure size 640x480 with 1 Axes>"
      ]
     },
     "metadata": {},
     "output_type": "display_data"
    }
   ],
   "source": [
    "# Function to train the neural network\n",
    "def train_ffn_net(net_ffn, t_train, x_train, epochs=1000, lr=0.001):\n",
    "    optimizer = optim.Adam(net_ffn.parameters(), lr=lr)\n",
    "    # criterion = nn.MSELoss()\n",
    "\n",
    "    losses = []\n",
    "\n",
    "    for epoch in range(epochs):\n",
    "        optimizer.zero_grad()\n",
    "        a_pred = net_ffn(torch.cat((t_train.unsqueeze(1), x_train), dim=1))  # Predict markov control\n",
    "        loss = loss = nn.MSELoss()(a_pred, lqr_system.markov_control(t_train, x_train))\n",
    "        loss.backward()\n",
    "        optimizer.step()\n",
    "        losses.append(loss.item())\n",
    "\n",
    "        if epoch % 100 == 0:\n",
    "            print(f'Epoch {epoch}, Loss: {loss.item()}')\n",
    "\n",
    "    return losses\n",
    "\n",
    "# Generate training data\n",
    "T = 10\n",
    "num_samples = 10\n",
    "t_train, x_train = generate_training_data(T, num_samples)\n",
    "print(lqr_system.markov_control(t_train, x_train))\n",
    "\n",
    "# Define the sizes for the FFN network\n",
    "sizes = [3, 100, 100, 2]  # Input size is 3 (time + 2 coordinates), 2 hidden layers of size 100, output size is 2\n",
    "\n",
    "# Initialize the neural network\n",
    "net_ffn = FFN(sizes)\n",
    "\n",
    "# Train the neural network\n",
    "losses = train_ffn_net(net_ffn, t_train, x_train)\n",
    "\n",
    "# Plot the training loss\n",
    "plt.plot(losses)\n",
    "plt.xlabel('Epochs')\n",
    "plt.ylabel('Loss')\n",
    "plt.title('Training Loss')\n",
    "plt.show()\n"
   ]
  },
  {
   "cell_type": "code",
   "execution_count": null,
   "metadata": {},
   "outputs": [],
   "source": [
    "class PDE():\n",
    "    def __init__(self, net, T, sigma, H, M, C, D, R, alpha):\n",
    "        self.net = net\n",
    "        self.T = T\n",
    "        self.sigma = sigma\n",
    "        self.H = H\n",
    "        self.M = M\n",
    "        self.C = C\n",
    "        self.D = D\n",
    "        self.R = R\n",
    "        self.alpha = alpha\n",
    "    \n",
    "    def pde_residual(self, t, x):\n",
    "        t.requires_grad_(True)\n",
    "        x.requires_grad_(True)\n",
    "        \n",
    "        u = self.net(t, x)  \n",
    "        u_x = torch.autograd.grad(u, x, grad_outputs=torch.ones_like(u), create_graph=True)[0]\n",
    "        u_xx = torch.autograd.grad(u_x, x, grad_outputs=torch.ones_like(u_x), create_graph=True)[0]\n",
    "        u_t = torch.autograd.grad(u, t, grad_outputs=torch.ones_like(u), create_graph=True)[0]\n",
    "\n",
    "        # Compute the PDE residual term\n",
    "        pde_res = (\n",
    "            u_t + 0.5 * (sigma @ sigma.T @ u_xx.T).trace()\n",
    "            + (u_x @ self.H @ x.T).sum()\n",
    "            + (u_x @ self.M @ self.alpha.T)\n",
    "            + (x @ (self.C @ x.T)).sum()\n",
    "            + (self.alpha @ (self.D @ self.alpha.T))\n",
    "        )\n",
    "\n",
    "        return pde_res\n",
    "\n",
    "    def boundary_condition(self, x):\n",
    "        # Compute the boundary condition term\n",
    "        u = self.net(self.T, x)  # Neural network output at the final time\n",
    "        boundary_term = torch.square(u - x @ self.R)\n",
    "        return boundary_term\n"
   ]
  },
  {
   "cell_type": "code",
   "execution_count": 11,
   "metadata": {},
   "outputs": [
    {
     "ename": "TypeError",
     "evalue": "diff(): argument 'n' (position 1) must be int, not Tensor",
     "output_type": "error",
     "traceback": [
      "\u001b[0;31m---------------------------------------------------------------------------\u001b[0m",
      "\u001b[0;31mTypeError\u001b[0m                                 Traceback (most recent call last)",
      "Cell \u001b[0;32mIn[11], line 73\u001b[0m\n\u001b[1;32m     70\u001b[0m model \u001b[38;5;241m=\u001b[39m DGM(input_dim, hidden_dim, output_dim)\n\u001b[1;32m     72\u001b[0m \u001b[38;5;66;03m# Train the DGM model\u001b[39;00m\n\u001b[0;32m---> 73\u001b[0m \u001b[43mtrain_dgm\u001b[49m\u001b[43m(\u001b[49m\u001b[43mmodel\u001b[49m\u001b[43m,\u001b[49m\u001b[43m \u001b[49m\u001b[43mt_train\u001b[49m\u001b[43m,\u001b[49m\u001b[43m \u001b[49m\u001b[43mx_train\u001b[49m\u001b[43m,\u001b[49m\u001b[43m \u001b[49m\u001b[43msigma\u001b[49m\u001b[43m,\u001b[49m\u001b[43m \u001b[49m\u001b[43mH\u001b[49m\u001b[43m,\u001b[49m\u001b[43m \u001b[49m\u001b[43mM\u001b[49m\u001b[43m,\u001b[49m\u001b[43m \u001b[49m\u001b[43mC\u001b[49m\u001b[43m,\u001b[49m\u001b[43m \u001b[49m\u001b[43mD\u001b[49m\u001b[43m,\u001b[49m\u001b[43m \u001b[49m\u001b[43mR\u001b[49m\u001b[43m,\u001b[49m\u001b[43m \u001b[49m\u001b[43mT\u001b[49m\u001b[43m,\u001b[49m\u001b[43m \u001b[49m\u001b[43mepochs\u001b[49m\u001b[43m,\u001b[49m\u001b[43m \u001b[49m\u001b[43mlr\u001b[49m\u001b[43m)\u001b[49m\n",
      "Cell \u001b[0;32mIn[11], line 50\u001b[0m, in \u001b[0;36mtrain_dgm\u001b[0;34m(model, t_train, x_train, sigma, H, M, C, D, R, T, epochs, lr)\u001b[0m\n\u001b[1;32m     48\u001b[0m optimizer\u001b[38;5;241m.\u001b[39mzero_grad()\n\u001b[1;32m     49\u001b[0m u_pred \u001b[38;5;241m=\u001b[39m model(t_train, x_train)\n\u001b[0;32m---> 50\u001b[0m loss \u001b[38;5;241m=\u001b[39m \u001b[43mloss_function\u001b[49m\u001b[43m(\u001b[49m\u001b[43mu_pred\u001b[49m\u001b[43m,\u001b[49m\u001b[43m \u001b[49m\u001b[43mt_train\u001b[49m\u001b[43m,\u001b[49m\u001b[43m \u001b[49m\u001b[43mx_train\u001b[49m\u001b[43m,\u001b[49m\u001b[43m \u001b[49m\u001b[43msigma\u001b[49m\u001b[43m,\u001b[49m\u001b[43m \u001b[49m\u001b[43mH\u001b[49m\u001b[43m,\u001b[49m\u001b[43m \u001b[49m\u001b[43mM\u001b[49m\u001b[43m,\u001b[49m\u001b[43m \u001b[49m\u001b[43mC\u001b[49m\u001b[43m,\u001b[49m\u001b[43m \u001b[49m\u001b[43mD\u001b[49m\u001b[43m,\u001b[49m\u001b[43m \u001b[49m\u001b[43mR\u001b[49m\u001b[43m,\u001b[49m\u001b[43m \u001b[49m\u001b[43mT\u001b[49m\u001b[43m)\u001b[49m\n\u001b[1;32m     51\u001b[0m loss\u001b[38;5;241m.\u001b[39mbackward()\n\u001b[1;32m     52\u001b[0m optimizer\u001b[38;5;241m.\u001b[39mstep()\n",
      "Cell \u001b[0;32mIn[11], line 29\u001b[0m, in \u001b[0;36mloss_function\u001b[0;34m(u, t, x, sigma, H, M, C, D, R, T)\u001b[0m\n\u001b[1;32m     26\u001b[0m \u001b[38;5;28;01mdef\u001b[39;00m \u001b[38;5;21mloss_function\u001b[39m(u, t, x, sigma, H, M, C, D, R, T):\n\u001b[1;32m     27\u001b[0m     \u001b[38;5;66;03m# Compute PDE residual term\u001b[39;00m\n\u001b[1;32m     28\u001b[0m     pde_residual \u001b[38;5;241m=\u001b[39m (\n\u001b[0;32m---> 29\u001b[0m         torch\u001b[38;5;241m.\u001b[39msquare(torch\u001b[38;5;241m.\u001b[39mmatmul(sigma, sigma\u001b[38;5;241m.\u001b[39mt())\u001b[38;5;241m.\u001b[39mtrace()) \u001b[38;5;241m/\u001b[39m \u001b[38;5;241m2\u001b[39m \u001b[38;5;241m*\u001b[39m torch\u001b[38;5;241m.\u001b[39mpow(\u001b[43mu\u001b[49m\u001b[38;5;241;43m.\u001b[39;49m\u001b[43mdiff\u001b[49m\u001b[43m(\u001b[49m\u001b[43mx\u001b[49m\u001b[43m,\u001b[49m\u001b[43m \u001b[49m\u001b[38;5;241;43m2\u001b[39;49m\u001b[43m)\u001b[49m, \u001b[38;5;241m2\u001b[39m) \u001b[38;5;241m+\u001b[39m\n\u001b[1;32m     30\u001b[0m         torch\u001b[38;5;241m.\u001b[39mmatmul(u\u001b[38;5;241m.\u001b[39mdiff(x), torch\u001b[38;5;241m.\u001b[39mmatmul(H, x)) \u001b[38;5;241m+\u001b[39m\n\u001b[1;32m     31\u001b[0m         torch\u001b[38;5;241m.\u001b[39mmatmul(u\u001b[38;5;241m.\u001b[39mdiff(x), torch\u001b[38;5;241m.\u001b[39mmatmul(M, torch\u001b[38;5;241m.\u001b[39mtensor([\u001b[38;5;241m1.0\u001b[39m, \u001b[38;5;241m1.0\u001b[39m]))) \u001b[38;5;241m+\u001b[39m\n\u001b[1;32m     32\u001b[0m         torch\u001b[38;5;241m.\u001b[39mmatmul(x, torch\u001b[38;5;241m.\u001b[39mmatmul(C, x\u001b[38;5;241m.\u001b[39mt())) \u001b[38;5;241m+\u001b[39m\n\u001b[1;32m     33\u001b[0m         torch\u001b[38;5;241m.\u001b[39mmatmul(torch\u001b[38;5;241m.\u001b[39mtensor([\u001b[38;5;241m1.0\u001b[39m, \u001b[38;5;241m1.0\u001b[39m]), torch\u001b[38;5;241m.\u001b[39mmatmul(D, torch\u001b[38;5;241m.\u001b[39mtensor([\u001b[38;5;241m1.0\u001b[39m, \u001b[38;5;241m1.0\u001b[39m])))\n\u001b[1;32m     34\u001b[0m     )\n\u001b[1;32m     36\u001b[0m     \u001b[38;5;66;03m# Compute boundary condition term\u001b[39;00m\n\u001b[1;32m     37\u001b[0m     boundary_condition \u001b[38;5;241m=\u001b[39m torch\u001b[38;5;241m.\u001b[39msquare(u \u001b[38;5;241m-\u001b[39m torch\u001b[38;5;241m.\u001b[39mmatmul(x, R))\n",
      "\u001b[0;31mTypeError\u001b[0m: diff(): argument 'n' (position 1) must be int, not Tensor"
     ]
    }
   ],
   "source": [
    "class DGM(nn.Module):\n",
    "    def __init__(self, input_dim, hidden_dim, output_dim):\n",
    "        super(DGM, self).__init__()\n",
    "        self.fc1 = nn.Linear(input_dim, hidden_dim)\n",
    "        self.fc2 = nn.Linear(hidden_dim, hidden_dim)\n",
    "        self.fc3 = nn.Linear(hidden_dim, output_dim)\n",
    "        self.activation = nn.Tanh()\n",
    "\n",
    "    def forward(self, t, x):\n",
    "        input_tensor = torch.cat((t, x), dim=1)\n",
    "        hidden1 = self.activation(self.fc1(input_tensor))\n",
    "        hidden2 = self.activation(self.fc2(hidden1))\n",
    "        output = self.fc3(hidden2)\n",
    "        return output\n",
    "\n",
    "def loss_function(u, t, x, linear_pde):\n",
    "    pde_residual = linear_pde.pde_residual(t, x)\n",
    "    boundary_term = linear_pde.boundary_condition(x)\n",
    "    loss = pde_residual.mean() + boundary_term.mean()  # Compute the mean loss\n",
    "    return loss\n",
    "\n",
    "def train_dgm(model, t_train, x_train, linear_pde, epochs, lr):\n",
    "    optimizer = optim.Adam(model.parameters(), lr=lr)\n",
    "    for epoch in range(epochs):\n",
    "        optimizer.zero_grad()\n",
    "        u_pred = model(t_train, x_train)\n",
    "        loss = loss_function(u_pred, t_train, x_train, linear_pde)\n",
    "        loss.backward()\n",
    "        optimizer.step()\n",
    "        if epoch % 100 == 0:\n",
    "            print(f'Epoch {epoch}, Loss: {loss.item()}')\n",
    "\n",
    "# Define hyperparameters\n",
    "input_dim = 3  # Input dimension (time, space_x, space_y)\n",
    "hidden_dim = 100  # Hidden layer dimension\n",
    "output_dim = 1  # Output dimension (solution)\n",
    "num_samples = 1000  # Number of training samples\n",
    "T = 1  # End time\n",
    "epochs = 1000  # Number of training epochs\n",
    "lr = 0.001  # Learning rate\n",
    "\n",
    "# Initialize the DGM model\n",
    "model = DGM(input_dim, hidden_dim, output_dim)\n",
    "\n",
    "# Create an instance of the HeatEquation2D class\n",
    "linear_pde = PDE(model, T, sigma, H, M, C, D, R, alpha)\n",
    "\n",
    "# Generate training data\n",
    "t_train = torch.rand(num_samples, 1) * T\n",
    "x_train = torch.rand(num_samples, 2)  # Assuming 2D space\n",
    "\n",
    "# Train the DGM model\n",
    "train_dgm(model, t_train, x_train, linear_pde, epochs, lr)\n"
   ]
  }
 ],
 "metadata": {
  "kernelspec": {
   "display_name": "Python 3 (ipykernel)",
   "language": "python",
   "name": "python3"
  },
  "language_info": {
   "codemirror_mode": {
    "name": "ipython",
    "version": 3
   },
   "file_extension": ".py",
   "mimetype": "text/x-python",
   "name": "python",
   "nbconvert_exporter": "python",
   "pygments_lexer": "ipython3",
   "version": "3.10.13"
  }
 },
 "nbformat": 4,
 "nbformat_minor": 2
}
